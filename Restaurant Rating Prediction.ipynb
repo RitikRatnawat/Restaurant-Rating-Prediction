{
 "cells": [
  {
   "cell_type": "markdown",
   "id": "demonstrated-browse",
   "metadata": {},
   "source": [
    "<center><h1>Restaurant Rating Prediction</h1></center>"
   ]
  },
  {
   "cell_type": "markdown",
   "id": "cooperative-wellington",
   "metadata": {},
   "source": [
    "<p><strong>Problem Statement : </strong>Given is a dataset containing the data about orders placed on zomato for the restaurants in Banglore. We have to predict the overall rating of the restaurant based on various factors.</p>"
   ]
  },
  {
   "cell_type": "markdown",
   "id": "65dfd2de",
   "metadata": {},
   "source": [
    "## Column Description"
   ]
  },
  {
   "cell_type": "markdown",
   "id": "a22f8698",
   "metadata": {},
   "source": [
    "<ul>\n",
    "<li>url: contains the url of the restaurant in the zomato website\n",
    "\n",
    "<li>address: contains the address of the restaurant in Bengaluru\n",
    "\n",
    "<li>name: contains the name of the restaurant\n",
    "\n",
    "<li>online_order: whether online ordering is available in the restaurant or not\n",
    "\n",
    "<li>book_table: table book option available or not\n",
    "\n",
    "<li>rate: contains the overall rating of the restaurant out of 5\n",
    "\n",
    "<li>votes: contains total number of rating for the restaurant as of the above mentioned date\n",
    "\n",
    "<li>phone: contains the phone number of the restaurant\n",
    "\n",
    "<li>location: contains the neighborhood in which the restaurant is located\n",
    "\n",
    "<li>rest_type: restaurant type\n",
    "\n",
    "<li>dish_liked: dishes people liked in the restaurant\n",
    "\n",
    "<li>cuisines: food styles, separated by comma\n",
    "\n",
    "<li>approx_cost(for two people): contains the approximate cost for meal for two people\n",
    "\n",
    "<li>reviews_list: list of tuples containing reviews for the restaurant, each tuple\n",
    "\n",
    "<li>menu_item: contains list of menus available in the restaurant\n",
    "\n",
    "<li>listed_in(type): type of meal\n",
    "\n",
    "<li>listed_in(city): contains the neighborhood in which the restaurant is listed\n",
    "    </ul>"
   ]
  },
  {
   "cell_type": "markdown",
   "id": "impaired-maine",
   "metadata": {},
   "source": [
    "## Importing Required Libraries"
   ]
  },
  {
   "cell_type": "code",
   "execution_count": 1,
   "id": "spiritual-kingdom",
   "metadata": {},
   "outputs": [],
   "source": [
    "import numpy as np                 # For Numerical Calculation              \n",
    "import pandas as pd                # For Data Manipulation\n",
    "import matplotlib.pyplot as plt    # For Data Visualization\n",
    "import seaborn as sns              # For Data Visualization\n",
    "%matplotlib inline\n",
    "\n",
    "sns.set()         # Setting styles of the plot to Seaborn"
   ]
  },
  {
   "cell_type": "code",
   "execution_count": 2,
   "id": "killing-impossible",
   "metadata": {},
   "outputs": [],
   "source": [
    "# Hide the warnings\n",
    "import warnings\n",
    "warnings.filterwarnings('ignore')"
   ]
  },
  {
   "cell_type": "markdown",
   "id": "latest-display",
   "metadata": {},
   "source": [
    "<br>"
   ]
  },
  {
   "cell_type": "markdown",
   "id": "african-begin",
   "metadata": {},
   "source": [
    "## Loading the Dataset"
   ]
  },
  {
   "cell_type": "code",
   "execution_count": 3,
   "id": "trying-spirituality",
   "metadata": {},
   "outputs": [
    {
     "data": {
      "text/html": [
       "<div>\n",
       "<style scoped>\n",
       "    .dataframe tbody tr th:only-of-type {\n",
       "        vertical-align: middle;\n",
       "    }\n",
       "\n",
       "    .dataframe tbody tr th {\n",
       "        vertical-align: top;\n",
       "    }\n",
       "\n",
       "    .dataframe thead th {\n",
       "        text-align: right;\n",
       "    }\n",
       "</style>\n",
       "<table border=\"1\" class=\"dataframe\">\n",
       "  <thead>\n",
       "    <tr style=\"text-align: right;\">\n",
       "      <th></th>\n",
       "      <th>url</th>\n",
       "      <th>address</th>\n",
       "      <th>name</th>\n",
       "      <th>online_order</th>\n",
       "      <th>book_table</th>\n",
       "      <th>rate</th>\n",
       "      <th>votes</th>\n",
       "      <th>phone</th>\n",
       "      <th>location</th>\n",
       "      <th>rest_type</th>\n",
       "      <th>dish_liked</th>\n",
       "      <th>cuisines</th>\n",
       "      <th>approx_cost(for two people)</th>\n",
       "      <th>reviews_list</th>\n",
       "      <th>menu_item</th>\n",
       "      <th>listed_in(type)</th>\n",
       "      <th>listed_in(city)</th>\n",
       "    </tr>\n",
       "  </thead>\n",
       "  <tbody>\n",
       "    <tr>\n",
       "      <th>0</th>\n",
       "      <td>https://www.zomato.com/bangalore/jalsa-banasha...</td>\n",
       "      <td>942, 21st Main Road, 2nd Stage, Banashankari, ...</td>\n",
       "      <td>Jalsa</td>\n",
       "      <td>Yes</td>\n",
       "      <td>Yes</td>\n",
       "      <td>4.1/5</td>\n",
       "      <td>775</td>\n",
       "      <td>080 42297555\\r\\n+91 9743772233</td>\n",
       "      <td>Banashankari</td>\n",
       "      <td>Casual Dining</td>\n",
       "      <td>Pasta, Lunch Buffet, Masala Papad, Paneer Laja...</td>\n",
       "      <td>North Indian, Mughlai, Chinese</td>\n",
       "      <td>800</td>\n",
       "      <td>[('Rated 4.0', 'RATED\\n  A beautiful place to ...</td>\n",
       "      <td>[]</td>\n",
       "      <td>Buffet</td>\n",
       "      <td>Banashankari</td>\n",
       "    </tr>\n",
       "    <tr>\n",
       "      <th>1</th>\n",
       "      <td>https://www.zomato.com/bangalore/spice-elephan...</td>\n",
       "      <td>2nd Floor, 80 Feet Road, Near Big Bazaar, 6th ...</td>\n",
       "      <td>Spice Elephant</td>\n",
       "      <td>Yes</td>\n",
       "      <td>No</td>\n",
       "      <td>4.1/5</td>\n",
       "      <td>787</td>\n",
       "      <td>080 41714161</td>\n",
       "      <td>Banashankari</td>\n",
       "      <td>Casual Dining</td>\n",
       "      <td>Momos, Lunch Buffet, Chocolate Nirvana, Thai G...</td>\n",
       "      <td>Chinese, North Indian, Thai</td>\n",
       "      <td>800</td>\n",
       "      <td>[('Rated 4.0', 'RATED\\n  Had been here for din...</td>\n",
       "      <td>[]</td>\n",
       "      <td>Buffet</td>\n",
       "      <td>Banashankari</td>\n",
       "    </tr>\n",
       "    <tr>\n",
       "      <th>2</th>\n",
       "      <td>https://www.zomato.com/SanchurroBangalore?cont...</td>\n",
       "      <td>1112, Next to KIMS Medical College, 17th Cross...</td>\n",
       "      <td>San Churro Cafe</td>\n",
       "      <td>Yes</td>\n",
       "      <td>No</td>\n",
       "      <td>3.8/5</td>\n",
       "      <td>918</td>\n",
       "      <td>+91 9663487993</td>\n",
       "      <td>Banashankari</td>\n",
       "      <td>Cafe, Casual Dining</td>\n",
       "      <td>Churros, Cannelloni, Minestrone Soup, Hot Choc...</td>\n",
       "      <td>Cafe, Mexican, Italian</td>\n",
       "      <td>800</td>\n",
       "      <td>[('Rated 3.0', \"RATED\\n  Ambience is not that ...</td>\n",
       "      <td>[]</td>\n",
       "      <td>Buffet</td>\n",
       "      <td>Banashankari</td>\n",
       "    </tr>\n",
       "    <tr>\n",
       "      <th>3</th>\n",
       "      <td>https://www.zomato.com/bangalore/addhuri-udupi...</td>\n",
       "      <td>1st Floor, Annakuteera, 3rd Stage, Banashankar...</td>\n",
       "      <td>Addhuri Udupi Bhojana</td>\n",
       "      <td>No</td>\n",
       "      <td>No</td>\n",
       "      <td>3.7/5</td>\n",
       "      <td>88</td>\n",
       "      <td>+91 9620009302</td>\n",
       "      <td>Banashankari</td>\n",
       "      <td>Quick Bites</td>\n",
       "      <td>Masala Dosa</td>\n",
       "      <td>South Indian, North Indian</td>\n",
       "      <td>300</td>\n",
       "      <td>[('Rated 4.0', \"RATED\\n  Great food and proper...</td>\n",
       "      <td>[]</td>\n",
       "      <td>Buffet</td>\n",
       "      <td>Banashankari</td>\n",
       "    </tr>\n",
       "    <tr>\n",
       "      <th>4</th>\n",
       "      <td>https://www.zomato.com/bangalore/grand-village...</td>\n",
       "      <td>10, 3rd Floor, Lakshmi Associates, Gandhi Baza...</td>\n",
       "      <td>Grand Village</td>\n",
       "      <td>No</td>\n",
       "      <td>No</td>\n",
       "      <td>3.8/5</td>\n",
       "      <td>166</td>\n",
       "      <td>+91 8026612447\\r\\n+91 9901210005</td>\n",
       "      <td>Basavanagudi</td>\n",
       "      <td>Casual Dining</td>\n",
       "      <td>Panipuri, Gol Gappe</td>\n",
       "      <td>North Indian, Rajasthani</td>\n",
       "      <td>600</td>\n",
       "      <td>[('Rated 4.0', 'RATED\\n  Very good restaurant ...</td>\n",
       "      <td>[]</td>\n",
       "      <td>Buffet</td>\n",
       "      <td>Banashankari</td>\n",
       "    </tr>\n",
       "  </tbody>\n",
       "</table>\n",
       "</div>"
      ],
      "text/plain": [
       "                                                 url  \\\n",
       "0  https://www.zomato.com/bangalore/jalsa-banasha...   \n",
       "1  https://www.zomato.com/bangalore/spice-elephan...   \n",
       "2  https://www.zomato.com/SanchurroBangalore?cont...   \n",
       "3  https://www.zomato.com/bangalore/addhuri-udupi...   \n",
       "4  https://www.zomato.com/bangalore/grand-village...   \n",
       "\n",
       "                                             address                   name  \\\n",
       "0  942, 21st Main Road, 2nd Stage, Banashankari, ...                  Jalsa   \n",
       "1  2nd Floor, 80 Feet Road, Near Big Bazaar, 6th ...         Spice Elephant   \n",
       "2  1112, Next to KIMS Medical College, 17th Cross...        San Churro Cafe   \n",
       "3  1st Floor, Annakuteera, 3rd Stage, Banashankar...  Addhuri Udupi Bhojana   \n",
       "4  10, 3rd Floor, Lakshmi Associates, Gandhi Baza...          Grand Village   \n",
       "\n",
       "  online_order book_table   rate  votes                             phone  \\\n",
       "0          Yes        Yes  4.1/5    775    080 42297555\\r\\n+91 9743772233   \n",
       "1          Yes         No  4.1/5    787                      080 41714161   \n",
       "2          Yes         No  3.8/5    918                    +91 9663487993   \n",
       "3           No         No  3.7/5     88                    +91 9620009302   \n",
       "4           No         No  3.8/5    166  +91 8026612447\\r\\n+91 9901210005   \n",
       "\n",
       "       location            rest_type  \\\n",
       "0  Banashankari        Casual Dining   \n",
       "1  Banashankari        Casual Dining   \n",
       "2  Banashankari  Cafe, Casual Dining   \n",
       "3  Banashankari          Quick Bites   \n",
       "4  Basavanagudi        Casual Dining   \n",
       "\n",
       "                                          dish_liked  \\\n",
       "0  Pasta, Lunch Buffet, Masala Papad, Paneer Laja...   \n",
       "1  Momos, Lunch Buffet, Chocolate Nirvana, Thai G...   \n",
       "2  Churros, Cannelloni, Minestrone Soup, Hot Choc...   \n",
       "3                                        Masala Dosa   \n",
       "4                                Panipuri, Gol Gappe   \n",
       "\n",
       "                         cuisines approx_cost(for two people)  \\\n",
       "0  North Indian, Mughlai, Chinese                         800   \n",
       "1     Chinese, North Indian, Thai                         800   \n",
       "2          Cafe, Mexican, Italian                         800   \n",
       "3      South Indian, North Indian                         300   \n",
       "4        North Indian, Rajasthani                         600   \n",
       "\n",
       "                                        reviews_list menu_item  \\\n",
       "0  [('Rated 4.0', 'RATED\\n  A beautiful place to ...        []   \n",
       "1  [('Rated 4.0', 'RATED\\n  Had been here for din...        []   \n",
       "2  [('Rated 3.0', \"RATED\\n  Ambience is not that ...        []   \n",
       "3  [('Rated 4.0', \"RATED\\n  Great food and proper...        []   \n",
       "4  [('Rated 4.0', 'RATED\\n  Very good restaurant ...        []   \n",
       "\n",
       "  listed_in(type) listed_in(city)  \n",
       "0          Buffet    Banashankari  \n",
       "1          Buffet    Banashankari  \n",
       "2          Buffet    Banashankari  \n",
       "3          Buffet    Banashankari  \n",
       "4          Buffet    Banashankari  "
      ]
     },
     "execution_count": 3,
     "metadata": {},
     "output_type": "execute_result"
    }
   ],
   "source": [
    "# Importing the Dataset\n",
    "orders_df = pd.read_csv(\"zomato.csv\")\n",
    "orders_df.head()"
   ]
  },
  {
   "cell_type": "markdown",
   "id": "featured-ratio",
   "metadata": {},
   "source": [
    "<br>"
   ]
  },
  {
   "cell_type": "markdown",
   "id": "serial-fashion",
   "metadata": {},
   "source": [
    "## Checking the Size of the Dataset"
   ]
  },
  {
   "cell_type": "code",
   "execution_count": 4,
   "id": "sustainable-qualification",
   "metadata": {},
   "outputs": [
    {
     "data": {
      "text/plain": [
       "(51717, 17)"
      ]
     },
     "execution_count": 4,
     "metadata": {},
     "output_type": "execute_result"
    }
   ],
   "source": [
    "orders_df.shape"
   ]
  },
  {
   "cell_type": "markdown",
   "id": "governmental-quantum",
   "metadata": {},
   "source": [
    "<p><strong>Outcome : </strong>There are 51717 rows and 17 columns in our Dataset."
   ]
  },
  {
   "cell_type": "markdown",
   "id": "broadband-novel",
   "metadata": {},
   "source": [
    "<br>"
   ]
  },
  {
   "cell_type": "markdown",
   "id": "wireless-kitty",
   "metadata": {},
   "source": [
    "## Checking the columns in the Dataset"
   ]
  },
  {
   "cell_type": "code",
   "execution_count": 5,
   "id": "numeric-audit",
   "metadata": {},
   "outputs": [
    {
     "data": {
      "text/plain": [
       "['url',\n",
       " 'address',\n",
       " 'name',\n",
       " 'online_order',\n",
       " 'book_table',\n",
       " 'rate',\n",
       " 'votes',\n",
       " 'phone',\n",
       " 'location',\n",
       " 'rest_type',\n",
       " 'dish_liked',\n",
       " 'cuisines',\n",
       " 'approx_cost(for two people)',\n",
       " 'reviews_list',\n",
       " 'menu_item',\n",
       " 'listed_in(type)',\n",
       " 'listed_in(city)']"
      ]
     },
     "execution_count": 5,
     "metadata": {},
     "output_type": "execute_result"
    }
   ],
   "source": [
    "orders_df.columns.to_list()"
   ]
  },
  {
   "cell_type": "markdown",
   "id": "exposed-paper",
   "metadata": {},
   "source": [
    "<p>Here, we can see the list of columns in which some of the columns are important and some are irrelevant in the context of the problem. So, further we drop and process the data.</p>"
   ]
  },
  {
   "cell_type": "markdown",
   "id": "greater-utilization",
   "metadata": {},
   "source": [
    "<br>"
   ]
  },
  {
   "cell_type": "markdown",
   "id": "laughing-banks",
   "metadata": {},
   "source": [
    "## Renaming Columns"
   ]
  },
  {
   "cell_type": "code",
   "execution_count": 6,
   "id": "expanded-norway",
   "metadata": {},
   "outputs": [],
   "source": [
    "# Renaming the columns approx_cost(for two people), listed(city) with approx_cost, area respectively\n",
    "orders_df.rename(columns = {'approx_cost(for two people)' : 'approx_cost', 'listed_in(city)' : 'area'}, inplace = True)"
   ]
  },
  {
   "cell_type": "markdown",
   "id": "arctic-database",
   "metadata": {},
   "source": [
    "<br>"
   ]
  },
  {
   "cell_type": "markdown",
   "id": "tamil-boring",
   "metadata": {},
   "source": [
    "## Data Cleaning\n",
    "<p>Now, we clean our data by dropping the irrelevant columns, handling the wrong datatypes, handling the null values and the outliers.</p>"
   ]
  },
  {
   "cell_type": "markdown",
   "id": "round-directive",
   "metadata": {},
   "source": [
    "### Dropping Irrelevant Columns"
   ]
  },
  {
   "cell_type": "code",
   "execution_count": 7,
   "id": "institutional-richmond",
   "metadata": {},
   "outputs": [
    {
     "data": {
      "text/html": [
       "<div>\n",
       "<style scoped>\n",
       "    .dataframe tbody tr th:only-of-type {\n",
       "        vertical-align: middle;\n",
       "    }\n",
       "\n",
       "    .dataframe tbody tr th {\n",
       "        vertical-align: top;\n",
       "    }\n",
       "\n",
       "    .dataframe thead th {\n",
       "        text-align: right;\n",
       "    }\n",
       "</style>\n",
       "<table border=\"1\" class=\"dataframe\">\n",
       "  <thead>\n",
       "    <tr style=\"text-align: right;\">\n",
       "      <th></th>\n",
       "      <th>name</th>\n",
       "      <th>online_order</th>\n",
       "      <th>book_table</th>\n",
       "      <th>rate</th>\n",
       "      <th>votes</th>\n",
       "      <th>location</th>\n",
       "      <th>rest_type</th>\n",
       "      <th>cuisines</th>\n",
       "      <th>approx_cost</th>\n",
       "      <th>area</th>\n",
       "    </tr>\n",
       "  </thead>\n",
       "  <tbody>\n",
       "    <tr>\n",
       "      <th>0</th>\n",
       "      <td>Jalsa</td>\n",
       "      <td>Yes</td>\n",
       "      <td>Yes</td>\n",
       "      <td>4.1/5</td>\n",
       "      <td>775</td>\n",
       "      <td>Banashankari</td>\n",
       "      <td>Casual Dining</td>\n",
       "      <td>North Indian, Mughlai, Chinese</td>\n",
       "      <td>800</td>\n",
       "      <td>Banashankari</td>\n",
       "    </tr>\n",
       "    <tr>\n",
       "      <th>1</th>\n",
       "      <td>Spice Elephant</td>\n",
       "      <td>Yes</td>\n",
       "      <td>No</td>\n",
       "      <td>4.1/5</td>\n",
       "      <td>787</td>\n",
       "      <td>Banashankari</td>\n",
       "      <td>Casual Dining</td>\n",
       "      <td>Chinese, North Indian, Thai</td>\n",
       "      <td>800</td>\n",
       "      <td>Banashankari</td>\n",
       "    </tr>\n",
       "    <tr>\n",
       "      <th>2</th>\n",
       "      <td>San Churro Cafe</td>\n",
       "      <td>Yes</td>\n",
       "      <td>No</td>\n",
       "      <td>3.8/5</td>\n",
       "      <td>918</td>\n",
       "      <td>Banashankari</td>\n",
       "      <td>Cafe, Casual Dining</td>\n",
       "      <td>Cafe, Mexican, Italian</td>\n",
       "      <td>800</td>\n",
       "      <td>Banashankari</td>\n",
       "    </tr>\n",
       "    <tr>\n",
       "      <th>3</th>\n",
       "      <td>Addhuri Udupi Bhojana</td>\n",
       "      <td>No</td>\n",
       "      <td>No</td>\n",
       "      <td>3.7/5</td>\n",
       "      <td>88</td>\n",
       "      <td>Banashankari</td>\n",
       "      <td>Quick Bites</td>\n",
       "      <td>South Indian, North Indian</td>\n",
       "      <td>300</td>\n",
       "      <td>Banashankari</td>\n",
       "    </tr>\n",
       "    <tr>\n",
       "      <th>4</th>\n",
       "      <td>Grand Village</td>\n",
       "      <td>No</td>\n",
       "      <td>No</td>\n",
       "      <td>3.8/5</td>\n",
       "      <td>166</td>\n",
       "      <td>Basavanagudi</td>\n",
       "      <td>Casual Dining</td>\n",
       "      <td>North Indian, Rajasthani</td>\n",
       "      <td>600</td>\n",
       "      <td>Banashankari</td>\n",
       "    </tr>\n",
       "  </tbody>\n",
       "</table>\n",
       "</div>"
      ],
      "text/plain": [
       "                    name online_order book_table   rate  votes      location  \\\n",
       "0                  Jalsa          Yes        Yes  4.1/5    775  Banashankari   \n",
       "1         Spice Elephant          Yes         No  4.1/5    787  Banashankari   \n",
       "2        San Churro Cafe          Yes         No  3.8/5    918  Banashankari   \n",
       "3  Addhuri Udupi Bhojana           No         No  3.7/5     88  Banashankari   \n",
       "4          Grand Village           No         No  3.8/5    166  Basavanagudi   \n",
       "\n",
       "             rest_type                        cuisines approx_cost  \\\n",
       "0        Casual Dining  North Indian, Mughlai, Chinese         800   \n",
       "1        Casual Dining     Chinese, North Indian, Thai         800   \n",
       "2  Cafe, Casual Dining          Cafe, Mexican, Italian         800   \n",
       "3          Quick Bites      South Indian, North Indian         300   \n",
       "4        Casual Dining        North Indian, Rajasthani         600   \n",
       "\n",
       "           area  \n",
       "0  Banashankari  \n",
       "1  Banashankari  \n",
       "2  Banashankari  \n",
       "3  Banashankari  \n",
       "4  Banashankari  "
      ]
     },
     "execution_count": 7,
     "metadata": {},
     "output_type": "execute_result"
    }
   ],
   "source": [
    "# Here, url, address, menu_item, reviews_list, dish_liked, phone, listed_in(type) are irrelevant for \n",
    "# the problem's solution\n",
    "orders_df.drop(['url', 'address','menu_item', 'reviews_list', 'dish_liked', 'phone', 'listed_in(type)'], axis = 1, inplace=True)\n",
    "orders_df.head()"
   ]
  },
  {
   "cell_type": "markdown",
   "id": "married-pendant",
   "metadata": {},
   "source": [
    "<br>"
   ]
  },
  {
   "cell_type": "markdown",
   "id": "turkish-bowling",
   "metadata": {},
   "source": [
    "### Checking and Handling the Datatypes"
   ]
  },
  {
   "cell_type": "code",
   "execution_count": 8,
   "id": "existing-princess",
   "metadata": {},
   "outputs": [
    {
     "name": "stdout",
     "output_type": "stream",
     "text": [
      "<class 'pandas.core.frame.DataFrame'>\n",
      "RangeIndex: 51717 entries, 0 to 51716\n",
      "Data columns (total 10 columns):\n",
      " #   Column        Non-Null Count  Dtype \n",
      "---  ------        --------------  ----- \n",
      " 0   name          51717 non-null  object\n",
      " 1   online_order  51717 non-null  object\n",
      " 2   book_table    51717 non-null  object\n",
      " 3   rate          43942 non-null  object\n",
      " 4   votes         51717 non-null  int64 \n",
      " 5   location      51696 non-null  object\n",
      " 6   rest_type     51490 non-null  object\n",
      " 7   cuisines      51672 non-null  object\n",
      " 8   approx_cost   51371 non-null  object\n",
      " 9   area          51717 non-null  object\n",
      "dtypes: int64(1), object(9)\n",
      "memory usage: 3.9+ MB\n"
     ]
    }
   ],
   "source": [
    "# Checking the types of data present in the Dataset\n",
    "orders_df.info()"
   ]
  },
  {
   "cell_type": "markdown",
   "id": "fleet-arcade",
   "metadata": {},
   "source": [
    "<strong>From above result, we can see that the columns { rate, location, rest_type, approx_cost, cuisines } either have null values, wrong datatypes or both.</strong> "
   ]
  },
  {
   "cell_type": "markdown",
   "id": "frequent-words",
   "metadata": {},
   "source": [
    "<br>"
   ]
  },
  {
   "cell_type": "markdown",
   "id": "random-vanilla",
   "metadata": {},
   "source": [
    "#### Rate Column"
   ]
  },
  {
   "cell_type": "code",
   "execution_count": 9,
   "id": "moderate-filter",
   "metadata": {
    "scrolled": true
   },
   "outputs": [
    {
     "data": {
      "text/plain": [
       "array(['4.1/5', '3.8/5', '3.7/5', '3.6/5', '4.6/5', '4.0/5', '4.2/5',\n",
       "       '3.9/5', '3.1/5', '3.0/5', '3.2/5', '3.3/5', '2.8/5', '4.4/5',\n",
       "       '4.3/5', 'NEW', '2.9/5', '3.5/5', nan, '2.6/5', '3.8 /5', '3.4/5',\n",
       "       '4.5/5', '2.5/5', '2.7/5', '4.7/5', '2.4/5', '2.2/5', '2.3/5',\n",
       "       '3.4 /5', '-', '3.6 /5', '4.8/5', '3.9 /5', '4.2 /5', '4.0 /5',\n",
       "       '4.1 /5', '3.7 /5', '3.1 /5', '2.9 /5', '3.3 /5', '2.8 /5',\n",
       "       '3.5 /5', '2.7 /5', '2.5 /5', '3.2 /5', '2.6 /5', '4.5 /5',\n",
       "       '4.3 /5', '4.4 /5', '4.9/5', '2.1/5', '2.0/5', '1.8/5', '4.6 /5',\n",
       "       '4.9 /5', '3.0 /5', '4.8 /5', '2.3 /5', '4.7 /5', '2.4 /5',\n",
       "       '2.1 /5', '2.2 /5', '2.0 /5', '1.8 /5'], dtype=object)"
      ]
     },
     "execution_count": 9,
     "metadata": {},
     "output_type": "execute_result"
    }
   ],
   "source": [
    "# Checking the unique values in the Rate column of the Dataset\n",
    "orders_df['rate'].unique()"
   ]
  },
  {
   "cell_type": "markdown",
   "id": "electric-humanitarian",
   "metadata": {},
   "source": [
    "<p>Above result shows that there are many null values and garbage values also. "
   ]
  },
  {
   "cell_type": "markdown",
   "id": "requested-ghana",
   "metadata": {},
   "source": [
    "<br>"
   ]
  },
  {
   "cell_type": "code",
   "execution_count": 10,
   "id": "shaped-chosen",
   "metadata": {},
   "outputs": [],
   "source": [
    "# Replacing all the null values and garbage values and making it to be converted into numbers\n",
    "orders_df['rate'] =  orders_df['rate'].str.replace(\"/5\", \"\")\n",
    "orders_df['rate'] =  orders_df['rate'].str.replace(\"nan\", \"NaN\")\n",
    "orders_df['rate'] =  orders_df['rate'].str.replace(\"NEW\", \"NaN\")\n",
    "orders_df['rate'] =  orders_df['rate'].str.replace(\"-\", \"NaN\")\n",
    "orders_df['rate'] =  orders_df['rate'].str.replace(\" /5\", \"\")\n",
    "orders_df['rate'] =  orders_df['rate'].fillna(np.nan)\n",
    "orders_df['rate'] =  orders_df['rate'].str.replace(\" \", \"\")"
   ]
  },
  {
   "cell_type": "code",
   "execution_count": 11,
   "id": "moved-malawi",
   "metadata": {
    "scrolled": true
   },
   "outputs": [
    {
     "data": {
      "text/plain": [
       "array(['4.1', '3.8', '3.7', '3.6', '4.6', '4.0', '4.2', '3.9', '3.1',\n",
       "       '3.0', '3.2', '3.3', '2.8', '4.4', '4.3', 'NaN', '2.9', '3.5', nan,\n",
       "       '2.6', '3.4', '4.5', '2.5', '2.7', '4.7', '2.4', '2.2', '2.3',\n",
       "       '4.8', '4.9', '2.1', '2.0', '1.8'], dtype=object)"
      ]
     },
     "execution_count": 11,
     "metadata": {},
     "output_type": "execute_result"
    }
   ],
   "source": [
    "# Verifying the results\n",
    "orders_df['rate'].unique()"
   ]
  },
  {
   "cell_type": "code",
   "execution_count": 12,
   "id": "accessible-maple",
   "metadata": {},
   "outputs": [],
   "source": [
    "# Changing the Datatype of Rate column from object to float\n",
    "orders_df['rate'] = orders_df['rate'].astype(float)"
   ]
  },
  {
   "cell_type": "markdown",
   "id": "collectible-customs",
   "metadata": {},
   "source": [
    "<br>"
   ]
  },
  {
   "cell_type": "markdown",
   "id": "celtic-netscape",
   "metadata": {},
   "source": [
    "#### Approx Cost Column"
   ]
  },
  {
   "cell_type": "code",
   "execution_count": 13,
   "id": "disturbed-telling",
   "metadata": {},
   "outputs": [
    {
     "data": {
      "text/plain": [
       "array(['800', '300', '600', '700', '550', '500', '450', '650', '400',\n",
       "       '900', '200', '750', '150', '850', '100', '1,200', '350', '250',\n",
       "       '950', '1,000', '1,500', '1,300', '199', '80', '1,100', '160',\n",
       "       '1,600', '230', '130', '50', '190', '1,700', nan, '1,400', '180',\n",
       "       '1,350', '2,200', '2,000', '1,800', '1,900', '330', '2,500',\n",
       "       '2,100', '3,000', '2,800', '3,400', '40', '1,250', '3,500',\n",
       "       '4,000', '2,400', '2,600', '120', '1,450', '469', '70', '3,200',\n",
       "       '60', '560', '240', '360', '6,000', '1,050', '2,300', '4,100',\n",
       "       '5,000', '3,700', '1,650', '2,700', '4,500', '140'], dtype=object)"
      ]
     },
     "execution_count": 13,
     "metadata": {},
     "output_type": "execute_result"
    }
   ],
   "source": [
    "# Checking the unique values in the Approx Cost column of the Dataset\n",
    "orders_df['approx_cost'].unique()"
   ]
  },
  {
   "cell_type": "markdown",
   "id": "pending-carbon",
   "metadata": {},
   "source": [
    "<p>Above, we can see that there are null values and numeric values but in the object type.</p>"
   ]
  },
  {
   "cell_type": "markdown",
   "id": "satisfied-promotion",
   "metadata": {},
   "source": [
    "<br>"
   ]
  },
  {
   "cell_type": "code",
   "execution_count": 14,
   "id": "representative-update",
   "metadata": {},
   "outputs": [],
   "source": [
    "# Replacing the null values and make it able to convert \n",
    "orders_df['approx_cost'] =  orders_df['approx_cost'].str.replace(\"nan\", \"NaN\")\n",
    "orders_df['approx_cost'] =  orders_df['approx_cost'].fillna('NaN')\n",
    "orders_df['approx_cost'] =  orders_df['approx_cost'].str.replace(\",\", \"\")"
   ]
  },
  {
   "cell_type": "code",
   "execution_count": 15,
   "id": "alert-poverty",
   "metadata": {},
   "outputs": [
    {
     "data": {
      "text/plain": [
       "array(['800', '300', '600', '700', '550', '500', '450', '650', '400',\n",
       "       '900', '200', '750', '150', '850', '100', '1200', '350', '250',\n",
       "       '950', '1000', '1500', '1300', '199', '80', '1100', '160', '1600',\n",
       "       '230', '130', '50', '190', '1700', 'NaN', '1400', '180', '1350',\n",
       "       '2200', '2000', '1800', '1900', '330', '2500', '2100', '3000',\n",
       "       '2800', '3400', '40', '1250', '3500', '4000', '2400', '2600',\n",
       "       '120', '1450', '469', '70', '3200', '60', '560', '240', '360',\n",
       "       '6000', '1050', '2300', '4100', '5000', '3700', '1650', '2700',\n",
       "       '4500', '140'], dtype=object)"
      ]
     },
     "execution_count": 15,
     "metadata": {},
     "output_type": "execute_result"
    }
   ],
   "source": [
    "# Verifying the Results\n",
    "orders_df['approx_cost'].unique()"
   ]
  },
  {
   "cell_type": "code",
   "execution_count": 16,
   "id": "developmental-daniel",
   "metadata": {},
   "outputs": [],
   "source": [
    "# Changing the Datatype of the column from Object to Float\n",
    "orders_df['approx_cost'] = orders_df['approx_cost'].astype(float)"
   ]
  },
  {
   "cell_type": "code",
   "execution_count": 17,
   "id": "musical-struggle",
   "metadata": {},
   "outputs": [
    {
     "name": "stdout",
     "output_type": "stream",
     "text": [
      "<class 'pandas.core.frame.DataFrame'>\n",
      "RangeIndex: 51717 entries, 0 to 51716\n",
      "Data columns (total 10 columns):\n",
      " #   Column        Non-Null Count  Dtype  \n",
      "---  ------        --------------  -----  \n",
      " 0   name          51717 non-null  object \n",
      " 1   online_order  51717 non-null  object \n",
      " 2   book_table    51717 non-null  object \n",
      " 3   rate          41665 non-null  float64\n",
      " 4   votes         51717 non-null  int64  \n",
      " 5   location      51696 non-null  object \n",
      " 6   rest_type     51490 non-null  object \n",
      " 7   cuisines      51672 non-null  object \n",
      " 8   approx_cost   51371 non-null  float64\n",
      " 9   area          51717 non-null  object \n",
      "dtypes: float64(2), int64(1), object(7)\n",
      "memory usage: 3.9+ MB\n"
     ]
    }
   ],
   "source": [
    "# Again, checking the datatypes of columns to verify\n",
    "orders_df.info()"
   ]
  },
  {
   "cell_type": "markdown",
   "id": "approved-sculpture",
   "metadata": {},
   "source": [
    "<br>"
   ]
  },
  {
   "cell_type": "markdown",
   "id": "annoying-history",
   "metadata": {},
   "source": [
    "### Checking for Null Values"
   ]
  },
  {
   "cell_type": "code",
   "execution_count": 18,
   "id": "respected-video",
   "metadata": {},
   "outputs": [
    {
     "data": {
      "text/plain": [
       "name                0\n",
       "online_order        0\n",
       "book_table          0\n",
       "rate            10052\n",
       "votes               0\n",
       "location           21\n",
       "rest_type         227\n",
       "cuisines           45\n",
       "approx_cost       346\n",
       "area                0\n",
       "dtype: int64"
      ]
     },
     "execution_count": 18,
     "metadata": {},
     "output_type": "execute_result"
    }
   ],
   "source": [
    "# Checking the number of null values columnwise\n",
    "orders_df.isna().sum()"
   ]
  },
  {
   "cell_type": "code",
   "execution_count": 19,
   "id": "completed-dinner",
   "metadata": {},
   "outputs": [
    {
     "data": {
      "text/plain": [
       "name             0.000000\n",
       "online_order     0.000000\n",
       "book_table       0.000000\n",
       "rate            19.436549\n",
       "votes            0.000000\n",
       "location         0.040606\n",
       "rest_type        0.438927\n",
       "cuisines         0.087012\n",
       "approx_cost      0.669026\n",
       "area             0.000000\n",
       "dtype: float64"
      ]
     },
     "execution_count": 19,
     "metadata": {},
     "output_type": "execute_result"
    }
   ],
   "source": [
    "# Checking of Percentage of Null values in Each Column\n",
    "(orders_df.isna().sum() / orders_df.shape[0]) * 100"
   ]
  },
  {
   "cell_type": "markdown",
   "id": "danish-taste",
   "metadata": {},
   "source": [
    "<p>Here, we can see that columns location, rest_type, cuisines, approx_cost have less number of null values as compared to rate column. So, we can drop that null values.</p>"
   ]
  },
  {
   "cell_type": "markdown",
   "id": "incoming-timber",
   "metadata": {},
   "source": [
    "<br>"
   ]
  },
  {
   "cell_type": "code",
   "execution_count": 20,
   "id": "perfect-thunder",
   "metadata": {},
   "outputs": [
    {
     "data": {
      "text/plain": [
       "name               0\n",
       "online_order       0\n",
       "book_table         0\n",
       "rate            9885\n",
       "votes              0\n",
       "location           0\n",
       "rest_type          0\n",
       "cuisines           0\n",
       "approx_cost        0\n",
       "area               0\n",
       "dtype: int64"
      ]
     },
     "execution_count": 20,
     "metadata": {},
     "output_type": "execute_result"
    }
   ],
   "source": [
    "# Here, we dropping the null values from the columns having lesser number of null values\n",
    "orders_df = orders_df[orders_df[\"location\"].notna()]\n",
    "orders_df = orders_df[orders_df[\"rest_type\"].notna()]\n",
    "orders_df = orders_df[orders_df[\"cuisines\"].notna()]\n",
    "orders_df = orders_df[orders_df[\"approx_cost\"].notna()]\n",
    "\n",
    "# Verifying the results\n",
    "orders_df.isna().sum()"
   ]
  },
  {
   "cell_type": "markdown",
   "id": "periodic-opinion",
   "metadata": {},
   "source": [
    "<br>"
   ]
  },
  {
   "cell_type": "markdown",
   "id": "earlier-electricity",
   "metadata": {},
   "source": [
    "#### Handling Null values in Rate Column\n",
    "<p>As the rate column has greater number of null values, dropping them leads to losing the a large amount of data. So, instead of dropping it, we will impute with either mean, mode or median."
   ]
  },
  {
   "cell_type": "code",
   "execution_count": 21,
   "id": "hidden-virtue",
   "metadata": {},
   "outputs": [
    {
     "data": {
      "text/plain": [
       "count    41263.000000\n",
       "mean         3.702011\n",
       "std          0.439985\n",
       "min          1.800000\n",
       "25%          3.400000\n",
       "50%          3.700000\n",
       "75%          4.000000\n",
       "max          4.900000\n",
       "Name: rate, dtype: float64"
      ]
     },
     "execution_count": 21,
     "metadata": {},
     "output_type": "execute_result"
    }
   ],
   "source": [
    "# Checking all the statistics of Rate column\n",
    "orders_df['rate'].describe()"
   ]
  },
  {
   "cell_type": "code",
   "execution_count": 22,
   "id": "pretty-ranch",
   "metadata": {},
   "outputs": [
    {
     "name": "stdout",
     "output_type": "stream",
     "text": [
      "Number of Rows having Outliers :  183\n"
     ]
    }
   ],
   "source": [
    "# For imputing the values, we will check for outliers\n",
    "q1 = orders_df['rate'].quantile(0.25)\n",
    "q3 = orders_df['rate'].quantile(0.75)\n",
    "\n",
    "iqr = q3 - q1\n",
    "\n",
    "lower_range = q1 - (1.5 * iqr)\n",
    "upper_range = q3 + (1.5 * iqr)\n",
    "\n",
    "outliers = len(orders_df[(orders_df['rate'] < lower_range) | (orders_df['rate'] > upper_range)])\n",
    "print(\"Number of Rows having Outliers : \", outliers)"
   ]
  },
  {
   "cell_type": "markdown",
   "id": "independent-pakistan",
   "metadata": {},
   "source": [
    "<p>Here, we can see that 183 rows have outliers, but as we know that rating are always in the range from 1.0 to 5.0. So, using the mean is not appropriate. Therefore, we will impute with median.</p>"
   ]
  },
  {
   "cell_type": "markdown",
   "id": "sapphire-oakland",
   "metadata": {},
   "source": [
    "<br>"
   ]
  },
  {
   "cell_type": "code",
   "execution_count": 23,
   "id": "reserved-liberal",
   "metadata": {},
   "outputs": [
    {
     "data": {
      "text/plain": [
       "name            0\n",
       "online_order    0\n",
       "book_table      0\n",
       "rate            0\n",
       "votes           0\n",
       "location        0\n",
       "rest_type       0\n",
       "cuisines        0\n",
       "approx_cost     0\n",
       "area            0\n",
       "dtype: int64"
      ]
     },
     "execution_count": 23,
     "metadata": {},
     "output_type": "execute_result"
    }
   ],
   "source": [
    "# Imputing the null values with median of rate column\n",
    "orders_df['rate'] = orders_df['rate'].fillna(orders_df['rate'].median())\n",
    "\n",
    "# Verifying the Results\n",
    "orders_df.isna().sum()"
   ]
  },
  {
   "cell_type": "code",
   "execution_count": 24,
   "id": "large-pointer",
   "metadata": {},
   "outputs": [],
   "source": [
    "# After dropping the values, we will reset the index\n",
    "orders_df.reset_index(inplace=True)\n",
    "orders_df.drop(['index'], axis=1, inplace=True)"
   ]
  },
  {
   "cell_type": "markdown",
   "id": "ancient-speed",
   "metadata": {},
   "source": [
    "<br>"
   ]
  },
  {
   "cell_type": "markdown",
   "id": "e9ddc16f",
   "metadata": {},
   "source": [
    "## Data Visualization\n",
    "<p>Now, we visualize our data based on different parameters to understand the relations and some insights from out dataset."
   ]
  },
  {
   "cell_type": "markdown",
   "id": "313eeb5e",
   "metadata": {},
   "source": [
    "### No. of orders vs Restaurants"
   ]
  },
  {
   "cell_type": "code",
   "execution_count": 25,
   "id": "3a1e1f29",
   "metadata": {},
   "outputs": [
    {
     "data": {
      "image/png": "[encoded data removed]",
      "text/plain": [
       "<Figure size 864x360 with 1 Axes>"
      ]
     },
     "metadata": {},
     "output_type": "display_data"
    }
   ],
   "source": [
    "# Checking for the Restaurants got higher number of orders\n",
    "plt.figure(figsize = (12,5))\n",
    "data = orders_df['name'].value_counts()[:30]\n",
    "data.plot(kind = 'bar')\n",
    "plt.xlabel('Name of Restaurants', size = 14)\n",
    "plt.ylabel('No. of Orders', size = 14)\n",
    "plt.title(\"Restaurants with Maximum No. of Orders\", fontsize=15)\n",
    "plt.show()"
   ]
  },
  {
   "cell_type": "markdown",
   "id": "educated-comfort",
   "metadata": {},
   "source": [
    "<p>Above Bar chart shows that the Cafe Coffee Day and Onesta got slightly higher number of orders as compared to others restaurants while others got approximately same number of orders.</p>"
   ]
  },
  {
   "cell_type": "markdown",
   "id": "ongoing-picture",
   "metadata": {},
   "source": [
    "<br>"
   ]
  },
  {
   "cell_type": "markdown",
   "id": "95e06dcd",
   "metadata": {},
   "source": [
    "### Number of Restaurants having Online Order Facility"
   ]
  },
  {
   "cell_type": "code",
   "execution_count": 26,
   "id": "073e2599",
   "metadata": {
    "scrolled": true
   },
   "outputs": [
    {
     "data": {
      "image/png": "[encoded data removed]",
      "text/plain": [
       "<Figure size 576x360 with 1 Axes>"
      ]
     },
     "metadata": {},
     "output_type": "display_data"
    }
   ],
   "source": [
    "# Checking the number of restaurants having Online Order Facility\n",
    "data = orders_df[['name', 'online_order']].drop_duplicates()\n",
    "\n",
    "plt.figure(figsize = (8,5))\n",
    "ax = sns.countplot(x=\"online_order\", data=data).set_title('Online Order Facility',fontsize = 15)\n",
    "plt.show()"
   ]
  },
  {
   "cell_type": "markdown",
   "id": "moved-monte",
   "metadata": {},
   "source": [
    "From above chart, we can see that only 4397 restaurants in Banglore have <strong>Online Order Facility</strong> which less than the half of the restaurants."
   ]
  },
  {
   "cell_type": "markdown",
   "id": "brown-outline",
   "metadata": {},
   "source": [
    "<br>"
   ]
  },
  {
   "cell_type": "markdown",
   "id": "70b71ae3",
   "metadata": {},
   "source": [
    "### Number of restaurants having Prebooking Table Facility"
   ]
  },
  {
   "cell_type": "code",
   "execution_count": 27,
   "id": "505bd8c5",
   "metadata": {},
   "outputs": [
    {
     "data": {
      "image/png": "[encoded data removed]",
      "text/plain": [
       "<Figure size 576x432 with 1 Axes>"
      ]
     },
     "metadata": {},
     "output_type": "display_data"
    }
   ],
   "source": [
    "# Checking the number of restaurants having Prebooking Table Facility\n",
    "data = orders_df[['name', 'book_table']].drop_duplicates()\n",
    "\n",
    "plt.figure(figsize = (8,6))\n",
    "ax = sns.countplot(x=\"book_table\", data=data).set_title('Pre Booking Facility', fontsize = 15)\n",
    "plt.show()"
   ]
  },
  {
   "cell_type": "markdown",
   "id": "valued-scoop",
   "metadata": {},
   "source": [
    "From above chart, we can see that Most of the restaurants in Banglore doesn't have <strong>Pre Booking Facility</strong> which is about 8011 restaurants and only 820 restaurants having these facility."
   ]
  },
  {
   "cell_type": "markdown",
   "id": "breeding-flower",
   "metadata": {},
   "source": [
    "<br>"
   ]
  },
  {
   "cell_type": "markdown",
   "id": "b630b0fe",
   "metadata": {},
   "source": [
    "### Top Locations got Higher Number of Orders"
   ]
  },
  {
   "cell_type": "code",
   "execution_count": 28,
   "id": "420ae7ee",
   "metadata": {},
   "outputs": [
    {
     "data": {
      "image/png": "[encoded data removed]",
      "text/plain": [
       "<Figure size 864x360 with 1 Axes>"
      ]
     },
     "metadata": {},
     "output_type": "display_data"
    }
   ],
   "source": [
    "# Checking top Locations got Higher Number of Orders\n",
    "plt.figure(figsize = (12,5))\n",
    "data = orders_df.location.value_counts()[0:25]\n",
    "data.plot(kind='bar')\n",
    "plt.xlabel('Locations')\n",
    "plt.ylabel('No. of orders')\n",
    "plt.title ('Top Locations got Higher Number of Orders', size = 15)\n",
    "plt.show()"
   ]
  },
  {
   "cell_type": "markdown",
   "id": "cleared-girlfriend",
   "metadata": {},
   "source": [
    "Above visualization shows that <strong>Location BTM</strong> got higher number of orders among all others locations. Also, <strong>HSR and Koramangala 5th Block Location</strong> also got good number of order which is approximately half of the orders of BTM Location."
   ]
  },
  {
   "cell_type": "markdown",
   "id": "radical-flavor",
   "metadata": {},
   "source": [
    "<br>"
   ]
  },
  {
   "cell_type": "markdown",
   "id": "368cb68b",
   "metadata": {},
   "source": [
    "### Most Common Ratings for orders"
   ]
  },
  {
   "cell_type": "code",
   "execution_count": 29,
   "id": "5a78886d",
   "metadata": {},
   "outputs": [
    {
     "data": {
      "image/png": "[encoded data removed]",
      "text/plain": [
       "<Figure size 1080x432 with 1 Axes>"
      ]
     },
     "metadata": {},
     "output_type": "display_data"
    }
   ],
   "source": [
    "# Checking the most Common ratings for orders\n",
    "data = orders_df.rate.value_counts().reset_index()[0:20]\n",
    "\n",
    "plt.figure(figsize = (15,6))\n",
    "sns.barplot(x = data['index'], y = data['rate'])\n",
    "plt.xlabel('Ratings')\n",
    "plt.ylabel('No. of orders')\n",
    "plt.title ('Most Common Ratings', size = 15)\n",
    "plt.show()"
   ]
  },
  {
   "cell_type": "markdown",
   "id": "gentle-wallace",
   "metadata": {},
   "source": [
    "We can see that maximum number of orders got <strong>3.7 rating</strong> for their restaurants."
   ]
  },
  {
   "cell_type": "markdown",
   "id": "controlled-shuttle",
   "metadata": {},
   "source": [
    "<br>"
   ]
  },
  {
   "cell_type": "markdown",
   "id": "ee40f0d5",
   "metadata": {},
   "source": [
    "### Common Approximate Costs for meal of two people "
   ]
  },
  {
   "cell_type": "code",
   "execution_count": 30,
   "id": "26fd0ece",
   "metadata": {},
   "outputs": [],
   "source": [
    "data = pd.DataFrame(orders_df[\"approx_cost\"].value_counts().reset_index()[:20])\n",
    "data.columns = ['approx_cost', 'count']\n",
    "data = data.set_index('approx_cost')"
   ]
  },
  {
   "cell_type": "code",
   "execution_count": 31,
   "id": "2711053f",
   "metadata": {},
   "outputs": [
    {
     "data": {
      "image/png": "[encoded data removed]",
      "text/plain": [
       "<Figure size 1080x360 with 1 Axes>"
      ]
     },
     "metadata": {},
     "output_type": "display_data"
    }
   ],
   "source": [
    "plt.figure(figsize = (15, 5))\n",
    "sns.barplot(x = data.index, y = data['count'])\n",
    "plt.xlabel('Rate for Two People', size=15)\n",
    "plt.ylabel('No. of orders', size=15)\n",
    "plt.xticks(size=12)\n",
    "plt.yticks(size=12)\n",
    "plt.title('Top preferred costs for two people', size = 20)\n",
    "plt.show()"
   ]
  },
  {
   "cell_type": "markdown",
   "id": "886839f0",
   "metadata": {},
   "source": [
    "### Restaurant Type vs No. of orders"
   ]
  },
  {
   "cell_type": "code",
   "execution_count": 32,
   "id": "7fcf4005",
   "metadata": {},
   "outputs": [
    {
     "data": {
      "image/png": "[encoded data removed]",
      "text/plain": [
       "<Figure size 864x360 with 1 Axes>"
      ]
     },
     "metadata": {},
     "output_type": "display_data"
    }
   ],
   "source": [
    "plt.figure(figsize=(12,5))\n",
    "ax = orders_df.rest_type.value_counts()[:25]\n",
    "ax.plot(kind='bar')\n",
    "plt.title(\"Most Famous Restaurant Types\",fontsize=15)\n",
    "plt.xlabel(\"Type of Restaurants\")\n",
    "plt.ylabel(\"No. of Orders\")\n",
    "plt.show()"
   ]
  },
  {
   "cell_type": "markdown",
   "id": "1c0537e4",
   "metadata": {},
   "source": [
    "### Most famous Cusines among People"
   ]
  },
  {
   "cell_type": "code",
   "execution_count": 33,
   "id": "235e774a",
   "metadata": {},
   "outputs": [
    {
     "data": {
      "image/png": "[encoded data removed]",
      "text/plain": [
       "<Figure size 864x360 with 1 Axes>"
      ]
     },
     "metadata": {},
     "output_type": "display_data"
    }
   ],
   "source": [
    "plt.figure(figsize=(12,5))\n",
    "ax = orders_df.cuisines.value_counts()[:25].plot(kind='bar')\n",
    "plt.title(\"Most famous Cusines among People\",fontsize=15)\n",
    "plt.xlabel(\"Cuisines\")\n",
    "plt.ylabel (\"No. of Orders\")\n",
    "plt.show()"
   ]
  },
  {
   "cell_type": "markdown",
   "id": "1c5b80a3",
   "metadata": {},
   "source": [
    "### Top Locations with Most Number of Restaurants"
   ]
  },
  {
   "cell_type": "code",
   "execution_count": 34,
   "id": "seeing-delta",
   "metadata": {},
   "outputs": [],
   "source": [
    "top_areas = pd.DataFrame(orders_df.groupby(by='location')['name'].nunique())\n",
    "top_areas.columns = ['count']\n",
    "top_areas.sort_values(by='count', ascending= False, inplace=True)"
   ]
  },
  {
   "cell_type": "code",
   "execution_count": 35,
   "id": "active-hunter",
   "metadata": {},
   "outputs": [
    {
     "data": {
      "image/png": "[encoded data removed]",
      "text/plain": [
       "<Figure size 864x432 with 1 Axes>"
      ]
     },
     "metadata": {},
     "output_type": "display_data"
    }
   ],
   "source": [
    "plt.rcParams['figure.figsize'] = (12,6)\n",
    "ax = top_areas[0:30].plot(kind='bar')\n",
    "plt.xlabel('Location', size = 12)\n",
    "plt.ylabel('No. of Restaurants', size = 12)\n",
    "plt.title('Top Locations with Most Number of Restaurants', size = 15)\n",
    "plt.show()"
   ]
  },
  {
   "cell_type": "markdown",
   "id": "1d280f06",
   "metadata": {},
   "source": [
    "### Top Areas with Most Number of Restaurants"
   ]
  },
  {
   "cell_type": "code",
   "execution_count": 36,
   "id": "920ea9da",
   "metadata": {},
   "outputs": [],
   "source": [
    "top_areas = pd.DataFrame(orders_df.groupby(by='area')['name'].nunique())\n",
    "top_areas.columns = ['count']\n",
    "top_areas.sort_values(by='count', ascending= False, inplace=True)"
   ]
  },
  {
   "cell_type": "code",
   "execution_count": 37,
   "id": "77ee3d93",
   "metadata": {},
   "outputs": [
    {
     "data": {
      "image/png": "[encoded data removed]",
      "text/plain": [
       "<Figure size 864x432 with 1 Axes>"
      ]
     },
     "metadata": {},
     "output_type": "display_data"
    }
   ],
   "source": [
    "plt.rcParams['figure.figsize'] = (12,6)\n",
    "ax = top_areas[0:30].plot(kind='bar')\n",
    "plt.xlabel('Areas', size = 12)\n",
    "plt.ylabel('No. of Restaurants', size = 12)\n",
    "plt.title('Top Areas with Most Number of Restaurants', size = 15)\n",
    "plt.show()"
   ]
  },
  {
   "cell_type": "markdown",
   "id": "realistic-reminder",
   "metadata": {},
   "source": [
    "## Encoding Columns"
   ]
  },
  {
   "cell_type": "markdown",
   "id": "decent-journalist",
   "metadata": {},
   "source": [
    "### Online Order Column"
   ]
  },
  {
   "cell_type": "code",
   "execution_count": 38,
   "id": "closing-tyler",
   "metadata": {},
   "outputs": [
    {
     "data": {
      "text/html": [
       "<div>\n",
       "<style scoped>\n",
       "    .dataframe tbody tr th:only-of-type {\n",
       "        vertical-align: middle;\n",
       "    }\n",
       "\n",
       "    .dataframe tbody tr th {\n",
       "        vertical-align: top;\n",
       "    }\n",
       "\n",
       "    .dataframe thead th {\n",
       "        text-align: right;\n",
       "    }\n",
       "</style>\n",
       "<table border=\"1\" class=\"dataframe\">\n",
       "  <thead>\n",
       "    <tr style=\"text-align: right;\">\n",
       "      <th></th>\n",
       "      <th>name</th>\n",
       "      <th>online_order</th>\n",
       "      <th>book_table</th>\n",
       "      <th>rate</th>\n",
       "      <th>votes</th>\n",
       "      <th>location</th>\n",
       "      <th>rest_type</th>\n",
       "      <th>cuisines</th>\n",
       "      <th>approx_cost</th>\n",
       "      <th>area</th>\n",
       "    </tr>\n",
       "  </thead>\n",
       "  <tbody>\n",
       "    <tr>\n",
       "      <th>0</th>\n",
       "      <td>Jalsa</td>\n",
       "      <td>1</td>\n",
       "      <td>Yes</td>\n",
       "      <td>4.1</td>\n",
       "      <td>775</td>\n",
       "      <td>Banashankari</td>\n",
       "      <td>Casual Dining</td>\n",
       "      <td>North Indian, Mughlai, Chinese</td>\n",
       "      <td>800.0</td>\n",
       "      <td>Banashankari</td>\n",
       "    </tr>\n",
       "    <tr>\n",
       "      <th>1</th>\n",
       "      <td>Spice Elephant</td>\n",
       "      <td>1</td>\n",
       "      <td>No</td>\n",
       "      <td>4.1</td>\n",
       "      <td>787</td>\n",
       "      <td>Banashankari</td>\n",
       "      <td>Casual Dining</td>\n",
       "      <td>Chinese, North Indian, Thai</td>\n",
       "      <td>800.0</td>\n",
       "      <td>Banashankari</td>\n",
       "    </tr>\n",
       "    <tr>\n",
       "      <th>2</th>\n",
       "      <td>San Churro Cafe</td>\n",
       "      <td>1</td>\n",
       "      <td>No</td>\n",
       "      <td>3.8</td>\n",
       "      <td>918</td>\n",
       "      <td>Banashankari</td>\n",
       "      <td>Cafe, Casual Dining</td>\n",
       "      <td>Cafe, Mexican, Italian</td>\n",
       "      <td>800.0</td>\n",
       "      <td>Banashankari</td>\n",
       "    </tr>\n",
       "    <tr>\n",
       "      <th>3</th>\n",
       "      <td>Addhuri Udupi Bhojana</td>\n",
       "      <td>0</td>\n",
       "      <td>No</td>\n",
       "      <td>3.7</td>\n",
       "      <td>88</td>\n",
       "      <td>Banashankari</td>\n",
       "      <td>Quick Bites</td>\n",
       "      <td>South Indian, North Indian</td>\n",
       "      <td>300.0</td>\n",
       "      <td>Banashankari</td>\n",
       "    </tr>\n",
       "    <tr>\n",
       "      <th>4</th>\n",
       "      <td>Grand Village</td>\n",
       "      <td>0</td>\n",
       "      <td>No</td>\n",
       "      <td>3.8</td>\n",
       "      <td>166</td>\n",
       "      <td>Basavanagudi</td>\n",
       "      <td>Casual Dining</td>\n",
       "      <td>North Indian, Rajasthani</td>\n",
       "      <td>600.0</td>\n",
       "      <td>Banashankari</td>\n",
       "    </tr>\n",
       "  </tbody>\n",
       "</table>\n",
       "</div>"
      ],
      "text/plain": [
       "                    name  online_order book_table  rate  votes      location  \\\n",
       "0                  Jalsa             1        Yes   4.1    775  Banashankari   \n",
       "1         Spice Elephant             1         No   4.1    787  Banashankari   \n",
       "2        San Churro Cafe             1         No   3.8    918  Banashankari   \n",
       "3  Addhuri Udupi Bhojana             0         No   3.7     88  Banashankari   \n",
       "4          Grand Village             0         No   3.8    166  Basavanagudi   \n",
       "\n",
       "             rest_type                        cuisines  approx_cost  \\\n",
       "0        Casual Dining  North Indian, Mughlai, Chinese        800.0   \n",
       "1        Casual Dining     Chinese, North Indian, Thai        800.0   \n",
       "2  Cafe, Casual Dining          Cafe, Mexican, Italian        800.0   \n",
       "3          Quick Bites      South Indian, North Indian        300.0   \n",
       "4        Casual Dining        North Indian, Rajasthani        600.0   \n",
       "\n",
       "           area  \n",
       "0  Banashankari  \n",
       "1  Banashankari  \n",
       "2  Banashankari  \n",
       "3  Banashankari  \n",
       "4  Banashankari  "
      ]
     },
     "execution_count": 38,
     "metadata": {},
     "output_type": "execute_result"
    }
   ],
   "source": [
    "orders_df['online_order'] = orders_df['online_order'].replace({\"Yes\": 1, \"No\" : 0})\n",
    "orders_df.head()"
   ]
  },
  {
   "cell_type": "markdown",
   "id": "nasty-therapist",
   "metadata": {},
   "source": [
    "\n",
    "<br>"
   ]
  },
  {
   "cell_type": "markdown",
   "id": "certified-productivity",
   "metadata": {},
   "source": [
    "### Book Table Column"
   ]
  },
  {
   "cell_type": "code",
   "execution_count": 39,
   "id": "lesser-guinea",
   "metadata": {},
   "outputs": [
    {
     "data": {
      "text/html": [
       "<div>\n",
       "<style scoped>\n",
       "    .dataframe tbody tr th:only-of-type {\n",
       "        vertical-align: middle;\n",
       "    }\n",
       "\n",
       "    .dataframe tbody tr th {\n",
       "        vertical-align: top;\n",
       "    }\n",
       "\n",
       "    .dataframe thead th {\n",
       "        text-align: right;\n",
       "    }\n",
       "</style>\n",
       "<table border=\"1\" class=\"dataframe\">\n",
       "  <thead>\n",
       "    <tr style=\"text-align: right;\">\n",
       "      <th></th>\n",
       "      <th>name</th>\n",
       "      <th>online_order</th>\n",
       "      <th>book_table</th>\n",
       "      <th>rate</th>\n",
       "      <th>votes</th>\n",
       "      <th>location</th>\n",
       "      <th>rest_type</th>\n",
       "      <th>cuisines</th>\n",
       "      <th>approx_cost</th>\n",
       "      <th>area</th>\n",
       "    </tr>\n",
       "  </thead>\n",
       "  <tbody>\n",
       "    <tr>\n",
       "      <th>0</th>\n",
       "      <td>Jalsa</td>\n",
       "      <td>1</td>\n",
       "      <td>1</td>\n",
       "      <td>4.1</td>\n",
       "      <td>775</td>\n",
       "      <td>Banashankari</td>\n",
       "      <td>Casual Dining</td>\n",
       "      <td>North Indian, Mughlai, Chinese</td>\n",
       "      <td>800.0</td>\n",
       "      <td>Banashankari</td>\n",
       "    </tr>\n",
       "    <tr>\n",
       "      <th>1</th>\n",
       "      <td>Spice Elephant</td>\n",
       "      <td>1</td>\n",
       "      <td>0</td>\n",
       "      <td>4.1</td>\n",
       "      <td>787</td>\n",
       "      <td>Banashankari</td>\n",
       "      <td>Casual Dining</td>\n",
       "      <td>Chinese, North Indian, Thai</td>\n",
       "      <td>800.0</td>\n",
       "      <td>Banashankari</td>\n",
       "    </tr>\n",
       "    <tr>\n",
       "      <th>2</th>\n",
       "      <td>San Churro Cafe</td>\n",
       "      <td>1</td>\n",
       "      <td>0</td>\n",
       "      <td>3.8</td>\n",
       "      <td>918</td>\n",
       "      <td>Banashankari</td>\n",
       "      <td>Cafe, Casual Dining</td>\n",
       "      <td>Cafe, Mexican, Italian</td>\n",
       "      <td>800.0</td>\n",
       "      <td>Banashankari</td>\n",
       "    </tr>\n",
       "    <tr>\n",
       "      <th>3</th>\n",
       "      <td>Addhuri Udupi Bhojana</td>\n",
       "      <td>0</td>\n",
       "      <td>0</td>\n",
       "      <td>3.7</td>\n",
       "      <td>88</td>\n",
       "      <td>Banashankari</td>\n",
       "      <td>Quick Bites</td>\n",
       "      <td>South Indian, North Indian</td>\n",
       "      <td>300.0</td>\n",
       "      <td>Banashankari</td>\n",
       "    </tr>\n",
       "    <tr>\n",
       "      <th>4</th>\n",
       "      <td>Grand Village</td>\n",
       "      <td>0</td>\n",
       "      <td>0</td>\n",
       "      <td>3.8</td>\n",
       "      <td>166</td>\n",
       "      <td>Basavanagudi</td>\n",
       "      <td>Casual Dining</td>\n",
       "      <td>North Indian, Rajasthani</td>\n",
       "      <td>600.0</td>\n",
       "      <td>Banashankari</td>\n",
       "    </tr>\n",
       "  </tbody>\n",
       "</table>\n",
       "</div>"
      ],
      "text/plain": [
       "                    name  online_order  book_table  rate  votes      location  \\\n",
       "0                  Jalsa             1           1   4.1    775  Banashankari   \n",
       "1         Spice Elephant             1           0   4.1    787  Banashankari   \n",
       "2        San Churro Cafe             1           0   3.8    918  Banashankari   \n",
       "3  Addhuri Udupi Bhojana             0           0   3.7     88  Banashankari   \n",
       "4          Grand Village             0           0   3.8    166  Basavanagudi   \n",
       "\n",
       "             rest_type                        cuisines  approx_cost  \\\n",
       "0        Casual Dining  North Indian, Mughlai, Chinese        800.0   \n",
       "1        Casual Dining     Chinese, North Indian, Thai        800.0   \n",
       "2  Cafe, Casual Dining          Cafe, Mexican, Italian        800.0   \n",
       "3          Quick Bites      South Indian, North Indian        300.0   \n",
       "4        Casual Dining        North Indian, Rajasthani        600.0   \n",
       "\n",
       "           area  \n",
       "0  Banashankari  \n",
       "1  Banashankari  \n",
       "2  Banashankari  \n",
       "3  Banashankari  \n",
       "4  Banashankari  "
      ]
     },
     "execution_count": 39,
     "metadata": {},
     "output_type": "execute_result"
    }
   ],
   "source": [
    "orders_df['book_table'] = orders_df['book_table'].replace({\"Yes\": 1, \"No\" : 0})\n",
    "orders_df.head()"
   ]
  },
  {
   "cell_type": "markdown",
   "id": "interior-priority",
   "metadata": {},
   "source": [
    "<br>"
   ]
  },
  {
   "cell_type": "markdown",
   "id": "encouraging-tension",
   "metadata": {},
   "source": [
    "### Rest Type Column"
   ]
  },
  {
   "cell_type": "code",
   "execution_count": 40,
   "id": "alleged-daniel",
   "metadata": {},
   "outputs": [
    {
     "data": {
      "text/html": [
       "<div>\n",
       "<style scoped>\n",
       "    .dataframe tbody tr th:only-of-type {\n",
       "        vertical-align: middle;\n",
       "    }\n",
       "\n",
       "    .dataframe tbody tr th {\n",
       "        vertical-align: top;\n",
       "    }\n",
       "\n",
       "    .dataframe thead th {\n",
       "        text-align: right;\n",
       "    }\n",
       "</style>\n",
       "<table border=\"1\" class=\"dataframe\">\n",
       "  <thead>\n",
       "    <tr style=\"text-align: right;\">\n",
       "      <th></th>\n",
       "      <th>rest_type</th>\n",
       "      <th>Irani Cafee</th>\n",
       "      <th>Cafe</th>\n",
       "      <th>Takeaway</th>\n",
       "      <th>Casual Dining</th>\n",
       "      <th>Club</th>\n",
       "      <th>Delivery</th>\n",
       "      <th>Sweet Shop</th>\n",
       "      <th>Bhojanalya</th>\n",
       "      <th>Beverage Shop</th>\n",
       "      <th>...</th>\n",
       "      <th>Food Truck</th>\n",
       "      <th>Dhaba</th>\n",
       "      <th>Lounge</th>\n",
       "      <th>Bar</th>\n",
       "      <th>Fine Dining</th>\n",
       "      <th>Confectionery</th>\n",
       "      <th>Mess</th>\n",
       "      <th>Microbrewery</th>\n",
       "      <th>Food Court</th>\n",
       "      <th>Pop Up</th>\n",
       "    </tr>\n",
       "  </thead>\n",
       "  <tbody>\n",
       "    <tr>\n",
       "      <th>0</th>\n",
       "      <td>Casual Dining</td>\n",
       "      <td>0</td>\n",
       "      <td>0</td>\n",
       "      <td>0</td>\n",
       "      <td>0</td>\n",
       "      <td>0</td>\n",
       "      <td>0</td>\n",
       "      <td>0</td>\n",
       "      <td>0</td>\n",
       "      <td>0</td>\n",
       "      <td>...</td>\n",
       "      <td>0</td>\n",
       "      <td>0</td>\n",
       "      <td>0</td>\n",
       "      <td>0</td>\n",
       "      <td>0</td>\n",
       "      <td>0</td>\n",
       "      <td>0</td>\n",
       "      <td>0</td>\n",
       "      <td>0</td>\n",
       "      <td>0</td>\n",
       "    </tr>\n",
       "    <tr>\n",
       "      <th>1</th>\n",
       "      <td>Casual Dining</td>\n",
       "      <td>0</td>\n",
       "      <td>0</td>\n",
       "      <td>0</td>\n",
       "      <td>0</td>\n",
       "      <td>0</td>\n",
       "      <td>0</td>\n",
       "      <td>0</td>\n",
       "      <td>0</td>\n",
       "      <td>0</td>\n",
       "      <td>...</td>\n",
       "      <td>0</td>\n",
       "      <td>0</td>\n",
       "      <td>0</td>\n",
       "      <td>0</td>\n",
       "      <td>0</td>\n",
       "      <td>0</td>\n",
       "      <td>0</td>\n",
       "      <td>0</td>\n",
       "      <td>0</td>\n",
       "      <td>0</td>\n",
       "    </tr>\n",
       "    <tr>\n",
       "      <th>2</th>\n",
       "      <td>Cafe, Casual Dining</td>\n",
       "      <td>0</td>\n",
       "      <td>0</td>\n",
       "      <td>0</td>\n",
       "      <td>0</td>\n",
       "      <td>0</td>\n",
       "      <td>0</td>\n",
       "      <td>0</td>\n",
       "      <td>0</td>\n",
       "      <td>0</td>\n",
       "      <td>...</td>\n",
       "      <td>0</td>\n",
       "      <td>0</td>\n",
       "      <td>0</td>\n",
       "      <td>0</td>\n",
       "      <td>0</td>\n",
       "      <td>0</td>\n",
       "      <td>0</td>\n",
       "      <td>0</td>\n",
       "      <td>0</td>\n",
       "      <td>0</td>\n",
       "    </tr>\n",
       "    <tr>\n",
       "      <th>3</th>\n",
       "      <td>Quick Bites</td>\n",
       "      <td>0</td>\n",
       "      <td>0</td>\n",
       "      <td>0</td>\n",
       "      <td>0</td>\n",
       "      <td>0</td>\n",
       "      <td>0</td>\n",
       "      <td>0</td>\n",
       "      <td>0</td>\n",
       "      <td>0</td>\n",
       "      <td>...</td>\n",
       "      <td>0</td>\n",
       "      <td>0</td>\n",
       "      <td>0</td>\n",
       "      <td>0</td>\n",
       "      <td>0</td>\n",
       "      <td>0</td>\n",
       "      <td>0</td>\n",
       "      <td>0</td>\n",
       "      <td>0</td>\n",
       "      <td>0</td>\n",
       "    </tr>\n",
       "    <tr>\n",
       "      <th>4</th>\n",
       "      <td>Casual Dining</td>\n",
       "      <td>0</td>\n",
       "      <td>0</td>\n",
       "      <td>0</td>\n",
       "      <td>0</td>\n",
       "      <td>0</td>\n",
       "      <td>0</td>\n",
       "      <td>0</td>\n",
       "      <td>0</td>\n",
       "      <td>0</td>\n",
       "      <td>...</td>\n",
       "      <td>0</td>\n",
       "      <td>0</td>\n",
       "      <td>0</td>\n",
       "      <td>0</td>\n",
       "      <td>0</td>\n",
       "      <td>0</td>\n",
       "      <td>0</td>\n",
       "      <td>0</td>\n",
       "      <td>0</td>\n",
       "      <td>0</td>\n",
       "    </tr>\n",
       "  </tbody>\n",
       "</table>\n",
       "<p>5 rows × 26 columns</p>\n",
       "</div>"
      ],
      "text/plain": [
       "             rest_type  Irani Cafee  Cafe  Takeaway  Casual Dining  Club  \\\n",
       "0        Casual Dining            0     0         0              0     0   \n",
       "1        Casual Dining            0     0         0              0     0   \n",
       "2  Cafe, Casual Dining            0     0         0              0     0   \n",
       "3          Quick Bites            0     0         0              0     0   \n",
       "4        Casual Dining            0     0         0              0     0   \n",
       "\n",
       "   Delivery  Sweet Shop  Bhojanalya  Beverage Shop  ...  Food Truck  Dhaba  \\\n",
       "0         0           0           0              0  ...           0      0   \n",
       "1         0           0           0              0  ...           0      0   \n",
       "2         0           0           0              0  ...           0      0   \n",
       "3         0           0           0              0  ...           0      0   \n",
       "4         0           0           0              0  ...           0      0   \n",
       "\n",
       "   Lounge  Bar  Fine Dining  Confectionery  Mess  Microbrewery  Food Court  \\\n",
       "0       0    0            0              0     0             0           0   \n",
       "1       0    0            0              0     0             0           0   \n",
       "2       0    0            0              0     0             0           0   \n",
       "3       0    0            0              0     0             0           0   \n",
       "4       0    0            0              0     0             0           0   \n",
       "\n",
       "   Pop Up  \n",
       "0       0  \n",
       "1       0  \n",
       "2       0  \n",
       "3       0  \n",
       "4       0  \n",
       "\n",
       "[5 rows x 26 columns]"
      ]
     },
     "execution_count": 40,
     "metadata": {},
     "output_type": "execute_result"
    }
   ],
   "source": [
    "rest_df = pd.DataFrame(orders_df['rest_type'])\n",
    "rts = list(rest_df.rest_type.str.split(\", \"))\n",
    "unique_rts = list(set([rt for sub_list in rts for rt in sub_list]))\n",
    "\n",
    "for rt in unique_rts:\n",
    "    rest_df[rt] = int(0)\n",
    "    \n",
    "rest_df.head()"
   ]
  },
  {
   "cell_type": "code",
   "execution_count": 41,
   "id": "norman-trail",
   "metadata": {
    "scrolled": true
   },
   "outputs": [],
   "source": [
    "count = 0\n",
    "for i in rts:\n",
    "    rest_df.loc[count, i] = int(1)       \n",
    "    count+=1"
   ]
  },
  {
   "cell_type": "code",
   "execution_count": 42,
   "id": "wicked-literature",
   "metadata": {},
   "outputs": [
    {
     "data": {
      "text/html": [
       "<div>\n",
       "<style scoped>\n",
       "    .dataframe tbody tr th:only-of-type {\n",
       "        vertical-align: middle;\n",
       "    }\n",
       "\n",
       "    .dataframe tbody tr th {\n",
       "        vertical-align: top;\n",
       "    }\n",
       "\n",
       "    .dataframe thead th {\n",
       "        text-align: right;\n",
       "    }\n",
       "</style>\n",
       "<table border=\"1\" class=\"dataframe\">\n",
       "  <thead>\n",
       "    <tr style=\"text-align: right;\">\n",
       "      <th></th>\n",
       "      <th>rest_type</th>\n",
       "      <th>Irani Cafee</th>\n",
       "      <th>Cafe</th>\n",
       "      <th>Takeaway</th>\n",
       "      <th>Casual Dining</th>\n",
       "      <th>Club</th>\n",
       "      <th>Delivery</th>\n",
       "      <th>Sweet Shop</th>\n",
       "      <th>Bhojanalya</th>\n",
       "      <th>Beverage Shop</th>\n",
       "      <th>...</th>\n",
       "      <th>Food Truck</th>\n",
       "      <th>Dhaba</th>\n",
       "      <th>Lounge</th>\n",
       "      <th>Bar</th>\n",
       "      <th>Fine Dining</th>\n",
       "      <th>Confectionery</th>\n",
       "      <th>Mess</th>\n",
       "      <th>Microbrewery</th>\n",
       "      <th>Food Court</th>\n",
       "      <th>Pop Up</th>\n",
       "    </tr>\n",
       "  </thead>\n",
       "  <tbody>\n",
       "    <tr>\n",
       "      <th>0</th>\n",
       "      <td>Casual Dining</td>\n",
       "      <td>0</td>\n",
       "      <td>0</td>\n",
       "      <td>0</td>\n",
       "      <td>1</td>\n",
       "      <td>0</td>\n",
       "      <td>0</td>\n",
       "      <td>0</td>\n",
       "      <td>0</td>\n",
       "      <td>0</td>\n",
       "      <td>...</td>\n",
       "      <td>0</td>\n",
       "      <td>0</td>\n",
       "      <td>0</td>\n",
       "      <td>0</td>\n",
       "      <td>0</td>\n",
       "      <td>0</td>\n",
       "      <td>0</td>\n",
       "      <td>0</td>\n",
       "      <td>0</td>\n",
       "      <td>0</td>\n",
       "    </tr>\n",
       "    <tr>\n",
       "      <th>1</th>\n",
       "      <td>Casual Dining</td>\n",
       "      <td>0</td>\n",
       "      <td>0</td>\n",
       "      <td>0</td>\n",
       "      <td>1</td>\n",
       "      <td>0</td>\n",
       "      <td>0</td>\n",
       "      <td>0</td>\n",
       "      <td>0</td>\n",
       "      <td>0</td>\n",
       "      <td>...</td>\n",
       "      <td>0</td>\n",
       "      <td>0</td>\n",
       "      <td>0</td>\n",
       "      <td>0</td>\n",
       "      <td>0</td>\n",
       "      <td>0</td>\n",
       "      <td>0</td>\n",
       "      <td>0</td>\n",
       "      <td>0</td>\n",
       "      <td>0</td>\n",
       "    </tr>\n",
       "    <tr>\n",
       "      <th>2</th>\n",
       "      <td>Cafe, Casual Dining</td>\n",
       "      <td>0</td>\n",
       "      <td>1</td>\n",
       "      <td>0</td>\n",
       "      <td>1</td>\n",
       "      <td>0</td>\n",
       "      <td>0</td>\n",
       "      <td>0</td>\n",
       "      <td>0</td>\n",
       "      <td>0</td>\n",
       "      <td>...</td>\n",
       "      <td>0</td>\n",
       "      <td>0</td>\n",
       "      <td>0</td>\n",
       "      <td>0</td>\n",
       "      <td>0</td>\n",
       "      <td>0</td>\n",
       "      <td>0</td>\n",
       "      <td>0</td>\n",
       "      <td>0</td>\n",
       "      <td>0</td>\n",
       "    </tr>\n",
       "    <tr>\n",
       "      <th>3</th>\n",
       "      <td>Quick Bites</td>\n",
       "      <td>0</td>\n",
       "      <td>0</td>\n",
       "      <td>0</td>\n",
       "      <td>0</td>\n",
       "      <td>0</td>\n",
       "      <td>0</td>\n",
       "      <td>0</td>\n",
       "      <td>0</td>\n",
       "      <td>0</td>\n",
       "      <td>...</td>\n",
       "      <td>0</td>\n",
       "      <td>0</td>\n",
       "      <td>0</td>\n",
       "      <td>0</td>\n",
       "      <td>0</td>\n",
       "      <td>0</td>\n",
       "      <td>0</td>\n",
       "      <td>0</td>\n",
       "      <td>0</td>\n",
       "      <td>0</td>\n",
       "    </tr>\n",
       "    <tr>\n",
       "      <th>4</th>\n",
       "      <td>Casual Dining</td>\n",
       "      <td>0</td>\n",
       "      <td>0</td>\n",
       "      <td>0</td>\n",
       "      <td>1</td>\n",
       "      <td>0</td>\n",
       "      <td>0</td>\n",
       "      <td>0</td>\n",
       "      <td>0</td>\n",
       "      <td>0</td>\n",
       "      <td>...</td>\n",
       "      <td>0</td>\n",
       "      <td>0</td>\n",
       "      <td>0</td>\n",
       "      <td>0</td>\n",
       "      <td>0</td>\n",
       "      <td>0</td>\n",
       "      <td>0</td>\n",
       "      <td>0</td>\n",
       "      <td>0</td>\n",
       "      <td>0</td>\n",
       "    </tr>\n",
       "  </tbody>\n",
       "</table>\n",
       "<p>5 rows × 26 columns</p>\n",
       "</div>"
      ],
      "text/plain": [
       "             rest_type  Irani Cafee  Cafe  Takeaway  Casual Dining  Club  \\\n",
       "0        Casual Dining            0     0         0              1     0   \n",
       "1        Casual Dining            0     0         0              1     0   \n",
       "2  Cafe, Casual Dining            0     1         0              1     0   \n",
       "3          Quick Bites            0     0         0              0     0   \n",
       "4        Casual Dining            0     0         0              1     0   \n",
       "\n",
       "   Delivery  Sweet Shop  Bhojanalya  Beverage Shop  ...  Food Truck  Dhaba  \\\n",
       "0         0           0           0              0  ...           0      0   \n",
       "1         0           0           0              0  ...           0      0   \n",
       "2         0           0           0              0  ...           0      0   \n",
       "3         0           0           0              0  ...           0      0   \n",
       "4         0           0           0              0  ...           0      0   \n",
       "\n",
       "   Lounge  Bar  Fine Dining  Confectionery  Mess  Microbrewery  Food Court  \\\n",
       "0       0    0            0              0     0             0           0   \n",
       "1       0    0            0              0     0             0           0   \n",
       "2       0    0            0              0     0             0           0   \n",
       "3       0    0            0              0     0             0           0   \n",
       "4       0    0            0              0     0             0           0   \n",
       "\n",
       "   Pop Up  \n",
       "0       0  \n",
       "1       0  \n",
       "2       0  \n",
       "3       0  \n",
       "4       0  \n",
       "\n",
       "[5 rows x 26 columns]"
      ]
     },
     "execution_count": 42,
     "metadata": {},
     "output_type": "execute_result"
    }
   ],
   "source": [
    "rest_df.head()"
   ]
  },
  {
   "cell_type": "code",
   "execution_count": 43,
   "id": "excess-medium",
   "metadata": {},
   "outputs": [
    {
     "data": {
      "text/html": [
       "<div>\n",
       "<style scoped>\n",
       "    .dataframe tbody tr th:only-of-type {\n",
       "        vertical-align: middle;\n",
       "    }\n",
       "\n",
       "    .dataframe tbody tr th {\n",
       "        vertical-align: top;\n",
       "    }\n",
       "\n",
       "    .dataframe thead th {\n",
       "        text-align: right;\n",
       "    }\n",
       "</style>\n",
       "<table border=\"1\" class=\"dataframe\">\n",
       "  <thead>\n",
       "    <tr style=\"text-align: right;\">\n",
       "      <th></th>\n",
       "      <th>Irani Cafee</th>\n",
       "      <th>Cafe</th>\n",
       "      <th>Takeaway</th>\n",
       "      <th>Casual Dining</th>\n",
       "      <th>Club</th>\n",
       "      <th>Delivery</th>\n",
       "      <th>Sweet Shop</th>\n",
       "      <th>Bhojanalya</th>\n",
       "      <th>Beverage Shop</th>\n",
       "      <th>Dessert Parlor</th>\n",
       "      <th>...</th>\n",
       "      <th>Food Truck</th>\n",
       "      <th>Dhaba</th>\n",
       "      <th>Lounge</th>\n",
       "      <th>Bar</th>\n",
       "      <th>Fine Dining</th>\n",
       "      <th>Confectionery</th>\n",
       "      <th>Mess</th>\n",
       "      <th>Microbrewery</th>\n",
       "      <th>Food Court</th>\n",
       "      <th>Pop Up</th>\n",
       "    </tr>\n",
       "  </thead>\n",
       "  <tbody>\n",
       "    <tr>\n",
       "      <th>0</th>\n",
       "      <td>0</td>\n",
       "      <td>0</td>\n",
       "      <td>0</td>\n",
       "      <td>1</td>\n",
       "      <td>0</td>\n",
       "      <td>0</td>\n",
       "      <td>0</td>\n",
       "      <td>0</td>\n",
       "      <td>0</td>\n",
       "      <td>0</td>\n",
       "      <td>...</td>\n",
       "      <td>0</td>\n",
       "      <td>0</td>\n",
       "      <td>0</td>\n",
       "      <td>0</td>\n",
       "      <td>0</td>\n",
       "      <td>0</td>\n",
       "      <td>0</td>\n",
       "      <td>0</td>\n",
       "      <td>0</td>\n",
       "      <td>0</td>\n",
       "    </tr>\n",
       "    <tr>\n",
       "      <th>1</th>\n",
       "      <td>0</td>\n",
       "      <td>0</td>\n",
       "      <td>0</td>\n",
       "      <td>1</td>\n",
       "      <td>0</td>\n",
       "      <td>0</td>\n",
       "      <td>0</td>\n",
       "      <td>0</td>\n",
       "      <td>0</td>\n",
       "      <td>0</td>\n",
       "      <td>...</td>\n",
       "      <td>0</td>\n",
       "      <td>0</td>\n",
       "      <td>0</td>\n",
       "      <td>0</td>\n",
       "      <td>0</td>\n",
       "      <td>0</td>\n",
       "      <td>0</td>\n",
       "      <td>0</td>\n",
       "      <td>0</td>\n",
       "      <td>0</td>\n",
       "    </tr>\n",
       "    <tr>\n",
       "      <th>2</th>\n",
       "      <td>0</td>\n",
       "      <td>1</td>\n",
       "      <td>0</td>\n",
       "      <td>1</td>\n",
       "      <td>0</td>\n",
       "      <td>0</td>\n",
       "      <td>0</td>\n",
       "      <td>0</td>\n",
       "      <td>0</td>\n",
       "      <td>0</td>\n",
       "      <td>...</td>\n",
       "      <td>0</td>\n",
       "      <td>0</td>\n",
       "      <td>0</td>\n",
       "      <td>0</td>\n",
       "      <td>0</td>\n",
       "      <td>0</td>\n",
       "      <td>0</td>\n",
       "      <td>0</td>\n",
       "      <td>0</td>\n",
       "      <td>0</td>\n",
       "    </tr>\n",
       "    <tr>\n",
       "      <th>3</th>\n",
       "      <td>0</td>\n",
       "      <td>0</td>\n",
       "      <td>0</td>\n",
       "      <td>0</td>\n",
       "      <td>0</td>\n",
       "      <td>0</td>\n",
       "      <td>0</td>\n",
       "      <td>0</td>\n",
       "      <td>0</td>\n",
       "      <td>0</td>\n",
       "      <td>...</td>\n",
       "      <td>0</td>\n",
       "      <td>0</td>\n",
       "      <td>0</td>\n",
       "      <td>0</td>\n",
       "      <td>0</td>\n",
       "      <td>0</td>\n",
       "      <td>0</td>\n",
       "      <td>0</td>\n",
       "      <td>0</td>\n",
       "      <td>0</td>\n",
       "    </tr>\n",
       "    <tr>\n",
       "      <th>4</th>\n",
       "      <td>0</td>\n",
       "      <td>0</td>\n",
       "      <td>0</td>\n",
       "      <td>1</td>\n",
       "      <td>0</td>\n",
       "      <td>0</td>\n",
       "      <td>0</td>\n",
       "      <td>0</td>\n",
       "      <td>0</td>\n",
       "      <td>0</td>\n",
       "      <td>...</td>\n",
       "      <td>0</td>\n",
       "      <td>0</td>\n",
       "      <td>0</td>\n",
       "      <td>0</td>\n",
       "      <td>0</td>\n",
       "      <td>0</td>\n",
       "      <td>0</td>\n",
       "      <td>0</td>\n",
       "      <td>0</td>\n",
       "      <td>0</td>\n",
       "    </tr>\n",
       "  </tbody>\n",
       "</table>\n",
       "<p>5 rows × 25 columns</p>\n",
       "</div>"
      ],
      "text/plain": [
       "   Irani Cafee  Cafe  Takeaway  Casual Dining  Club  Delivery  Sweet Shop  \\\n",
       "0            0     0         0              1     0         0           0   \n",
       "1            0     0         0              1     0         0           0   \n",
       "2            0     1         0              1     0         0           0   \n",
       "3            0     0         0              0     0         0           0   \n",
       "4            0     0         0              1     0         0           0   \n",
       "\n",
       "   Bhojanalya  Beverage Shop  Dessert Parlor  ...  Food Truck  Dhaba  Lounge  \\\n",
       "0           0              0               0  ...           0      0       0   \n",
       "1           0              0               0  ...           0      0       0   \n",
       "2           0              0               0  ...           0      0       0   \n",
       "3           0              0               0  ...           0      0       0   \n",
       "4           0              0               0  ...           0      0       0   \n",
       "\n",
       "   Bar  Fine Dining  Confectionery  Mess  Microbrewery  Food Court  Pop Up  \n",
       "0    0            0              0     0             0           0       0  \n",
       "1    0            0              0     0             0           0       0  \n",
       "2    0            0              0     0             0           0       0  \n",
       "3    0            0              0     0             0           0       0  \n",
       "4    0            0              0     0             0           0       0  \n",
       "\n",
       "[5 rows x 25 columns]"
      ]
     },
     "execution_count": 43,
     "metadata": {},
     "output_type": "execute_result"
    }
   ],
   "source": [
    "rest_df.drop(['rest_type'], axis = 1, inplace=True)\n",
    "rest_df.head()"
   ]
  },
  {
   "cell_type": "markdown",
   "id": "scenic-complex",
   "metadata": {},
   "source": [
    "<br>"
   ]
  },
  {
   "cell_type": "markdown",
   "id": "aboriginal-symphony",
   "metadata": {},
   "source": [
    "### Cuisines Column"
   ]
  },
  {
   "cell_type": "code",
   "execution_count": 44,
   "id": "consistent-redhead",
   "metadata": {},
   "outputs": [
    {
     "data": {
      "text/html": [
       "<div>\n",
       "<style scoped>\n",
       "    .dataframe tbody tr th:only-of-type {\n",
       "        vertical-align: middle;\n",
       "    }\n",
       "\n",
       "    .dataframe tbody tr th {\n",
       "        vertical-align: top;\n",
       "    }\n",
       "\n",
       "    .dataframe thead th {\n",
       "        text-align: right;\n",
       "    }\n",
       "</style>\n",
       "<table border=\"1\" class=\"dataframe\">\n",
       "  <thead>\n",
       "    <tr style=\"text-align: right;\">\n",
       "      <th></th>\n",
       "      <th>cuisines</th>\n",
       "      <th>Kashmiri</th>\n",
       "      <th>North Eastern</th>\n",
       "      <th>Bubble Tea</th>\n",
       "      <th>Vietnamese</th>\n",
       "      <th>South Indian</th>\n",
       "      <th>Seafood</th>\n",
       "      <th>Kebab</th>\n",
       "      <th>Italian</th>\n",
       "      <th>Steak</th>\n",
       "      <th>...</th>\n",
       "      <th>Iranian</th>\n",
       "      <th>Belgian</th>\n",
       "      <th>Naga</th>\n",
       "      <th>Sri Lankan</th>\n",
       "      <th>Continental</th>\n",
       "      <th>Asian</th>\n",
       "      <th>Afghan</th>\n",
       "      <th>Paan</th>\n",
       "      <th>British</th>\n",
       "      <th>Russian</th>\n",
       "    </tr>\n",
       "  </thead>\n",
       "  <tbody>\n",
       "    <tr>\n",
       "      <th>0</th>\n",
       "      <td>North Indian, Mughlai, Chinese</td>\n",
       "      <td>0</td>\n",
       "      <td>0</td>\n",
       "      <td>0</td>\n",
       "      <td>0</td>\n",
       "      <td>0</td>\n",
       "      <td>0</td>\n",
       "      <td>0</td>\n",
       "      <td>0</td>\n",
       "      <td>0</td>\n",
       "      <td>...</td>\n",
       "      <td>0</td>\n",
       "      <td>0</td>\n",
       "      <td>0</td>\n",
       "      <td>0</td>\n",
       "      <td>0</td>\n",
       "      <td>0</td>\n",
       "      <td>0</td>\n",
       "      <td>0</td>\n",
       "      <td>0</td>\n",
       "      <td>0</td>\n",
       "    </tr>\n",
       "    <tr>\n",
       "      <th>1</th>\n",
       "      <td>Chinese, North Indian, Thai</td>\n",
       "      <td>0</td>\n",
       "      <td>0</td>\n",
       "      <td>0</td>\n",
       "      <td>0</td>\n",
       "      <td>0</td>\n",
       "      <td>0</td>\n",
       "      <td>0</td>\n",
       "      <td>0</td>\n",
       "      <td>0</td>\n",
       "      <td>...</td>\n",
       "      <td>0</td>\n",
       "      <td>0</td>\n",
       "      <td>0</td>\n",
       "      <td>0</td>\n",
       "      <td>0</td>\n",
       "      <td>0</td>\n",
       "      <td>0</td>\n",
       "      <td>0</td>\n",
       "      <td>0</td>\n",
       "      <td>0</td>\n",
       "    </tr>\n",
       "    <tr>\n",
       "      <th>2</th>\n",
       "      <td>Cafe, Mexican, Italian</td>\n",
       "      <td>0</td>\n",
       "      <td>0</td>\n",
       "      <td>0</td>\n",
       "      <td>0</td>\n",
       "      <td>0</td>\n",
       "      <td>0</td>\n",
       "      <td>0</td>\n",
       "      <td>0</td>\n",
       "      <td>0</td>\n",
       "      <td>...</td>\n",
       "      <td>0</td>\n",
       "      <td>0</td>\n",
       "      <td>0</td>\n",
       "      <td>0</td>\n",
       "      <td>0</td>\n",
       "      <td>0</td>\n",
       "      <td>0</td>\n",
       "      <td>0</td>\n",
       "      <td>0</td>\n",
       "      <td>0</td>\n",
       "    </tr>\n",
       "    <tr>\n",
       "      <th>3</th>\n",
       "      <td>South Indian, North Indian</td>\n",
       "      <td>0</td>\n",
       "      <td>0</td>\n",
       "      <td>0</td>\n",
       "      <td>0</td>\n",
       "      <td>0</td>\n",
       "      <td>0</td>\n",
       "      <td>0</td>\n",
       "      <td>0</td>\n",
       "      <td>0</td>\n",
       "      <td>...</td>\n",
       "      <td>0</td>\n",
       "      <td>0</td>\n",
       "      <td>0</td>\n",
       "      <td>0</td>\n",
       "      <td>0</td>\n",
       "      <td>0</td>\n",
       "      <td>0</td>\n",
       "      <td>0</td>\n",
       "      <td>0</td>\n",
       "      <td>0</td>\n",
       "    </tr>\n",
       "    <tr>\n",
       "      <th>4</th>\n",
       "      <td>North Indian, Rajasthani</td>\n",
       "      <td>0</td>\n",
       "      <td>0</td>\n",
       "      <td>0</td>\n",
       "      <td>0</td>\n",
       "      <td>0</td>\n",
       "      <td>0</td>\n",
       "      <td>0</td>\n",
       "      <td>0</td>\n",
       "      <td>0</td>\n",
       "      <td>...</td>\n",
       "      <td>0</td>\n",
       "      <td>0</td>\n",
       "      <td>0</td>\n",
       "      <td>0</td>\n",
       "      <td>0</td>\n",
       "      <td>0</td>\n",
       "      <td>0</td>\n",
       "      <td>0</td>\n",
       "      <td>0</td>\n",
       "      <td>0</td>\n",
       "    </tr>\n",
       "  </tbody>\n",
       "</table>\n",
       "<p>5 rows × 106 columns</p>\n",
       "</div>"
      ],
      "text/plain": [
       "                         cuisines  Kashmiri  North Eastern  Bubble Tea  \\\n",
       "0  North Indian, Mughlai, Chinese         0              0           0   \n",
       "1     Chinese, North Indian, Thai         0              0           0   \n",
       "2          Cafe, Mexican, Italian         0              0           0   \n",
       "3      South Indian, North Indian         0              0           0   \n",
       "4        North Indian, Rajasthani         0              0           0   \n",
       "\n",
       "   Vietnamese  South Indian  Seafood  Kebab  Italian  Steak  ...  Iranian  \\\n",
       "0           0             0        0      0        0      0  ...        0   \n",
       "1           0             0        0      0        0      0  ...        0   \n",
       "2           0             0        0      0        0      0  ...        0   \n",
       "3           0             0        0      0        0      0  ...        0   \n",
       "4           0             0        0      0        0      0  ...        0   \n",
       "\n",
       "   Belgian  Naga  Sri Lankan  Continental  Asian  Afghan  Paan  British  \\\n",
       "0        0     0           0            0      0       0     0        0   \n",
       "1        0     0           0            0      0       0     0        0   \n",
       "2        0     0           0            0      0       0     0        0   \n",
       "3        0     0           0            0      0       0     0        0   \n",
       "4        0     0           0            0      0       0     0        0   \n",
       "\n",
       "   Russian  \n",
       "0        0  \n",
       "1        0  \n",
       "2        0  \n",
       "3        0  \n",
       "4        0  \n",
       "\n",
       "[5 rows x 106 columns]"
      ]
     },
     "execution_count": 44,
     "metadata": {},
     "output_type": "execute_result"
    }
   ],
   "source": [
    "cuisines_df = pd.DataFrame(orders_df['cuisines'])\n",
    "cuisines = list(cuisines_df.cuisines.str.split(\", \"))\n",
    "unique_cuisines = list(set([cs for sub_list in cuisines for cs in sub_list]))\n",
    "unique_cuisines.remove(\"Cafe\") \n",
    "unique_cuisines.remove(\"Bakery\")\n",
    "\n",
    "for cs in unique_cuisines:\n",
    "    cuisines_df[cs] = 0   \n",
    "    \n",
    "cuisines_df.head()"
   ]
  },
  {
   "cell_type": "code",
   "execution_count": 45,
   "id": "intended-history",
   "metadata": {},
   "outputs": [],
   "source": [
    "corrected_cuisines = []\n",
    "for i in cuisines:\n",
    "    if \"Cafe\" in i:\n",
    "        i.remove(\"Cafe\")\n",
    "        \n",
    "    if \"Bakery\" in i:\n",
    "        i.remove(\"Bakery\")\n",
    "        \n",
    "    corrected_cuisines.append(list(set(i)))"
   ]
  },
  {
   "cell_type": "code",
   "execution_count": 46,
   "id": "knowing-stevens",
   "metadata": {},
   "outputs": [],
   "source": [
    "count = 0\n",
    "for i in corrected_cuisines:\n",
    "    cuisines_df.loc[count, i] = int(1)\n",
    "    count+=1"
   ]
  },
  {
   "cell_type": "code",
   "execution_count": 47,
   "id": "substantial-entity",
   "metadata": {},
   "outputs": [
    {
     "data": {
      "text/html": [
       "<div>\n",
       "<style scoped>\n",
       "    .dataframe tbody tr th:only-of-type {\n",
       "        vertical-align: middle;\n",
       "    }\n",
       "\n",
       "    .dataframe tbody tr th {\n",
       "        vertical-align: top;\n",
       "    }\n",
       "\n",
       "    .dataframe thead th {\n",
       "        text-align: right;\n",
       "    }\n",
       "</style>\n",
       "<table border=\"1\" class=\"dataframe\">\n",
       "  <thead>\n",
       "    <tr style=\"text-align: right;\">\n",
       "      <th></th>\n",
       "      <th>cuisines</th>\n",
       "      <th>Kashmiri</th>\n",
       "      <th>North Eastern</th>\n",
       "      <th>Bubble Tea</th>\n",
       "      <th>Vietnamese</th>\n",
       "      <th>South Indian</th>\n",
       "      <th>Seafood</th>\n",
       "      <th>Kebab</th>\n",
       "      <th>Italian</th>\n",
       "      <th>Steak</th>\n",
       "      <th>...</th>\n",
       "      <th>Iranian</th>\n",
       "      <th>Belgian</th>\n",
       "      <th>Naga</th>\n",
       "      <th>Sri Lankan</th>\n",
       "      <th>Continental</th>\n",
       "      <th>Asian</th>\n",
       "      <th>Afghan</th>\n",
       "      <th>Paan</th>\n",
       "      <th>British</th>\n",
       "      <th>Russian</th>\n",
       "    </tr>\n",
       "  </thead>\n",
       "  <tbody>\n",
       "    <tr>\n",
       "      <th>0</th>\n",
       "      <td>North Indian, Mughlai, Chinese</td>\n",
       "      <td>0</td>\n",
       "      <td>0</td>\n",
       "      <td>0</td>\n",
       "      <td>0</td>\n",
       "      <td>0</td>\n",
       "      <td>0</td>\n",
       "      <td>0</td>\n",
       "      <td>0</td>\n",
       "      <td>0</td>\n",
       "      <td>...</td>\n",
       "      <td>0</td>\n",
       "      <td>0</td>\n",
       "      <td>0</td>\n",
       "      <td>0</td>\n",
       "      <td>0</td>\n",
       "      <td>0</td>\n",
       "      <td>0</td>\n",
       "      <td>0</td>\n",
       "      <td>0</td>\n",
       "      <td>0</td>\n",
       "    </tr>\n",
       "    <tr>\n",
       "      <th>1</th>\n",
       "      <td>Chinese, North Indian, Thai</td>\n",
       "      <td>0</td>\n",
       "      <td>0</td>\n",
       "      <td>0</td>\n",
       "      <td>0</td>\n",
       "      <td>0</td>\n",
       "      <td>0</td>\n",
       "      <td>0</td>\n",
       "      <td>0</td>\n",
       "      <td>0</td>\n",
       "      <td>...</td>\n",
       "      <td>0</td>\n",
       "      <td>0</td>\n",
       "      <td>0</td>\n",
       "      <td>0</td>\n",
       "      <td>0</td>\n",
       "      <td>0</td>\n",
       "      <td>0</td>\n",
       "      <td>0</td>\n",
       "      <td>0</td>\n",
       "      <td>0</td>\n",
       "    </tr>\n",
       "    <tr>\n",
       "      <th>2</th>\n",
       "      <td>Cafe, Mexican, Italian</td>\n",
       "      <td>0</td>\n",
       "      <td>0</td>\n",
       "      <td>0</td>\n",
       "      <td>0</td>\n",
       "      <td>0</td>\n",
       "      <td>0</td>\n",
       "      <td>0</td>\n",
       "      <td>1</td>\n",
       "      <td>0</td>\n",
       "      <td>...</td>\n",
       "      <td>0</td>\n",
       "      <td>0</td>\n",
       "      <td>0</td>\n",
       "      <td>0</td>\n",
       "      <td>0</td>\n",
       "      <td>0</td>\n",
       "      <td>0</td>\n",
       "      <td>0</td>\n",
       "      <td>0</td>\n",
       "      <td>0</td>\n",
       "    </tr>\n",
       "    <tr>\n",
       "      <th>3</th>\n",
       "      <td>South Indian, North Indian</td>\n",
       "      <td>0</td>\n",
       "      <td>0</td>\n",
       "      <td>0</td>\n",
       "      <td>0</td>\n",
       "      <td>1</td>\n",
       "      <td>0</td>\n",
       "      <td>0</td>\n",
       "      <td>0</td>\n",
       "      <td>0</td>\n",
       "      <td>...</td>\n",
       "      <td>0</td>\n",
       "      <td>0</td>\n",
       "      <td>0</td>\n",
       "      <td>0</td>\n",
       "      <td>0</td>\n",
       "      <td>0</td>\n",
       "      <td>0</td>\n",
       "      <td>0</td>\n",
       "      <td>0</td>\n",
       "      <td>0</td>\n",
       "    </tr>\n",
       "    <tr>\n",
       "      <th>4</th>\n",
       "      <td>North Indian, Rajasthani</td>\n",
       "      <td>0</td>\n",
       "      <td>0</td>\n",
       "      <td>0</td>\n",
       "      <td>0</td>\n",
       "      <td>0</td>\n",
       "      <td>0</td>\n",
       "      <td>0</td>\n",
       "      <td>0</td>\n",
       "      <td>0</td>\n",
       "      <td>...</td>\n",
       "      <td>0</td>\n",
       "      <td>0</td>\n",
       "      <td>0</td>\n",
       "      <td>0</td>\n",
       "      <td>0</td>\n",
       "      <td>0</td>\n",
       "      <td>0</td>\n",
       "      <td>0</td>\n",
       "      <td>0</td>\n",
       "      <td>0</td>\n",
       "    </tr>\n",
       "  </tbody>\n",
       "</table>\n",
       "<p>5 rows × 106 columns</p>\n",
       "</div>"
      ],
      "text/plain": [
       "                         cuisines  Kashmiri  North Eastern  Bubble Tea  \\\n",
       "0  North Indian, Mughlai, Chinese         0              0           0   \n",
       "1     Chinese, North Indian, Thai         0              0           0   \n",
       "2          Cafe, Mexican, Italian         0              0           0   \n",
       "3      South Indian, North Indian         0              0           0   \n",
       "4        North Indian, Rajasthani         0              0           0   \n",
       "\n",
       "   Vietnamese  South Indian  Seafood  Kebab  Italian  Steak  ...  Iranian  \\\n",
       "0           0             0        0      0        0      0  ...        0   \n",
       "1           0             0        0      0        0      0  ...        0   \n",
       "2           0             0        0      0        1      0  ...        0   \n",
       "3           0             1        0      0        0      0  ...        0   \n",
       "4           0             0        0      0        0      0  ...        0   \n",
       "\n",
       "   Belgian  Naga  Sri Lankan  Continental  Asian  Afghan  Paan  British  \\\n",
       "0        0     0           0            0      0       0     0        0   \n",
       "1        0     0           0            0      0       0     0        0   \n",
       "2        0     0           0            0      0       0     0        0   \n",
       "3        0     0           0            0      0       0     0        0   \n",
       "4        0     0           0            0      0       0     0        0   \n",
       "\n",
       "   Russian  \n",
       "0        0  \n",
       "1        0  \n",
       "2        0  \n",
       "3        0  \n",
       "4        0  \n",
       "\n",
       "[5 rows x 106 columns]"
      ]
     },
     "execution_count": 47,
     "metadata": {},
     "output_type": "execute_result"
    }
   ],
   "source": [
    "cuisines_df.head()"
   ]
  },
  {
   "cell_type": "code",
   "execution_count": 48,
   "id": "peaceful-screw",
   "metadata": {},
   "outputs": [
    {
     "data": {
      "text/html": [
       "<div>\n",
       "<style scoped>\n",
       "    .dataframe tbody tr th:only-of-type {\n",
       "        vertical-align: middle;\n",
       "    }\n",
       "\n",
       "    .dataframe tbody tr th {\n",
       "        vertical-align: top;\n",
       "    }\n",
       "\n",
       "    .dataframe thead th {\n",
       "        text-align: right;\n",
       "    }\n",
       "</style>\n",
       "<table border=\"1\" class=\"dataframe\">\n",
       "  <thead>\n",
       "    <tr style=\"text-align: right;\">\n",
       "      <th></th>\n",
       "      <th>Kashmiri</th>\n",
       "      <th>North Eastern</th>\n",
       "      <th>Bubble Tea</th>\n",
       "      <th>Vietnamese</th>\n",
       "      <th>South Indian</th>\n",
       "      <th>Seafood</th>\n",
       "      <th>Kebab</th>\n",
       "      <th>Italian</th>\n",
       "      <th>Steak</th>\n",
       "      <th>Jewish</th>\n",
       "      <th>...</th>\n",
       "      <th>Iranian</th>\n",
       "      <th>Belgian</th>\n",
       "      <th>Naga</th>\n",
       "      <th>Sri Lankan</th>\n",
       "      <th>Continental</th>\n",
       "      <th>Asian</th>\n",
       "      <th>Afghan</th>\n",
       "      <th>Paan</th>\n",
       "      <th>British</th>\n",
       "      <th>Russian</th>\n",
       "    </tr>\n",
       "  </thead>\n",
       "  <tbody>\n",
       "    <tr>\n",
       "      <th>0</th>\n",
       "      <td>0</td>\n",
       "      <td>0</td>\n",
       "      <td>0</td>\n",
       "      <td>0</td>\n",
       "      <td>0</td>\n",
       "      <td>0</td>\n",
       "      <td>0</td>\n",
       "      <td>0</td>\n",
       "      <td>0</td>\n",
       "      <td>0</td>\n",
       "      <td>...</td>\n",
       "      <td>0</td>\n",
       "      <td>0</td>\n",
       "      <td>0</td>\n",
       "      <td>0</td>\n",
       "      <td>0</td>\n",
       "      <td>0</td>\n",
       "      <td>0</td>\n",
       "      <td>0</td>\n",
       "      <td>0</td>\n",
       "      <td>0</td>\n",
       "    </tr>\n",
       "    <tr>\n",
       "      <th>1</th>\n",
       "      <td>0</td>\n",
       "      <td>0</td>\n",
       "      <td>0</td>\n",
       "      <td>0</td>\n",
       "      <td>0</td>\n",
       "      <td>0</td>\n",
       "      <td>0</td>\n",
       "      <td>0</td>\n",
       "      <td>0</td>\n",
       "      <td>0</td>\n",
       "      <td>...</td>\n",
       "      <td>0</td>\n",
       "      <td>0</td>\n",
       "      <td>0</td>\n",
       "      <td>0</td>\n",
       "      <td>0</td>\n",
       "      <td>0</td>\n",
       "      <td>0</td>\n",
       "      <td>0</td>\n",
       "      <td>0</td>\n",
       "      <td>0</td>\n",
       "    </tr>\n",
       "    <tr>\n",
       "      <th>2</th>\n",
       "      <td>0</td>\n",
       "      <td>0</td>\n",
       "      <td>0</td>\n",
       "      <td>0</td>\n",
       "      <td>0</td>\n",
       "      <td>0</td>\n",
       "      <td>0</td>\n",
       "      <td>1</td>\n",
       "      <td>0</td>\n",
       "      <td>0</td>\n",
       "      <td>...</td>\n",
       "      <td>0</td>\n",
       "      <td>0</td>\n",
       "      <td>0</td>\n",
       "      <td>0</td>\n",
       "      <td>0</td>\n",
       "      <td>0</td>\n",
       "      <td>0</td>\n",
       "      <td>0</td>\n",
       "      <td>0</td>\n",
       "      <td>0</td>\n",
       "    </tr>\n",
       "    <tr>\n",
       "      <th>3</th>\n",
       "      <td>0</td>\n",
       "      <td>0</td>\n",
       "      <td>0</td>\n",
       "      <td>0</td>\n",
       "      <td>1</td>\n",
       "      <td>0</td>\n",
       "      <td>0</td>\n",
       "      <td>0</td>\n",
       "      <td>0</td>\n",
       "      <td>0</td>\n",
       "      <td>...</td>\n",
       "      <td>0</td>\n",
       "      <td>0</td>\n",
       "      <td>0</td>\n",
       "      <td>0</td>\n",
       "      <td>0</td>\n",
       "      <td>0</td>\n",
       "      <td>0</td>\n",
       "      <td>0</td>\n",
       "      <td>0</td>\n",
       "      <td>0</td>\n",
       "    </tr>\n",
       "    <tr>\n",
       "      <th>4</th>\n",
       "      <td>0</td>\n",
       "      <td>0</td>\n",
       "      <td>0</td>\n",
       "      <td>0</td>\n",
       "      <td>0</td>\n",
       "      <td>0</td>\n",
       "      <td>0</td>\n",
       "      <td>0</td>\n",
       "      <td>0</td>\n",
       "      <td>0</td>\n",
       "      <td>...</td>\n",
       "      <td>0</td>\n",
       "      <td>0</td>\n",
       "      <td>0</td>\n",
       "      <td>0</td>\n",
       "      <td>0</td>\n",
       "      <td>0</td>\n",
       "      <td>0</td>\n",
       "      <td>0</td>\n",
       "      <td>0</td>\n",
       "      <td>0</td>\n",
       "    </tr>\n",
       "  </tbody>\n",
       "</table>\n",
       "<p>5 rows × 105 columns</p>\n",
       "</div>"
      ],
      "text/plain": [
       "   Kashmiri  North Eastern  Bubble Tea  Vietnamese  South Indian  Seafood  \\\n",
       "0         0              0           0           0             0        0   \n",
       "1         0              0           0           0             0        0   \n",
       "2         0              0           0           0             0        0   \n",
       "3         0              0           0           0             1        0   \n",
       "4         0              0           0           0             0        0   \n",
       "\n",
       "   Kebab  Italian  Steak  Jewish  ...  Iranian  Belgian  Naga  Sri Lankan  \\\n",
       "0      0        0      0       0  ...        0        0     0           0   \n",
       "1      0        0      0       0  ...        0        0     0           0   \n",
       "2      0        1      0       0  ...        0        0     0           0   \n",
       "3      0        0      0       0  ...        0        0     0           0   \n",
       "4      0        0      0       0  ...        0        0     0           0   \n",
       "\n",
       "   Continental  Asian  Afghan  Paan  British  Russian  \n",
       "0            0      0       0     0        0        0  \n",
       "1            0      0       0     0        0        0  \n",
       "2            0      0       0     0        0        0  \n",
       "3            0      0       0     0        0        0  \n",
       "4            0      0       0     0        0        0  \n",
       "\n",
       "[5 rows x 105 columns]"
      ]
     },
     "execution_count": 48,
     "metadata": {},
     "output_type": "execute_result"
    }
   ],
   "source": [
    "cuisines_df.drop(['cuisines'], axis = 1, inplace=True)\n",
    "cuisines_df.head()"
   ]
  },
  {
   "cell_type": "markdown",
   "id": "focal-guatemala",
   "metadata": {},
   "source": [
    "<br>"
   ]
  },
  {
   "cell_type": "markdown",
   "id": "prompt-joyce",
   "metadata": {},
   "source": [
    "### Location Column"
   ]
  },
  {
   "cell_type": "code",
   "execution_count": 49,
   "id": "advised-hundred",
   "metadata": {},
   "outputs": [
    {
     "data": {
      "text/html": [
       "<div>\n",
       "<style scoped>\n",
       "    .dataframe tbody tr th:only-of-type {\n",
       "        vertical-align: middle;\n",
       "    }\n",
       "\n",
       "    .dataframe tbody tr th {\n",
       "        vertical-align: top;\n",
       "    }\n",
       "\n",
       "    .dataframe thead th {\n",
       "        text-align: right;\n",
       "    }\n",
       "</style>\n",
       "<table border=\"1\" class=\"dataframe\">\n",
       "  <thead>\n",
       "    <tr style=\"text-align: right;\">\n",
       "      <th></th>\n",
       "      <th>BTM</th>\n",
       "      <th>Banashankari</th>\n",
       "      <th>Banaswadi</th>\n",
       "      <th>Bannerghatta Road</th>\n",
       "      <th>Basavanagudi</th>\n",
       "      <th>Basaveshwara Nagar</th>\n",
       "      <th>Bellandur</th>\n",
       "      <th>Bommanahalli</th>\n",
       "      <th>Brigade Road</th>\n",
       "      <th>Brookefield</th>\n",
       "      <th>...</th>\n",
       "      <th>Ulsoor</th>\n",
       "      <th>Uttarahalli</th>\n",
       "      <th>Varthur Main Road, Whitefield</th>\n",
       "      <th>Vasanth Nagar</th>\n",
       "      <th>Vijay Nagar</th>\n",
       "      <th>West Bangalore</th>\n",
       "      <th>Whitefield</th>\n",
       "      <th>Wilson Garden</th>\n",
       "      <th>Yelahanka</th>\n",
       "      <th>Yeshwantpur</th>\n",
       "    </tr>\n",
       "  </thead>\n",
       "  <tbody>\n",
       "    <tr>\n",
       "      <th>0</th>\n",
       "      <td>0</td>\n",
       "      <td>1</td>\n",
       "      <td>0</td>\n",
       "      <td>0</td>\n",
       "      <td>0</td>\n",
       "      <td>0</td>\n",
       "      <td>0</td>\n",
       "      <td>0</td>\n",
       "      <td>0</td>\n",
       "      <td>0</td>\n",
       "      <td>...</td>\n",
       "      <td>0</td>\n",
       "      <td>0</td>\n",
       "      <td>0</td>\n",
       "      <td>0</td>\n",
       "      <td>0</td>\n",
       "      <td>0</td>\n",
       "      <td>0</td>\n",
       "      <td>0</td>\n",
       "      <td>0</td>\n",
       "      <td>0</td>\n",
       "    </tr>\n",
       "    <tr>\n",
       "      <th>1</th>\n",
       "      <td>0</td>\n",
       "      <td>1</td>\n",
       "      <td>0</td>\n",
       "      <td>0</td>\n",
       "      <td>0</td>\n",
       "      <td>0</td>\n",
       "      <td>0</td>\n",
       "      <td>0</td>\n",
       "      <td>0</td>\n",
       "      <td>0</td>\n",
       "      <td>...</td>\n",
       "      <td>0</td>\n",
       "      <td>0</td>\n",
       "      <td>0</td>\n",
       "      <td>0</td>\n",
       "      <td>0</td>\n",
       "      <td>0</td>\n",
       "      <td>0</td>\n",
       "      <td>0</td>\n",
       "      <td>0</td>\n",
       "      <td>0</td>\n",
       "    </tr>\n",
       "    <tr>\n",
       "      <th>2</th>\n",
       "      <td>0</td>\n",
       "      <td>1</td>\n",
       "      <td>0</td>\n",
       "      <td>0</td>\n",
       "      <td>0</td>\n",
       "      <td>0</td>\n",
       "      <td>0</td>\n",
       "      <td>0</td>\n",
       "      <td>0</td>\n",
       "      <td>0</td>\n",
       "      <td>...</td>\n",
       "      <td>0</td>\n",
       "      <td>0</td>\n",
       "      <td>0</td>\n",
       "      <td>0</td>\n",
       "      <td>0</td>\n",
       "      <td>0</td>\n",
       "      <td>0</td>\n",
       "      <td>0</td>\n",
       "      <td>0</td>\n",
       "      <td>0</td>\n",
       "    </tr>\n",
       "    <tr>\n",
       "      <th>3</th>\n",
       "      <td>0</td>\n",
       "      <td>1</td>\n",
       "      <td>0</td>\n",
       "      <td>0</td>\n",
       "      <td>0</td>\n",
       "      <td>0</td>\n",
       "      <td>0</td>\n",
       "      <td>0</td>\n",
       "      <td>0</td>\n",
       "      <td>0</td>\n",
       "      <td>...</td>\n",
       "      <td>0</td>\n",
       "      <td>0</td>\n",
       "      <td>0</td>\n",
       "      <td>0</td>\n",
       "      <td>0</td>\n",
       "      <td>0</td>\n",
       "      <td>0</td>\n",
       "      <td>0</td>\n",
       "      <td>0</td>\n",
       "      <td>0</td>\n",
       "    </tr>\n",
       "    <tr>\n",
       "      <th>4</th>\n",
       "      <td>0</td>\n",
       "      <td>0</td>\n",
       "      <td>0</td>\n",
       "      <td>0</td>\n",
       "      <td>1</td>\n",
       "      <td>0</td>\n",
       "      <td>0</td>\n",
       "      <td>0</td>\n",
       "      <td>0</td>\n",
       "      <td>0</td>\n",
       "      <td>...</td>\n",
       "      <td>0</td>\n",
       "      <td>0</td>\n",
       "      <td>0</td>\n",
       "      <td>0</td>\n",
       "      <td>0</td>\n",
       "      <td>0</td>\n",
       "      <td>0</td>\n",
       "      <td>0</td>\n",
       "      <td>0</td>\n",
       "      <td>0</td>\n",
       "    </tr>\n",
       "  </tbody>\n",
       "</table>\n",
       "<p>5 rows × 93 columns</p>\n",
       "</div>"
      ],
      "text/plain": [
       "   BTM  Banashankari  Banaswadi  Bannerghatta Road  Basavanagudi  \\\n",
       "0    0             1          0                  0             0   \n",
       "1    0             1          0                  0             0   \n",
       "2    0             1          0                  0             0   \n",
       "3    0             1          0                  0             0   \n",
       "4    0             0          0                  0             1   \n",
       "\n",
       "   Basaveshwara Nagar  Bellandur  Bommanahalli  Brigade Road  Brookefield  \\\n",
       "0                   0          0             0             0            0   \n",
       "1                   0          0             0             0            0   \n",
       "2                   0          0             0             0            0   \n",
       "3                   0          0             0             0            0   \n",
       "4                   0          0             0             0            0   \n",
       "\n",
       "   ...  Ulsoor  Uttarahalli  Varthur Main Road, Whitefield  Vasanth Nagar  \\\n",
       "0  ...       0            0                              0              0   \n",
       "1  ...       0            0                              0              0   \n",
       "2  ...       0            0                              0              0   \n",
       "3  ...       0            0                              0              0   \n",
       "4  ...       0            0                              0              0   \n",
       "\n",
       "   Vijay Nagar  West Bangalore  Whitefield  Wilson Garden  Yelahanka  \\\n",
       "0            0               0           0              0          0   \n",
       "1            0               0           0              0          0   \n",
       "2            0               0           0              0          0   \n",
       "3            0               0           0              0          0   \n",
       "4            0               0           0              0          0   \n",
       "\n",
       "   Yeshwantpur  \n",
       "0            0  \n",
       "1            0  \n",
       "2            0  \n",
       "3            0  \n",
       "4            0  \n",
       "\n",
       "[5 rows x 93 columns]"
      ]
     },
     "execution_count": 49,
     "metadata": {},
     "output_type": "execute_result"
    }
   ],
   "source": [
    "location_df = orders_df['location']\n",
    "location_df = pd.get_dummies(location_df)\n",
    "location_df.head()"
   ]
  },
  {
   "cell_type": "markdown",
   "id": "diverse-numbers",
   "metadata": {},
   "source": [
    "<br>"
   ]
  },
  {
   "cell_type": "markdown",
   "id": "hidden-rugby",
   "metadata": {},
   "source": [
    "### Area Column"
   ]
  },
  {
   "cell_type": "code",
   "execution_count": 50,
   "id": "south-inspiration",
   "metadata": {},
   "outputs": [
    {
     "data": {
      "text/html": [
       "<div>\n",
       "<style scoped>\n",
       "    .dataframe tbody tr th:only-of-type {\n",
       "        vertical-align: middle;\n",
       "    }\n",
       "\n",
       "    .dataframe tbody tr th {\n",
       "        vertical-align: top;\n",
       "    }\n",
       "\n",
       "    .dataframe thead th {\n",
       "        text-align: right;\n",
       "    }\n",
       "</style>\n",
       "<table border=\"1\" class=\"dataframe\">\n",
       "  <thead>\n",
       "    <tr style=\"text-align: right;\">\n",
       "      <th></th>\n",
       "      <th>BTM</th>\n",
       "      <th>Banashankari</th>\n",
       "      <th>Bannerghatta Road</th>\n",
       "      <th>Basavanagudi</th>\n",
       "      <th>Bellandur</th>\n",
       "      <th>Brigade Road</th>\n",
       "      <th>Brookefield</th>\n",
       "      <th>Church Street</th>\n",
       "      <th>Electronic City</th>\n",
       "      <th>Frazer Town</th>\n",
       "      <th>...</th>\n",
       "      <th>Lavelle Road</th>\n",
       "      <th>MG Road</th>\n",
       "      <th>Malleshwaram</th>\n",
       "      <th>Marathahalli</th>\n",
       "      <th>New BEL Road</th>\n",
       "      <th>Old Airport Road</th>\n",
       "      <th>Rajajinagar</th>\n",
       "      <th>Residency Road</th>\n",
       "      <th>Sarjapur Road</th>\n",
       "      <th>Whitefield</th>\n",
       "    </tr>\n",
       "  </thead>\n",
       "  <tbody>\n",
       "    <tr>\n",
       "      <th>0</th>\n",
       "      <td>0</td>\n",
       "      <td>1</td>\n",
       "      <td>0</td>\n",
       "      <td>0</td>\n",
       "      <td>0</td>\n",
       "      <td>0</td>\n",
       "      <td>0</td>\n",
       "      <td>0</td>\n",
       "      <td>0</td>\n",
       "      <td>0</td>\n",
       "      <td>...</td>\n",
       "      <td>0</td>\n",
       "      <td>0</td>\n",
       "      <td>0</td>\n",
       "      <td>0</td>\n",
       "      <td>0</td>\n",
       "      <td>0</td>\n",
       "      <td>0</td>\n",
       "      <td>0</td>\n",
       "      <td>0</td>\n",
       "      <td>0</td>\n",
       "    </tr>\n",
       "    <tr>\n",
       "      <th>1</th>\n",
       "      <td>0</td>\n",
       "      <td>1</td>\n",
       "      <td>0</td>\n",
       "      <td>0</td>\n",
       "      <td>0</td>\n",
       "      <td>0</td>\n",
       "      <td>0</td>\n",
       "      <td>0</td>\n",
       "      <td>0</td>\n",
       "      <td>0</td>\n",
       "      <td>...</td>\n",
       "      <td>0</td>\n",
       "      <td>0</td>\n",
       "      <td>0</td>\n",
       "      <td>0</td>\n",
       "      <td>0</td>\n",
       "      <td>0</td>\n",
       "      <td>0</td>\n",
       "      <td>0</td>\n",
       "      <td>0</td>\n",
       "      <td>0</td>\n",
       "    </tr>\n",
       "    <tr>\n",
       "      <th>2</th>\n",
       "      <td>0</td>\n",
       "      <td>1</td>\n",
       "      <td>0</td>\n",
       "      <td>0</td>\n",
       "      <td>0</td>\n",
       "      <td>0</td>\n",
       "      <td>0</td>\n",
       "      <td>0</td>\n",
       "      <td>0</td>\n",
       "      <td>0</td>\n",
       "      <td>...</td>\n",
       "      <td>0</td>\n",
       "      <td>0</td>\n",
       "      <td>0</td>\n",
       "      <td>0</td>\n",
       "      <td>0</td>\n",
       "      <td>0</td>\n",
       "      <td>0</td>\n",
       "      <td>0</td>\n",
       "      <td>0</td>\n",
       "      <td>0</td>\n",
       "    </tr>\n",
       "    <tr>\n",
       "      <th>3</th>\n",
       "      <td>0</td>\n",
       "      <td>1</td>\n",
       "      <td>0</td>\n",
       "      <td>0</td>\n",
       "      <td>0</td>\n",
       "      <td>0</td>\n",
       "      <td>0</td>\n",
       "      <td>0</td>\n",
       "      <td>0</td>\n",
       "      <td>0</td>\n",
       "      <td>...</td>\n",
       "      <td>0</td>\n",
       "      <td>0</td>\n",
       "      <td>0</td>\n",
       "      <td>0</td>\n",
       "      <td>0</td>\n",
       "      <td>0</td>\n",
       "      <td>0</td>\n",
       "      <td>0</td>\n",
       "      <td>0</td>\n",
       "      <td>0</td>\n",
       "    </tr>\n",
       "    <tr>\n",
       "      <th>4</th>\n",
       "      <td>0</td>\n",
       "      <td>1</td>\n",
       "      <td>0</td>\n",
       "      <td>0</td>\n",
       "      <td>0</td>\n",
       "      <td>0</td>\n",
       "      <td>0</td>\n",
       "      <td>0</td>\n",
       "      <td>0</td>\n",
       "      <td>0</td>\n",
       "      <td>...</td>\n",
       "      <td>0</td>\n",
       "      <td>0</td>\n",
       "      <td>0</td>\n",
       "      <td>0</td>\n",
       "      <td>0</td>\n",
       "      <td>0</td>\n",
       "      <td>0</td>\n",
       "      <td>0</td>\n",
       "      <td>0</td>\n",
       "      <td>0</td>\n",
       "    </tr>\n",
       "  </tbody>\n",
       "</table>\n",
       "<p>5 rows × 30 columns</p>\n",
       "</div>"
      ],
      "text/plain": [
       "   BTM  Banashankari  Bannerghatta Road  Basavanagudi  Bellandur  \\\n",
       "0    0             1                  0             0          0   \n",
       "1    0             1                  0             0          0   \n",
       "2    0             1                  0             0          0   \n",
       "3    0             1                  0             0          0   \n",
       "4    0             1                  0             0          0   \n",
       "\n",
       "   Brigade Road  Brookefield  Church Street  Electronic City  Frazer Town  \\\n",
       "0             0            0              0                0            0   \n",
       "1             0            0              0                0            0   \n",
       "2             0            0              0                0            0   \n",
       "3             0            0              0                0            0   \n",
       "4             0            0              0                0            0   \n",
       "\n",
       "   ...  Lavelle Road  MG Road  Malleshwaram  Marathahalli  New BEL Road  \\\n",
       "0  ...             0        0             0             0             0   \n",
       "1  ...             0        0             0             0             0   \n",
       "2  ...             0        0             0             0             0   \n",
       "3  ...             0        0             0             0             0   \n",
       "4  ...             0        0             0             0             0   \n",
       "\n",
       "   Old Airport Road  Rajajinagar  Residency Road  Sarjapur Road  Whitefield  \n",
       "0                 0            0               0              0           0  \n",
       "1                 0            0               0              0           0  \n",
       "2                 0            0               0              0           0  \n",
       "3                 0            0               0              0           0  \n",
       "4                 0            0               0              0           0  \n",
       "\n",
       "[5 rows x 30 columns]"
      ]
     },
     "execution_count": 50,
     "metadata": {},
     "output_type": "execute_result"
    }
   ],
   "source": [
    "area_df = orders_df['area']\n",
    "area_df = pd.get_dummies(area_df)\n",
    "area_df.head()"
   ]
  },
  {
   "cell_type": "code",
   "execution_count": 51,
   "id": "freelance-warrant",
   "metadata": {},
   "outputs": [
    {
     "data": {
      "text/html": [
       "<div>\n",
       "<style scoped>\n",
       "    .dataframe tbody tr th:only-of-type {\n",
       "        vertical-align: middle;\n",
       "    }\n",
       "\n",
       "    .dataframe tbody tr th {\n",
       "        vertical-align: top;\n",
       "    }\n",
       "\n",
       "    .dataframe thead th {\n",
       "        text-align: right;\n",
       "    }\n",
       "</style>\n",
       "<table border=\"1\" class=\"dataframe\">\n",
       "  <thead>\n",
       "    <tr style=\"text-align: right;\">\n",
       "      <th></th>\n",
       "      <th>name</th>\n",
       "      <th>online_order</th>\n",
       "      <th>book_table</th>\n",
       "      <th>rate</th>\n",
       "      <th>votes</th>\n",
       "      <th>location</th>\n",
       "      <th>rest_type</th>\n",
       "      <th>cuisines</th>\n",
       "      <th>approx_cost</th>\n",
       "      <th>area</th>\n",
       "      <th>...</th>\n",
       "      <th>Ulsoor</th>\n",
       "      <th>Uttarahalli</th>\n",
       "      <th>Varthur Main Road, Whitefield</th>\n",
       "      <th>Vasanth Nagar</th>\n",
       "      <th>Vijay Nagar</th>\n",
       "      <th>West Bangalore</th>\n",
       "      <th>Whitefield</th>\n",
       "      <th>Wilson Garden</th>\n",
       "      <th>Yelahanka</th>\n",
       "      <th>Yeshwantpur</th>\n",
       "    </tr>\n",
       "  </thead>\n",
       "  <tbody>\n",
       "    <tr>\n",
       "      <th>0</th>\n",
       "      <td>Jalsa</td>\n",
       "      <td>1</td>\n",
       "      <td>1</td>\n",
       "      <td>4.1</td>\n",
       "      <td>775</td>\n",
       "      <td>Banashankari</td>\n",
       "      <td>Casual Dining</td>\n",
       "      <td>North Indian, Mughlai, Chinese</td>\n",
       "      <td>800.0</td>\n",
       "      <td>Banashankari</td>\n",
       "      <td>...</td>\n",
       "      <td>0</td>\n",
       "      <td>0</td>\n",
       "      <td>0</td>\n",
       "      <td>0</td>\n",
       "      <td>0</td>\n",
       "      <td>0</td>\n",
       "      <td>0</td>\n",
       "      <td>0</td>\n",
       "      <td>0</td>\n",
       "      <td>0</td>\n",
       "    </tr>\n",
       "    <tr>\n",
       "      <th>1</th>\n",
       "      <td>Spice Elephant</td>\n",
       "      <td>1</td>\n",
       "      <td>0</td>\n",
       "      <td>4.1</td>\n",
       "      <td>787</td>\n",
       "      <td>Banashankari</td>\n",
       "      <td>Casual Dining</td>\n",
       "      <td>Chinese, North Indian, Thai</td>\n",
       "      <td>800.0</td>\n",
       "      <td>Banashankari</td>\n",
       "      <td>...</td>\n",
       "      <td>0</td>\n",
       "      <td>0</td>\n",
       "      <td>0</td>\n",
       "      <td>0</td>\n",
       "      <td>0</td>\n",
       "      <td>0</td>\n",
       "      <td>0</td>\n",
       "      <td>0</td>\n",
       "      <td>0</td>\n",
       "      <td>0</td>\n",
       "    </tr>\n",
       "    <tr>\n",
       "      <th>2</th>\n",
       "      <td>San Churro Cafe</td>\n",
       "      <td>1</td>\n",
       "      <td>0</td>\n",
       "      <td>3.8</td>\n",
       "      <td>918</td>\n",
       "      <td>Banashankari</td>\n",
       "      <td>Cafe, Casual Dining</td>\n",
       "      <td>Cafe, Mexican, Italian</td>\n",
       "      <td>800.0</td>\n",
       "      <td>Banashankari</td>\n",
       "      <td>...</td>\n",
       "      <td>0</td>\n",
       "      <td>0</td>\n",
       "      <td>0</td>\n",
       "      <td>0</td>\n",
       "      <td>0</td>\n",
       "      <td>0</td>\n",
       "      <td>0</td>\n",
       "      <td>0</td>\n",
       "      <td>0</td>\n",
       "      <td>0</td>\n",
       "    </tr>\n",
       "    <tr>\n",
       "      <th>3</th>\n",
       "      <td>Addhuri Udupi Bhojana</td>\n",
       "      <td>0</td>\n",
       "      <td>0</td>\n",
       "      <td>3.7</td>\n",
       "      <td>88</td>\n",
       "      <td>Banashankari</td>\n",
       "      <td>Quick Bites</td>\n",
       "      <td>South Indian, North Indian</td>\n",
       "      <td>300.0</td>\n",
       "      <td>Banashankari</td>\n",
       "      <td>...</td>\n",
       "      <td>0</td>\n",
       "      <td>0</td>\n",
       "      <td>0</td>\n",
       "      <td>0</td>\n",
       "      <td>0</td>\n",
       "      <td>0</td>\n",
       "      <td>0</td>\n",
       "      <td>0</td>\n",
       "      <td>0</td>\n",
       "      <td>0</td>\n",
       "    </tr>\n",
       "    <tr>\n",
       "      <th>4</th>\n",
       "      <td>Grand Village</td>\n",
       "      <td>0</td>\n",
       "      <td>0</td>\n",
       "      <td>3.8</td>\n",
       "      <td>166</td>\n",
       "      <td>Basavanagudi</td>\n",
       "      <td>Casual Dining</td>\n",
       "      <td>North Indian, Rajasthani</td>\n",
       "      <td>600.0</td>\n",
       "      <td>Banashankari</td>\n",
       "      <td>...</td>\n",
       "      <td>0</td>\n",
       "      <td>0</td>\n",
       "      <td>0</td>\n",
       "      <td>0</td>\n",
       "      <td>0</td>\n",
       "      <td>0</td>\n",
       "      <td>0</td>\n",
       "      <td>0</td>\n",
       "      <td>0</td>\n",
       "      <td>0</td>\n",
       "    </tr>\n",
       "  </tbody>\n",
       "</table>\n",
       "<p>5 rows × 233 columns</p>\n",
       "</div>"
      ],
      "text/plain": [
       "                    name  online_order  book_table  rate  votes      location  \\\n",
       "0                  Jalsa             1           1   4.1    775  Banashankari   \n",
       "1         Spice Elephant             1           0   4.1    787  Banashankari   \n",
       "2        San Churro Cafe             1           0   3.8    918  Banashankari   \n",
       "3  Addhuri Udupi Bhojana             0           0   3.7     88  Banashankari   \n",
       "4          Grand Village             0           0   3.8    166  Basavanagudi   \n",
       "\n",
       "             rest_type                        cuisines  approx_cost  \\\n",
       "0        Casual Dining  North Indian, Mughlai, Chinese        800.0   \n",
       "1        Casual Dining     Chinese, North Indian, Thai        800.0   \n",
       "2  Cafe, Casual Dining          Cafe, Mexican, Italian        800.0   \n",
       "3          Quick Bites      South Indian, North Indian        300.0   \n",
       "4        Casual Dining        North Indian, Rajasthani        600.0   \n",
       "\n",
       "           area  ...  Ulsoor  Uttarahalli  Varthur Main Road, Whitefield  \\\n",
       "0  Banashankari  ...       0            0                              0   \n",
       "1  Banashankari  ...       0            0                              0   \n",
       "2  Banashankari  ...       0            0                              0   \n",
       "3  Banashankari  ...       0            0                              0   \n",
       "4  Banashankari  ...       0            0                              0   \n",
       "\n",
       "   Vasanth Nagar  Vijay Nagar  West Bangalore  Whitefield  Wilson Garden  \\\n",
       "0              0            0               0           0              0   \n",
       "1              0            0               0           0              0   \n",
       "2              0            0               0           0              0   \n",
       "3              0            0               0           0              0   \n",
       "4              0            0               0           0              0   \n",
       "\n",
       "   Yelahanka  Yeshwantpur  \n",
       "0          0            0  \n",
       "1          0            0  \n",
       "2          0            0  \n",
       "3          0            0  \n",
       "4          0            0  \n",
       "\n",
       "[5 rows x 233 columns]"
      ]
     },
     "execution_count": 51,
     "metadata": {},
     "output_type": "execute_result"
    }
   ],
   "source": [
    "data_with_location = pd.concat([orders_df, rest_df, cuisines_df, location_df], axis = 1)\n",
    "data_with_location.head()"
   ]
  },
  {
   "cell_type": "code",
   "execution_count": 52,
   "id": "arabic-spring",
   "metadata": {},
   "outputs": [
    {
     "data": {
      "text/html": [
       "<div>\n",
       "<style scoped>\n",
       "    .dataframe tbody tr th:only-of-type {\n",
       "        vertical-align: middle;\n",
       "    }\n",
       "\n",
       "    .dataframe tbody tr th {\n",
       "        vertical-align: top;\n",
       "    }\n",
       "\n",
       "    .dataframe thead th {\n",
       "        text-align: right;\n",
       "    }\n",
       "</style>\n",
       "<table border=\"1\" class=\"dataframe\">\n",
       "  <thead>\n",
       "    <tr style=\"text-align: right;\">\n",
       "      <th></th>\n",
       "      <th>name</th>\n",
       "      <th>online_order</th>\n",
       "      <th>book_table</th>\n",
       "      <th>rate</th>\n",
       "      <th>votes</th>\n",
       "      <th>location</th>\n",
       "      <th>rest_type</th>\n",
       "      <th>cuisines</th>\n",
       "      <th>approx_cost</th>\n",
       "      <th>area</th>\n",
       "      <th>...</th>\n",
       "      <th>Lavelle Road</th>\n",
       "      <th>MG Road</th>\n",
       "      <th>Malleshwaram</th>\n",
       "      <th>Marathahalli</th>\n",
       "      <th>New BEL Road</th>\n",
       "      <th>Old Airport Road</th>\n",
       "      <th>Rajajinagar</th>\n",
       "      <th>Residency Road</th>\n",
       "      <th>Sarjapur Road</th>\n",
       "      <th>Whitefield</th>\n",
       "    </tr>\n",
       "  </thead>\n",
       "  <tbody>\n",
       "    <tr>\n",
       "      <th>0</th>\n",
       "      <td>Jalsa</td>\n",
       "      <td>1</td>\n",
       "      <td>1</td>\n",
       "      <td>4.1</td>\n",
       "      <td>775</td>\n",
       "      <td>Banashankari</td>\n",
       "      <td>Casual Dining</td>\n",
       "      <td>North Indian, Mughlai, Chinese</td>\n",
       "      <td>800.0</td>\n",
       "      <td>Banashankari</td>\n",
       "      <td>...</td>\n",
       "      <td>0</td>\n",
       "      <td>0</td>\n",
       "      <td>0</td>\n",
       "      <td>0</td>\n",
       "      <td>0</td>\n",
       "      <td>0</td>\n",
       "      <td>0</td>\n",
       "      <td>0</td>\n",
       "      <td>0</td>\n",
       "      <td>0</td>\n",
       "    </tr>\n",
       "    <tr>\n",
       "      <th>1</th>\n",
       "      <td>Spice Elephant</td>\n",
       "      <td>1</td>\n",
       "      <td>0</td>\n",
       "      <td>4.1</td>\n",
       "      <td>787</td>\n",
       "      <td>Banashankari</td>\n",
       "      <td>Casual Dining</td>\n",
       "      <td>Chinese, North Indian, Thai</td>\n",
       "      <td>800.0</td>\n",
       "      <td>Banashankari</td>\n",
       "      <td>...</td>\n",
       "      <td>0</td>\n",
       "      <td>0</td>\n",
       "      <td>0</td>\n",
       "      <td>0</td>\n",
       "      <td>0</td>\n",
       "      <td>0</td>\n",
       "      <td>0</td>\n",
       "      <td>0</td>\n",
       "      <td>0</td>\n",
       "      <td>0</td>\n",
       "    </tr>\n",
       "    <tr>\n",
       "      <th>2</th>\n",
       "      <td>San Churro Cafe</td>\n",
       "      <td>1</td>\n",
       "      <td>0</td>\n",
       "      <td>3.8</td>\n",
       "      <td>918</td>\n",
       "      <td>Banashankari</td>\n",
       "      <td>Cafe, Casual Dining</td>\n",
       "      <td>Cafe, Mexican, Italian</td>\n",
       "      <td>800.0</td>\n",
       "      <td>Banashankari</td>\n",
       "      <td>...</td>\n",
       "      <td>0</td>\n",
       "      <td>0</td>\n",
       "      <td>0</td>\n",
       "      <td>0</td>\n",
       "      <td>0</td>\n",
       "      <td>0</td>\n",
       "      <td>0</td>\n",
       "      <td>0</td>\n",
       "      <td>0</td>\n",
       "      <td>0</td>\n",
       "    </tr>\n",
       "    <tr>\n",
       "      <th>3</th>\n",
       "      <td>Addhuri Udupi Bhojana</td>\n",
       "      <td>0</td>\n",
       "      <td>0</td>\n",
       "      <td>3.7</td>\n",
       "      <td>88</td>\n",
       "      <td>Banashankari</td>\n",
       "      <td>Quick Bites</td>\n",
       "      <td>South Indian, North Indian</td>\n",
       "      <td>300.0</td>\n",
       "      <td>Banashankari</td>\n",
       "      <td>...</td>\n",
       "      <td>0</td>\n",
       "      <td>0</td>\n",
       "      <td>0</td>\n",
       "      <td>0</td>\n",
       "      <td>0</td>\n",
       "      <td>0</td>\n",
       "      <td>0</td>\n",
       "      <td>0</td>\n",
       "      <td>0</td>\n",
       "      <td>0</td>\n",
       "    </tr>\n",
       "    <tr>\n",
       "      <th>4</th>\n",
       "      <td>Grand Village</td>\n",
       "      <td>0</td>\n",
       "      <td>0</td>\n",
       "      <td>3.8</td>\n",
       "      <td>166</td>\n",
       "      <td>Basavanagudi</td>\n",
       "      <td>Casual Dining</td>\n",
       "      <td>North Indian, Rajasthani</td>\n",
       "      <td>600.0</td>\n",
       "      <td>Banashankari</td>\n",
       "      <td>...</td>\n",
       "      <td>0</td>\n",
       "      <td>0</td>\n",
       "      <td>0</td>\n",
       "      <td>0</td>\n",
       "      <td>0</td>\n",
       "      <td>0</td>\n",
       "      <td>0</td>\n",
       "      <td>0</td>\n",
       "      <td>0</td>\n",
       "      <td>0</td>\n",
       "    </tr>\n",
       "  </tbody>\n",
       "</table>\n",
       "<p>5 rows × 170 columns</p>\n",
       "</div>"
      ],
      "text/plain": [
       "                    name  online_order  book_table  rate  votes      location  \\\n",
       "0                  Jalsa             1           1   4.1    775  Banashankari   \n",
       "1         Spice Elephant             1           0   4.1    787  Banashankari   \n",
       "2        San Churro Cafe             1           0   3.8    918  Banashankari   \n",
       "3  Addhuri Udupi Bhojana             0           0   3.7     88  Banashankari   \n",
       "4          Grand Village             0           0   3.8    166  Basavanagudi   \n",
       "\n",
       "             rest_type                        cuisines  approx_cost  \\\n",
       "0        Casual Dining  North Indian, Mughlai, Chinese        800.0   \n",
       "1        Casual Dining     Chinese, North Indian, Thai        800.0   \n",
       "2  Cafe, Casual Dining          Cafe, Mexican, Italian        800.0   \n",
       "3          Quick Bites      South Indian, North Indian        300.0   \n",
       "4        Casual Dining        North Indian, Rajasthani        600.0   \n",
       "\n",
       "           area  ...  Lavelle Road  MG Road  Malleshwaram  Marathahalli  \\\n",
       "0  Banashankari  ...             0        0             0             0   \n",
       "1  Banashankari  ...             0        0             0             0   \n",
       "2  Banashankari  ...             0        0             0             0   \n",
       "3  Banashankari  ...             0        0             0             0   \n",
       "4  Banashankari  ...             0        0             0             0   \n",
       "\n",
       "   New BEL Road  Old Airport Road  Rajajinagar  Residency Road  Sarjapur Road  \\\n",
       "0             0                 0            0               0              0   \n",
       "1             0                 0            0               0              0   \n",
       "2             0                 0            0               0              0   \n",
       "3             0                 0            0               0              0   \n",
       "4             0                 0            0               0              0   \n",
       "\n",
       "   Whitefield  \n",
       "0           0  \n",
       "1           0  \n",
       "2           0  \n",
       "3           0  \n",
       "4           0  \n",
       "\n",
       "[5 rows x 170 columns]"
      ]
     },
     "execution_count": 52,
     "metadata": {},
     "output_type": "execute_result"
    }
   ],
   "source": [
    "data_with_area = pd.concat([orders_df, rest_df, cuisines_df, area_df], axis = 1)\n",
    "data_with_area.head()"
   ]
  },
  {
   "cell_type": "code",
   "execution_count": 53,
   "id": "beneficial-trunk",
   "metadata": {},
   "outputs": [],
   "source": [
    "data_with_location.drop(columns=['name', 'location', 'rest_type', 'cuisines', 'area'], axis = 1, inplace=True)\n",
    "data_with_area.drop(columns=['name', 'location', 'rest_type', 'cuisines', 'area'], axis=1, inplace=True)"
   ]
  },
  {
   "cell_type": "markdown",
   "id": "7af55dff",
   "metadata": {},
   "source": [
    "## Feature Selection"
   ]
  },
  {
   "cell_type": "code",
   "execution_count": 54,
   "id": "dried-bicycle",
   "metadata": {},
   "outputs": [
    {
     "name": "stdout",
     "output_type": "stream",
     "text": [
      "X =  [[  1.   1. 775. ...   0.   0.   0.]\n",
      " [  1.   0. 787. ...   0.   0.   0.]\n",
      " [  1.   0. 918. ...   0.   0.   0.]\n",
      " ...\n",
      " [  0.   0.   0. ...   0.   0.   0.]\n",
      " [  0.   1. 236. ...   0.   0.   0.]\n",
      " [  0.   0.  13. ...   0.   0.   0.]]\n",
      "\n",
      "Y =  [4.1 4.1 3.8 ... 3.7 4.3 3.4]\n"
     ]
    }
   ],
   "source": [
    "X1 = data_with_location.drop(\"rate\", axis = 1).values\n",
    "Y1 = data_with_location[\"rate\"].values\n",
    "\n",
    "print(\"X = \", X1)\n",
    "print()\n",
    "print(\"Y = \", Y1)"
   ]
  },
  {
   "cell_type": "code",
   "execution_count": 55,
   "id": "directed-microwave",
   "metadata": {},
   "outputs": [
    {
     "name": "stdout",
     "output_type": "stream",
     "text": [
      "X =  [[  1.   1. 775. ...   0.   0.   0.]\n",
      " [  1.   0. 787. ...   0.   0.   0.]\n",
      " [  1.   0. 918. ...   0.   0.   0.]\n",
      " ...\n",
      " [  0.   0.   0. ...   0.   0.   1.]\n",
      " [  0.   1. 236. ...   0.   0.   1.]\n",
      " [  0.   0.  13. ...   0.   0.   1.]]\n",
      "\n",
      "Y =  [4.1 4.1 3.8 ... 3.7 4.3 3.4]\n"
     ]
    }
   ],
   "source": [
    "X2 = data_with_area.drop(\"rate\", axis = 1).values\n",
    "Y2 = data_with_area[\"rate\"].values\n",
    "\n",
    "print(\"X = \", X2)\n",
    "print()\n",
    "print(\"Y = \", Y2)"
   ]
  },
  {
   "cell_type": "markdown",
   "id": "annoying-stone",
   "metadata": {},
   "source": [
    "<br>"
   ]
  },
  {
   "cell_type": "code",
   "execution_count": 56,
   "id": "directed-nurse",
   "metadata": {},
   "outputs": [],
   "source": [
    "from sklearn.ensemble import ExtraTreesRegressor"
   ]
  },
  {
   "cell_type": "code",
   "execution_count": 57,
   "id": "thick-round",
   "metadata": {},
   "outputs": [
    {
     "name": "stdout",
     "output_type": "stream",
     "text": [
      "[1.72836046e-02 1.62090058e-01 2.94463651e-01 4.83710001e-02\n",
      " 1.56761949e-06 1.25394302e-02 3.00675865e-03 1.00932261e-02\n",
      " 8.60120164e-05 5.44492760e-03 7.00920218e-04 7.64453788e-07\n",
      " 1.20765790e-03 3.51839237e-03 1.74289737e-03 3.74732824e-04\n",
      " 3.32381254e-06 3.23693237e-03 1.03345301e-02 8.02847118e-05\n",
      " 1.88130092e-04 3.16302505e-03 2.69126982e-03 5.59582261e-04\n",
      " 1.45809074e-05 9.43132285e-04 1.07094854e-03 3.44995324e-03\n",
      " 5.69144849e-18 1.63225339e-04 1.29730142e-04 4.31598844e-06\n",
      " 5.73180962e-04 1.00148399e-02 3.86599830e-03 2.60087714e-03\n",
      " 5.50129318e-03 8.36061961e-04 1.08883882e-05 4.71705201e-03\n",
      " 1.68175375e-03 3.06122842e-06 2.86026066e-03 3.40860496e-04\n",
      " 3.21346464e-04 0.00000000e+00 3.18571543e-04 7.88461378e-04\n",
      " 2.09272120e-02 2.76364703e-03 9.01598327e-04 8.35551718e-05\n",
      " 1.06134801e-03 2.30804404e-03 3.24676402e-03 3.84095282e-03\n",
      " 6.55944558e-05 4.80575231e-06 4.20620676e-03 1.41325633e-06\n",
      " 1.56929160e-05 3.85734915e-03 1.95926831e-04 2.47222190e-04\n",
      " 6.35581993e-04 4.93897380e-05 7.71639331e-06 1.00012370e-05\n",
      " 4.14313241e-05 1.57843009e-03 1.15044749e-16 1.04272028e-04\n",
      " 2.58563503e-05 8.29507600e-06 1.33160421e-02 1.60448105e-03\n",
      " 2.55618004e-04 1.44979834e-03 1.61752033e-02 1.07518547e-04\n",
      " 1.18569849e-06 1.83255265e-03 8.59453240e-04 1.02673415e-04\n",
      " 5.48147643e-03 2.82964700e-05 6.67727605e-03 3.58868278e-04\n",
      " 2.30700633e-04 6.27395775e-03 2.50877783e-03 5.99375223e-04\n",
      " 4.22725923e-06 1.28074144e-05 1.92285956e-03 1.58473991e-03\n",
      " 1.28762387e-03 6.41749718e-03 1.22691565e-03 3.40632850e-05\n",
      " 1.56774366e-03 5.77112843e-05 3.45744106e-04 1.83318549e-03\n",
      " 1.11678161e-04 5.06614436e-03 2.99977147e-04 1.92065960e-04\n",
      " 5.25308465e-07 1.38973716e-03 6.64996745e-06 2.11669499e-05\n",
      " 1.06966582e-02 2.73074981e-03 4.46199790e-04 3.38936197e-04\n",
      " 3.88731029e-03 2.08379753e-05 1.26046572e-02 3.84504331e-04\n",
      " 3.35190644e-05 4.32515766e-06 2.28543260e-03 9.67657936e-06\n",
      " 4.85136970e-05 3.68247827e-06 1.02144597e-05 4.29987736e-06\n",
      " 6.39861647e-03 2.10849053e-03 5.77123715e-05 1.57604374e-06\n",
      " 6.74025625e-05 1.37366884e-05 1.06229172e-02 3.68646551e-03\n",
      " 2.65038962e-03 7.17909629e-03 2.44954794e-03 9.28637077e-04\n",
      " 6.04087902e-03 3.28757722e-03 6.32956205e-03 4.86992978e-03\n",
      " 2.77931942e-04 1.31622983e-05 3.53757854e-03 4.37454032e-04\n",
      " 2.75204091e-03 2.81119080e-03 3.42046680e-03 2.16819970e-04\n",
      " 1.09135703e-03 5.56054885e-03 3.21324582e-03 4.14902964e-04\n",
      " 7.39178276e-03 9.17340693e-05 1.20402519e-03 2.49479381e-04\n",
      " 9.97887032e-04 9.18925937e-03 9.05679265e-04 7.33044102e-03\n",
      " 3.69810550e-17 1.36932196e-04 5.63054658e-03 2.08692573e-03\n",
      " 2.69941575e-05 9.49978184e-04 3.47240165e-03 2.08517480e-03\n",
      " 8.59820737e-05 3.28793927e-06 2.51035569e-04 4.04807914e-03\n",
      " 2.78344620e-04 3.10853576e-04 4.06855008e-03 7.10590392e-03\n",
      " 5.86028155e-03 4.79027552e-03 1.03201708e-03 1.08177220e-03\n",
      " 2.91910820e-05 1.79928680e-03 8.03016590e-03 1.14471664e-04\n",
      " 3.15043616e-04 3.42713313e-03 8.61257667e-03 4.07386423e-05\n",
      " 1.22397296e-06 1.64707896e-03 2.91700944e-03 7.21892605e-05\n",
      " 2.30391451e-03 5.46331320e-04 5.35263682e-07 3.77056680e-04\n",
      " 2.64271634e-04 2.16532099e-03 4.14378583e-06 5.25732404e-04\n",
      " 2.49870093e-03 2.88797920e-03 5.19707337e-04 3.29457646e-04\n",
      " 3.50434224e-04 2.00325073e-05 5.17961691e-03 8.82541268e-04\n",
      " 2.93579663e-03 7.15933318e-04 2.48424606e-04 1.55960389e-03\n",
      " 5.58810889e-04 3.93875299e-03 5.55208544e-05 6.71954342e-04\n",
      " 1.08173846e-03 2.79036198e-04 1.95618678e-05 7.19821551e-03\n",
      " 6.11270618e-04 1.97389639e-06 8.19442233e-04]\n"
     ]
    }
   ],
   "source": [
    "# Extracting Important features from data_with_location Dataframe\n",
    "imp_features1 = ExtraTreesRegressor()\n",
    "imp_features1.fit(X1, Y1)\n",
    "print(imp_features1.feature_importances_)"
   ]
  },
  {
   "cell_type": "code",
   "execution_count": 58,
   "id": "located-guarantee",
   "metadata": {},
   "outputs": [
    {
     "data": {
      "text/plain": [
       "<AxesSubplot:>"
      ]
     },
     "execution_count": 58,
     "metadata": {},
     "output_type": "execute_result"
    },
    {
     "data": {
      "image/png": "[encoded data removed]",
      "text/plain": [
       "<Figure size 864x576 with 1 Axes>"
      ]
     },
     "metadata": {},
     "output_type": "display_data"
    }
   ],
   "source": [
    "plt.figure(figsize = (12, 8))\n",
    "columns = data_with_location.drop(\"rate\", axis = 1).columns\n",
    "fseries = pd.Series(imp_features1.feature_importances_, index = columns)\n",
    "fseries.nlargest(30).plot(kind = \"barh\")"
   ]
  },
  {
   "cell_type": "code",
   "execution_count": 59,
   "id": "specified-study",
   "metadata": {},
   "outputs": [
    {
     "name": "stdout",
     "output_type": "stream",
     "text": [
      "[2.14495550e-02 1.64642433e-01 3.21982417e-01 7.21250319e-02\n",
      " 9.66827693e-07 1.38267051e-02 3.72418882e-03 1.16216458e-02\n",
      " 8.21566841e-05 6.68809499e-03 9.61866030e-04 7.97791872e-07\n",
      " 1.68283654e-03 3.87170295e-03 2.77980146e-03 4.96506245e-04\n",
      " 9.40593602e-06 4.20166086e-03 1.26707997e-02 2.08378130e-04\n",
      " 1.97446586e-04 4.19084087e-03 3.55720211e-03 7.85444423e-04\n",
      " 1.87578864e-05 1.26792627e-03 9.54597076e-04 3.95232988e-03\n",
      " 5.67139724e-16 2.19274337e-04 1.83965401e-04 2.68189222e-05\n",
      " 8.62246635e-04 1.23676862e-02 5.42757143e-03 3.42022320e-03\n",
      " 1.08702485e-02 1.34409599e-03 8.65795156e-06 6.96022823e-03\n",
      " 2.48921816e-03 2.30260072e-06 3.25659430e-03 4.01450514e-04\n",
      " 3.29460838e-04 0.00000000e+00 4.27307447e-04 8.56472803e-04\n",
      " 2.12911053e-02 3.72688182e-03 9.96085194e-04 1.43447580e-04\n",
      " 1.34956181e-03 3.12137208e-03 3.43530591e-03 4.72089624e-03\n",
      " 7.70117614e-05 3.02101864e-06 5.31557758e-03 4.94109906e-06\n",
      " 1.99017838e-05 5.35563980e-03 2.13621621e-04 4.16232324e-04\n",
      " 7.53921283e-04 1.42981835e-04 2.54466662e-05 1.81626747e-05\n",
      " 4.44907552e-05 2.59350420e-03 9.44253450e-18 3.55424098e-04\n",
      " 4.18872781e-05 8.82266732e-06 1.39442228e-02 2.24755563e-03\n",
      " 2.95721954e-04 1.94580724e-03 1.77531915e-02 1.20928596e-04\n",
      " 3.12362362e-07 2.54940671e-03 1.03840054e-03 1.59996793e-04\n",
      " 6.31404019e-03 5.84739834e-05 9.09001951e-03 3.90526856e-04\n",
      " 2.81800765e-04 8.08394344e-03 3.14036366e-03 7.08208414e-04\n",
      " 1.44398806e-05 2.02737128e-05 2.91935108e-03 2.01603677e-03\n",
      " 2.10666714e-03 7.95380484e-03 2.11968849e-03 4.34972388e-05\n",
      " 1.66814856e-03 8.65371823e-05 4.87124967e-04 3.03253906e-03\n",
      " 1.95835180e-04 6.54277154e-03 3.00762631e-04 2.20966501e-04\n",
      " 1.15359658e-06 1.54099671e-03 9.74593300e-06 2.84344282e-05\n",
      " 1.26478612e-02 4.19501879e-03 6.93914921e-04 5.48147377e-04\n",
      " 5.48024465e-03 4.10292915e-05 1.64263441e-02 4.28464221e-04\n",
      " 5.63063189e-05 1.08772817e-05 2.88160144e-03 6.28910680e-06\n",
      " 8.06742913e-05 3.32453240e-06 1.07454663e-05 7.36314797e-06\n",
      " 9.06438248e-03 2.83851742e-03 1.09633402e-04 1.02419226e-06\n",
      " 6.94630936e-05 1.95984548e-05 2.02166255e-03 1.91970580e-03\n",
      " 3.56025909e-03 1.94751919e-03 3.98592656e-03 9.46791062e-04\n",
      " 6.37907830e-03 6.52521612e-04 5.63693588e-03 1.63556053e-03\n",
      " 3.95125052e-03 4.34665234e-03 2.58156270e-03 2.31556896e-03\n",
      " 2.89547855e-03 3.27872342e-03 9.87664250e-04 7.17214756e-04\n",
      " 6.70476482e-04 8.48569116e-04 1.13997578e-03 1.22452992e-03\n",
      " 2.96475275e-03 6.43114902e-03 3.11029328e-03 3.65353614e-03\n",
      " 2.66696372e-03 1.10590171e-03 4.31272707e-03 5.47796422e-03]\n"
     ]
    }
   ],
   "source": [
    "imp_features2 = ExtraTreesRegressor()\n",
    "imp_features2.fit(X2, Y2)\n",
    "print(imp_features2.feature_importances_)"
   ]
  },
  {
   "cell_type": "code",
   "execution_count": 60,
   "id": "compressed-andrew",
   "metadata": {},
   "outputs": [
    {
     "data": {
      "text/plain": [
       "<AxesSubplot:>"
      ]
     },
     "execution_count": 60,
     "metadata": {},
     "output_type": "execute_result"
    },
    {
     "data": {
      "image/png": "[encoded data removed]",
      "text/plain": [
       "<Figure size 864x576 with 1 Axes>"
      ]
     },
     "metadata": {},
     "output_type": "display_data"
    }
   ],
   "source": [
    "plt.figure(figsize = (12, 8))\n",
    "columns = data_with_area.drop(\"rate\", axis = 1).columns\n",
    "fseries = pd.Series(imp_features2.feature_importances_, index = columns)\n",
    "fseries.nlargest(30).plot(kind = \"barh\")"
   ]
  },
  {
   "cell_type": "markdown",
   "id": "pressed-butler",
   "metadata": {},
   "source": [
    "<br>"
   ]
  },
  {
   "cell_type": "markdown",
   "id": "da6479d2",
   "metadata": {},
   "source": [
    "## Train Test Splitting of Data"
   ]
  },
  {
   "cell_type": "code",
   "execution_count": 61,
   "id": "47fc9ad5",
   "metadata": {},
   "outputs": [],
   "source": [
    "from sklearn.model_selection import train_test_split"
   ]
  },
  {
   "cell_type": "code",
   "execution_count": 62,
   "id": "5456fe82",
   "metadata": {},
   "outputs": [],
   "source": [
    "X1_train, X1_test, Y1_train, Y1_test = train_test_split(X1, Y1, test_size=0.2, random_state=42)"
   ]
  },
  {
   "cell_type": "code",
   "execution_count": 63,
   "id": "7f26c569",
   "metadata": {},
   "outputs": [],
   "source": [
    "X2_train, X2_test, Y2_train, Y2_test = train_test_split(X2, Y2, test_size=0.2, random_state=45)"
   ]
  },
  {
   "cell_type": "markdown",
   "id": "statutory-consortium",
   "metadata": {},
   "source": [
    "<br>"
   ]
  },
  {
   "cell_type": "markdown",
   "id": "5bb1e7ae",
   "metadata": {},
   "source": [
    "## Importing ML Models"
   ]
  },
  {
   "cell_type": "code",
   "execution_count": 64,
   "id": "8618cb7a",
   "metadata": {},
   "outputs": [],
   "source": [
    "from sklearn.linear_model import LinearRegression\n",
    "from sklearn.ensemble import RandomForestRegressor\n",
    "from sklearn.tree import DecisionTreeRegressor"
   ]
  },
  {
   "cell_type": "markdown",
   "id": "c9c27379",
   "metadata": {},
   "source": [
    "### Linear Regression"
   ]
  },
  {
   "cell_type": "markdown",
   "id": "c8adc4a1",
   "metadata": {},
   "source": [
    "#### For data_with_location"
   ]
  },
  {
   "cell_type": "code",
   "execution_count": 65,
   "id": "7e0cd15d",
   "metadata": {},
   "outputs": [
    {
     "data": {
      "text/plain": [
       "LinearRegression()"
      ]
     },
     "execution_count": 65,
     "metadata": {},
     "output_type": "execute_result"
    }
   ],
   "source": [
    "lr1 = LinearRegression()\n",
    "lr1.fit(X1_train, Y1_train)"
   ]
  },
  {
   "cell_type": "code",
   "execution_count": 66,
   "id": "293b1ddc",
   "metadata": {},
   "outputs": [
    {
     "data": {
      "text/plain": [
       "array([3.59842095, 3.79314729, 3.58246313, 3.48453781, 3.54911858,\n",
       "       3.86078185, 3.57360405, 3.49362775, 3.86837198, 3.53854682,\n",
       "       3.53894707, 3.66695723, 3.52999025, 3.61098495, 4.13777133,\n",
       "       3.38109923, 3.79516245, 4.33883224, 3.50354697, 3.429606  ,\n",
       "       3.45267673, 3.47351886, 3.84281261, 3.61792553, 3.51014983,\n",
       "       3.53499089, 3.84186274, 3.78805962, 3.64354086, 3.51003124,\n",
       "       3.63136543, 3.68449124, 3.94075469, 3.7367096 , 3.50586451,\n",
       "       3.46090123, 4.49197891, 3.5768909 , 3.44830891, 3.79047545,\n",
       "       3.61026277, 3.80753047, 3.55868624, 3.77055884, 3.4899659 ,\n",
       "       3.60305986, 3.62821693, 3.49645813, 4.43527374, 4.16001406,\n",
       "       3.51686224, 4.42523589, 3.63541475, 3.43397489, 3.61012108,\n",
       "       3.72063299, 3.59530734, 3.54345125, 3.62358271, 3.52398522,\n",
       "       3.76933367, 3.82226402, 3.48584428, 3.65376135, 4.02413128,\n",
       "       4.30118549, 3.48148102, 3.61607414, 3.76684806, 3.50513566,\n",
       "       3.66760143, 3.47916749, 3.60942462, 3.53674262, 3.44939577,\n",
       "       3.75321203, 3.78915287, 3.74620971, 3.52376231, 3.65923678,\n",
       "       3.71370498, 3.70409993, 3.47893004, 3.47917826, 3.66659107,\n",
       "       4.04456138, 3.64354086, 4.04826255, 3.64329237, 3.66570718,\n",
       "       3.61025638, 3.57945297, 3.95575952, 3.75626363, 3.77155212,\n",
       "       3.83458373, 3.83504789, 3.55339255, 3.71803242, 4.02444899])"
      ]
     },
     "execution_count": 66,
     "metadata": {},
     "output_type": "execute_result"
    }
   ],
   "source": [
    "Y_lr1= lr1.predict(X1_test)\n",
    "Y_lr1[:100]"
   ]
  },
  {
   "cell_type": "code",
   "execution_count": 67,
   "id": "98208edd",
   "metadata": {},
   "outputs": [
    {
     "data": {
      "image/png": "[encoded data removed]",
      "text/plain": [
       "<Figure size 864x576 with 1 Axes>"
      ]
     },
     "metadata": {},
     "output_type": "display_data"
    }
   ],
   "source": [
    "plt.figure(figsize=(12,8))\n",
    "sns.histplot(Y1_test - Y_lr1, kde=True)\n",
    "plt.show()"
   ]
  },
  {
   "cell_type": "markdown",
   "id": "b4d2e940",
   "metadata": {},
   "source": [
    "#### For data_with_area"
   ]
  },
  {
   "cell_type": "code",
   "execution_count": 68,
   "id": "165a4951",
   "metadata": {},
   "outputs": [
    {
     "data": {
      "text/plain": [
       "LinearRegression()"
      ]
     },
     "execution_count": 68,
     "metadata": {},
     "output_type": "execute_result"
    }
   ],
   "source": [
    "lr2 = LinearRegression()\n",
    "lr2.fit(X2_train, Y2_train)"
   ]
  },
  {
   "cell_type": "code",
   "execution_count": 69,
   "id": "a1d7e796",
   "metadata": {},
   "outputs": [
    {
     "data": {
      "text/plain": [
       "array([3.51048882, 3.64624727, 3.91010291, 3.5310687 , 3.63902146,\n",
       "       3.50307539, 4.12011187, 3.80908364, 3.67520392, 3.50085444,\n",
       "       3.60862335, 3.70999879, 3.67316422, 4.08726229, 3.65341947,\n",
       "       3.65980031, 4.04504739, 3.58494806, 4.14987018, 3.58862444,\n",
       "       3.64562671, 3.83260972, 3.50762822, 3.68342688, 3.70324063,\n",
       "       3.95263685, 4.13305177, 3.46835315, 3.47583025, 3.63654953,\n",
       "       3.72160944, 3.69534413, 3.8050545 , 3.77048172, 3.53513794,\n",
       "       3.48923858, 4.28697051, 3.50903821, 3.75349993, 3.69338207,\n",
       "       3.70443475, 3.60136421, 4.05891546, 3.61024504, 3.55934397,\n",
       "       3.81244436, 3.81456064, 3.50414448, 3.43098915, 3.51496927,\n",
       "       3.50303322, 3.82541065, 3.83833245, 3.52617849, 3.85815489,\n",
       "       3.84711823, 3.57644781, 3.67179775, 3.55948445, 3.57708213,\n",
       "       3.63459424, 4.12782089, 3.59805804, 3.48051497, 4.20969075,\n",
       "       3.78838586, 3.97159693, 3.64282754, 3.63616819, 3.78291687,\n",
       "       3.67089778, 3.88598112, 3.53337802, 3.78804375, 3.50613344,\n",
       "       4.34315201, 3.51727086, 3.80273326, 3.91025386, 3.52865766,\n",
       "       3.59452573, 4.02355483, 4.05226091, 3.74532676, 4.01648087,\n",
       "       3.75639088, 3.49604736, 4.05778422, 4.0555774 , 3.50822673,\n",
       "       3.52899145, 3.54964665, 4.00533319, 3.69243693, 3.49620613,\n",
       "       3.88080211, 3.50103641, 3.5804509 , 3.54935095, 3.58663405])"
      ]
     },
     "execution_count": 69,
     "metadata": {},
     "output_type": "execute_result"
    }
   ],
   "source": [
    "Y_lr2 = lr2.predict(X2_test)\n",
    "Y_lr2[:100]"
   ]
  },
  {
   "cell_type": "code",
   "execution_count": 70,
   "id": "e079e573",
   "metadata": {},
   "outputs": [
    {
     "data": {
      "image/png": "[encoded data removed]",
      "text/plain": [
       "<Figure size 864x576 with 1 Axes>"
      ]
     },
     "metadata": {},
     "output_type": "display_data"
    }
   ],
   "source": [
    "plt.figure(figsize=(12,8))\n",
    "sns.histplot(Y2_test - Y_lr2, kde=True)\n",
    "plt.show()"
   ]
  },
  {
   "cell_type": "markdown",
   "id": "aef389dc",
   "metadata": {},
   "source": [
    "### Random Forest Regression"
   ]
  },
  {
   "cell_type": "markdown",
   "id": "a1e6ca16",
   "metadata": {},
   "source": [
    "#### For data_with_location"
   ]
  },
  {
   "cell_type": "code",
   "execution_count": 71,
   "id": "dd648902",
   "metadata": {},
   "outputs": [
    {
     "data": {
      "text/plain": [
       "RandomForestRegressor()"
      ]
     },
     "execution_count": 71,
     "metadata": {},
     "output_type": "execute_result"
    }
   ],
   "source": [
    "rf1 = RandomForestRegressor()\n",
    "rf1.fit(X1_train, Y1_train)"
   ]
  },
  {
   "cell_type": "code",
   "execution_count": 72,
   "id": "a4d318f1",
   "metadata": {},
   "outputs": [
    {
     "data": {
      "text/plain": [
       "array([3.21916667, 3.545     , 3.7       , 3.2183    , 3.23805   ,\n",
       "       4.1       , 3.61      , 3.7       , 4.2       , 3.7       ,\n",
       "       3.5       , 3.7       , 3.7       , 3.7       , 4.359     ,\n",
       "       3.28391667, 3.96316667, 4.2       , 3.7       , 3.2       ,\n",
       "       3.173     , 3.7       , 3.7       , 3.73996667, 3.6102    ,\n",
       "       3.83934524, 3.7       , 4.3       , 3.5       , 3.359     ,\n",
       "       3.501     , 3.34377778, 4.199     , 4.403     , 3.995     ,\n",
       "       3.21      , 4.402     , 3.5116    , 3.7       , 4.119     ,\n",
       "       3.804     , 3.7       , 3.57706667, 4.123     , 3.469     ,\n",
       "       3.56175   , 4.01      , 3.264     , 4.4       , 4.2       ,\n",
       "       3.8       , 4.2       , 3.7       , 3.025     , 3.7       ,\n",
       "       3.861     , 3.3       , 3.819     , 3.7       , 3.7       ,\n",
       "       3.7       , 3.893     , 2.897     , 3.64005556, 4.        ,\n",
       "       4.1148    , 3.2884    , 3.108     , 3.971     , 3.31      ,\n",
       "       3.7       , 3.692     , 3.614     , 3.37197857, 3.529     ,\n",
       "       3.5       , 3.9       , 3.7       , 3.61584452, 3.7       ,\n",
       "       3.7       , 4.226     , 3.42433333, 3.439     , 3.3       ,\n",
       "       3.903     , 3.5       , 4.381     , 3.47755913, 4.178     ,\n",
       "       3.7       , 3.        , 3.8       , 3.786     , 3.6       ,\n",
       "       4.0965    , 4.        , 3.8       , 4.046     , 4.2       ])"
      ]
     },
     "execution_count": 72,
     "metadata": {},
     "output_type": "execute_result"
    }
   ],
   "source": [
    "Y_rf1 = rf1.predict(X1_test)\n",
    "Y_rf1[:100]"
   ]
  },
  {
   "cell_type": "code",
   "execution_count": 73,
   "id": "91dc8e48",
   "metadata": {},
   "outputs": [
    {
     "data": {
      "image/png": "[encoded data removed]",
      "text/plain": [
       "<Figure size 864x576 with 1 Axes>"
      ]
     },
     "metadata": {},
     "output_type": "display_data"
    }
   ],
   "source": [
    "plt.figure(figsize=(12,8))\n",
    "sns.histplot(Y1_test - Y_rf1, kde=True, bins=100)\n",
    "plt.show()"
   ]
  },
  {
   "cell_type": "markdown",
   "id": "c08b8b87",
   "metadata": {},
   "source": [
    "#### For data_with_area"
   ]
  },
  {
   "cell_type": "code",
   "execution_count": 74,
   "id": "3ca7b7b1",
   "metadata": {},
   "outputs": [
    {
     "data": {
      "text/plain": [
       "RandomForestRegressor()"
      ]
     },
     "execution_count": 74,
     "metadata": {},
     "output_type": "execute_result"
    }
   ],
   "source": [
    "rf2 = RandomForestRegressor()\n",
    "rf2.fit(X2_train, Y2_train)"
   ]
  },
  {
   "cell_type": "code",
   "execution_count": 75,
   "id": "72c97918",
   "metadata": {},
   "outputs": [
    {
     "data": {
      "text/plain": [
       "array([3.7       , 4.077     , 4.3       , 3.225     , 3.375     ,\n",
       "       3.7       , 4.199     , 4.19      , 3.123     , 3.806     ,\n",
       "       3.454     , 3.7       , 3.7       , 4.184     , 3.7       ,\n",
       "       3.3       , 4.409     , 3.771     , 4.266     , 3.7       ,\n",
       "       4.176     , 3.992     , 3.342     , 3.9       , 3.7       ,\n",
       "       4.296     , 4.101     , 3.47933333, 3.7       , 3.7       ,\n",
       "       3.6       , 3.9       , 4.082     , 3.899     , 3.7       ,\n",
       "       3.208     , 4.503     , 3.154     , 3.0765    , 3.507     ,\n",
       "       2.893     , 3.988     , 4.53      , 3.7       , 3.7       ,\n",
       "       4.085     , 3.942     , 2.809     , 3.612     , 3.525     ,\n",
       "       2.99      , 4.044     , 3.7       , 3.017     , 3.722     ,\n",
       "       3.9       , 3.554     , 3.742     , 3.7       , 3.387     ,\n",
       "       3.42      , 4.197     , 3.896     , 3.7       , 4.4       ,\n",
       "       4.001     , 4.013     , 3.702     , 3.432     , 3.87      ,\n",
       "       3.1785    , 4.1       , 3.7       , 3.69690909, 3.745     ,\n",
       "       4.805     , 3.382     , 3.879     , 4.099     , 3.781     ,\n",
       "       3.591     , 3.7       , 4.472     , 3.7       , 3.826     ,\n",
       "       3.737     , 3.397     , 4.3       , 4.465     , 3.158     ,\n",
       "       3.7       , 3.281     , 3.90825   , 3.888     , 3.211     ,\n",
       "       4.02      , 3.7       , 3.7       , 3.306     , 3.892     ])"
      ]
     },
     "execution_count": 75,
     "metadata": {},
     "output_type": "execute_result"
    }
   ],
   "source": [
    "Y_rf2 = rf2.predict(X2_test)\n",
    "Y_rf2[:100]"
   ]
  },
  {
   "cell_type": "code",
   "execution_count": 76,
   "id": "6b347313",
   "metadata": {},
   "outputs": [
    {
     "data": {
      "image/png": "[encoded data removed]",
      "text/plain": [
       "<Figure size 864x576 with 1 Axes>"
      ]
     },
     "metadata": {},
     "output_type": "display_data"
    }
   ],
   "source": [
    "plt.figure(figsize=(12,8))\n",
    "sns.histplot(Y2_test - Y_rf2, kde=True, bins=100)\n",
    "plt.show()"
   ]
  },
  {
   "cell_type": "markdown",
   "id": "4d35cfa2",
   "metadata": {},
   "source": [
    "### Decision Tree Regressor"
   ]
  },
  {
   "cell_type": "markdown",
   "id": "1f207bcc",
   "metadata": {},
   "source": [
    "#### For data_with_location"
   ]
  },
  {
   "cell_type": "code",
   "execution_count": 77,
   "id": "ab7e98c4",
   "metadata": {},
   "outputs": [
    {
     "data": {
      "text/plain": [
       "DecisionTreeRegressor()"
      ]
     },
     "execution_count": 77,
     "metadata": {},
     "output_type": "execute_result"
    }
   ],
   "source": [
    "dt1 = DecisionTreeRegressor()\n",
    "dt1.fit(X1_train, Y1_train)"
   ]
  },
  {
   "cell_type": "code",
   "execution_count": 78,
   "id": "f4e04b86",
   "metadata": {},
   "outputs": [
    {
     "data": {
      "text/plain": [
       "array([3.2       , 2.9       , 3.7       , 3.2       , 3.2       ,\n",
       "       4.1       , 3.6       , 3.7       , 4.2       , 3.7       ,\n",
       "       3.5       , 3.7       , 3.7       , 3.7       , 4.4       ,\n",
       "       3.2       , 4.05      , 4.2       , 3.7       , 3.2       ,\n",
       "       3.1       , 3.7       , 3.7       , 3.75      , 3.6       ,\n",
       "       3.85      , 3.7       , 4.3       , 3.5       , 3.4       ,\n",
       "       3.5       , 3.43333333, 4.2       , 4.4       , 4.        ,\n",
       "       3.1       , 4.4       , 3.5       , 3.7       , 4.1       ,\n",
       "       3.8       , 3.7       , 3.5       , 4.        , 3.7       ,\n",
       "       3.6       , 4.        , 3.3       , 4.4       , 4.2       ,\n",
       "       3.8       , 4.2       , 3.7       , 3.        , 3.7       ,\n",
       "       3.9       , 3.3       , 3.9       , 3.7       , 3.7       ,\n",
       "       3.7       , 3.9       , 2.9       , 3.7       , 4.        ,\n",
       "       4.1       , 3.3       , 3.1       , 4.        , 3.3       ,\n",
       "       3.7       , 3.7       , 3.6       , 3.2       , 3.6       ,\n",
       "       3.5       , 3.9       , 3.7       , 3.61428571, 3.7       ,\n",
       "       3.7       , 4.2       , 3.5       , 3.5       , 3.3       ,\n",
       "       3.9       , 3.5       , 4.4       , 3.475     , 4.2       ,\n",
       "       3.7       , 3.        , 3.8       , 3.8       , 3.6       ,\n",
       "       4.1       , 4.        , 3.8       , 4.1       , 4.2       ])"
      ]
     },
     "execution_count": 78,
     "metadata": {},
     "output_type": "execute_result"
    }
   ],
   "source": [
    "Y_dt1 = dt1.predict(X1_test)\n",
    "Y_dt1[:100]"
   ]
  },
  {
   "cell_type": "code",
   "execution_count": 79,
   "id": "a09b1f53",
   "metadata": {},
   "outputs": [
    {
     "data": {
      "image/png": "[encoded data removed]",
      "text/plain": [
       "<Figure size 864x576 with 1 Axes>"
      ]
     },
     "metadata": {},
     "output_type": "display_data"
    }
   ],
   "source": [
    "plt.figure(figsize=(12,8))\n",
    "plt.hist(Y1_test - Y_dt1, bins=100, alpha=0.7)\n",
    "plt.show()"
   ]
  },
  {
   "cell_type": "markdown",
   "id": "1b34ac75",
   "metadata": {},
   "source": [
    "#### For data_with_area"
   ]
  },
  {
   "cell_type": "code",
   "execution_count": 80,
   "id": "26a1b8d9",
   "metadata": {},
   "outputs": [
    {
     "data": {
      "text/plain": [
       "DecisionTreeRegressor()"
      ]
     },
     "execution_count": 80,
     "metadata": {},
     "output_type": "execute_result"
    }
   ],
   "source": [
    "dt2 = DecisionTreeRegressor()\n",
    "dt2.fit(X2_train, Y2_train)"
   ]
  },
  {
   "cell_type": "code",
   "execution_count": 81,
   "id": "e469999b",
   "metadata": {},
   "outputs": [
    {
     "data": {
      "text/plain": [
       "array([3.7, 4.1, 4.3, 3. , 3.5, 3.7, 4.2, 4.2, 3.1, 3.9, 3.7, 3.7, 3.7,\n",
       "       4.2, 3.7, 3.3, 4.4, 2.7, 4.3, 3.7, 4.2, 4. , 3.2, 3.9, 3.7, 4.3,\n",
       "       4.1, 3.5, 3.7, 3.7, 3.6, 3.9, 4.1, 3.9, 3.7, 3. , 4.5, 3.1, 2.8,\n",
       "       3.5, 2.8, 3.8, 4.6, 3.7, 3.7, 4.6, 3.9, 2.7, 3.7, 3.5, 3.1, 4.1,\n",
       "       3.7, 3. , 3.6, 3.9, 3.6, 3.9, 3.7, 3.4, 3.4, 4.2, 4. , 3.7, 4.4,\n",
       "       4. , 4. , 3.7, 3.4, 4.1, 3.1, 4.1, 3.7, 3.7, 3.9, 4.8, 3.4, 3.9,\n",
       "       4.1, 4. , 3.6, 3.7, 4.5, 3.7, 3.8, 3.8, 3.5, 4.3, 4.5, 3.1, 3.7,\n",
       "       3.3, 3.8, 3.9, 3.2, 4. , 3.7, 3.7, 3.3, 3.9])"
      ]
     },
     "execution_count": 81,
     "metadata": {},
     "output_type": "execute_result"
    }
   ],
   "source": [
    "Y_dt2 = dt2.predict(X2_test)\n",
    "Y_dt2[:100]"
   ]
  },
  {
   "cell_type": "code",
   "execution_count": 82,
   "id": "cb00bf95",
   "metadata": {},
   "outputs": [
    {
     "data": {
      "image/png": "[encoded data removed]",
      "text/plain": [
       "<Figure size 864x576 with 1 Axes>"
      ]
     },
     "metadata": {},
     "output_type": "display_data"
    }
   ],
   "source": [
    "plt.figure(figsize=(12,8))\n",
    "plt.hist(Y2_test - Y_dt2, bins=100, alpha=0.7)\n",
    "plt.show()"
   ]
  },
  {
   "cell_type": "markdown",
   "id": "61b3b8e9",
   "metadata": {},
   "source": [
    "## Model Evaluation"
   ]
  },
  {
   "cell_type": "code",
   "execution_count": 83,
   "id": "74216879",
   "metadata": {},
   "outputs": [],
   "source": [
    "from sklearn.metrics import mean_absolute_error, mean_squared_error, r2_score"
   ]
  },
  {
   "cell_type": "markdown",
   "id": "e12e1c52",
   "metadata": {},
   "source": [
    "### Linear Regression Model "
   ]
  },
  {
   "cell_type": "markdown",
   "id": "6a96a338",
   "metadata": {},
   "source": [
    "#### for data_with_location"
   ]
  },
  {
   "cell_type": "code",
   "execution_count": 84,
   "id": "66d02d34",
   "metadata": {},
   "outputs": [
    {
     "name": "stdout",
     "output_type": "stream",
     "text": [
      "Coefficient of Determination for train data :  0.35719946892107624\n",
      "Coefficient of Determination for test data :  0.35815519104483473\n",
      "Mean Absolute Error :  0.2402668727329378\n",
      "Mean Squared Error :  0.10121314845708274\n",
      "Root Mean Squared Error :  0.31814013965088206\n",
      "R2 Score :  0.35815519104483473\n"
     ]
    }
   ],
   "source": [
    "mae =  mean_absolute_error(Y1_test, Y_lr1)\n",
    "mse = mean_squared_error(Y1_test, Y_lr1)\n",
    "r2score = r2_score(Y1_test, Y_lr1)\n",
    "\n",
    "print(\"Coefficient of Determination for train data : \",lr1.score(X1_train, Y1_train))\n",
    "print(\"Coefficient of Determination for test data : \",lr1.score(X1_test, Y1_test))\n",
    "print(\"Mean Absolute Error : \", mae)\n",
    "print(\"Mean Squared Error : \", mse) \n",
    "print(\"Root Mean Squared Error : \", np.sqrt(mse))\n",
    "print(\"R2 Score : \", r2score) "
   ]
  },
  {
   "cell_type": "markdown",
   "id": "e347caad",
   "metadata": {},
   "source": [
    "#### for data_with_area"
   ]
  },
  {
   "cell_type": "code",
   "execution_count": 85,
   "id": "c8e0763b",
   "metadata": {},
   "outputs": [
    {
     "name": "stdout",
     "output_type": "stream",
     "text": [
      "Coefficient of Determination for train data :  0.34422351544164753\n",
      "Coefficient of Determination for test data :  0.34420175633556904\n",
      "Mean Absolute Error :  0.24307669761575212\n",
      "Mean Squared Error :  0.1027830022640607\n",
      "Root Mean Squared Error :  0.3205978825008997\n",
      "R2 Score :  0.34420175633556904\n"
     ]
    }
   ],
   "source": [
    "mae =  mean_absolute_error(Y2_test, Y_lr2)\n",
    "mse = mean_squared_error(Y2_test, Y_lr2)\n",
    "r2score = r2_score(Y2_test, Y_lr2)\n",
    "\n",
    "print(\"Coefficient of Determination for train data : \",lr2.score(X2_train, Y2_train))\n",
    "print(\"Coefficient of Determination for test data : \",lr2.score(X2_test, Y2_test))\n",
    "print(\"Mean Absolute Error : \", mae)\n",
    "print(\"Mean Squared Error : \", mse) \n",
    "print(\"Root Mean Squared Error : \", np.sqrt(mse))\n",
    "print(\"R2 Score : \", r2score) "
   ]
  },
  {
   "cell_type": "markdown",
   "id": "6b92db11",
   "metadata": {},
   "source": [
    "### Random Forest Regression Model "
   ]
  },
  {
   "cell_type": "markdown",
   "id": "37fe18b6",
   "metadata": {},
   "source": [
    "#### for data_with_location"
   ]
  },
  {
   "cell_type": "code",
   "execution_count": 86,
   "id": "5e5d7eb1",
   "metadata": {},
   "outputs": [
    {
     "name": "stdout",
     "output_type": "stream",
     "text": [
      "Coefficient of Determination for train data :  0.990309125006167\n",
      "Coefficient of Determination for test data :  0.9429992224090026\n",
      "Mean Absolute Error :  0.035739029349110794\n",
      "Mean Squared Error :  0.008988509502598116\n",
      "Root Mean Squared Error :  0.09480775022432562\n",
      "R2 Score :  0.9429992224090026\n"
     ]
    }
   ],
   "source": [
    "mae =  mean_absolute_error(Y1_test, Y_rf1)\n",
    "mse = mean_squared_error(Y1_test, Y_rf1)\n",
    "r2score = r2_score(Y1_test, Y_rf1)\n",
    "\n",
    "print(\"Coefficient of Determination for train data : \",rf1.score(X1_train, Y1_train))\n",
    "print(\"Coefficient of Determination for test data : \",rf1.score(X1_test, Y1_test))\n",
    "print(\"Mean Absolute Error : \", mae)\n",
    "print(\"Mean Squared Error : \", mse) \n",
    "print(\"Root Mean Squared Error : \", np.sqrt(mse))\n",
    "print(\"R2 Score : \", r2score) "
   ]
  },
  {
   "cell_type": "markdown",
   "id": "68525170",
   "metadata": {},
   "source": [
    "#### for data_with_area"
   ]
  },
  {
   "cell_type": "code",
   "execution_count": 87,
   "id": "fdc37bf9",
   "metadata": {},
   "outputs": [
    {
     "name": "stdout",
     "output_type": "stream",
     "text": [
      "Coefficient of Determination for train data :  0.9841310289901632\n",
      "Coefficient of Determination for test data :  0.8866429439727358\n",
      "Mean Absolute Error :  0.059268776469304514\n",
      "Mean Squared Error :  0.017766407060186343\n",
      "Root Mean Squared Error :  0.13329068632198704\n",
      "R2 Score :  0.8866429439727358\n"
     ]
    }
   ],
   "source": [
    "mae =  mean_absolute_error(Y2_test, Y_rf2)\n",
    "mse = mean_squared_error(Y2_test, Y_rf2)\n",
    "r2score = r2_score(Y2_test, Y_rf2)\n",
    "\n",
    "print(\"Coefficient of Determination for train data : \",rf2.score(X2_train, Y2_train))\n",
    "print(\"Coefficient of Determination for test data : \",rf2.score(X2_test, Y2_test))\n",
    "print(\"Mean Absolute Error : \", mae)\n",
    "print(\"Mean Squared Error : \", mse) \n",
    "print(\"Root Mean Squared Error : \", np.sqrt(mse))\n",
    "print(\"R2 Score : \", r2score) "
   ]
  },
  {
   "cell_type": "markdown",
   "id": "177a7ff6",
   "metadata": {},
   "source": [
    "### Decision Tree Regression Model"
   ]
  },
  {
   "cell_type": "markdown",
   "id": "2276f207",
   "metadata": {},
   "source": [
    "#### for data_with_location"
   ]
  },
  {
   "cell_type": "code",
   "execution_count": 88,
   "id": "14dd4770",
   "metadata": {},
   "outputs": [
    {
     "name": "stdout",
     "output_type": "stream",
     "text": [
      "Coefficient of Determination for train data :  0.998763195049567\n",
      "Coefficient of Determination for test data :  0.9150368332472777\n",
      "Mean Absolute Error :  0.025642752408958823\n",
      "Mean Squared Error :  0.013397926554747369\n",
      "Root Mean Squared Error :  0.11574941276199793\n",
      "R2 Score :  0.9150368332472777\n"
     ]
    }
   ],
   "source": [
    "mae =  mean_absolute_error(Y1_test, Y_dt1)\n",
    "mse = mean_squared_error(Y1_test, Y_dt1)\n",
    "r2score = r2_score(Y1_test, Y_dt1)\n",
    "\n",
    "print(\"Coefficient of Determination for train data : \",dt1.score(X1_train, Y1_train))\n",
    "print(\"Coefficient of Determination for test data : \",dt1.score(X1_test, Y1_test))\n",
    "print(\"Mean Absolute Error : \", mae)\n",
    "print(\"Mean Squared Error : \", mse) \n",
    "print(\"Root Mean Squared Error : \", np.sqrt(mse))\n",
    "print(\"R2 Score : \", r2score) "
   ]
  },
  {
   "cell_type": "markdown",
   "id": "d44f9b66",
   "metadata": {},
   "source": [
    "#### for data_with_area"
   ]
  },
  {
   "cell_type": "code",
   "execution_count": 89,
   "id": "0ae75b76",
   "metadata": {},
   "outputs": [
    {
     "name": "stdout",
     "output_type": "stream",
     "text": [
      "Coefficient of Determination for train data :  0.9992833408296304\n",
      "Coefficient of Determination for test data :  0.83518538542137\n",
      "Mean Absolute Error :  0.04363985476894823\n",
      "Mean Squared Error :  0.02583133008824253\n",
      "Root Mean Squared Error :  0.16072128075722433\n",
      "R2 Score :  0.83518538542137\n"
     ]
    }
   ],
   "source": [
    "mae =  mean_absolute_error(Y2_test, Y_dt2)\n",
    "mse = mean_squared_error(Y2_test, Y_dt2)\n",
    "r2score = r2_score(Y2_test, Y_dt2)\n",
    "\n",
    "\n",
    "print(\"Coefficient of Determination for train data : \",dt2.score(X2_train, Y2_train))\n",
    "print(\"Coefficient of Determination for test data : \",dt2.score(X2_test, Y2_test))\n",
    "print(\"Mean Absolute Error : \", mae)\n",
    "print(\"Mean Squared Error : \", mse) \n",
    "print(\"Root Mean Squared Error : \", np.sqrt(mse))\n",
    "print(\"R2 Score : \", r2score) "
   ]
  },
  {
   "cell_type": "markdown",
   "id": "f069d756",
   "metadata": {},
   "source": [
    "<b><h3>Conclusion:</h3></b>\n",
    "<ul>\n",
    "<li>Three models had been trained, namely Multiple Linear Regression, Random Forest Regression and Decision Tree Regression respectively.\n",
    "<li>Based on the analysis, the best model for prediction is Random Forest Regression Model.\n",
    "    <li>We will be using <b>Random Forest Regression Model for data with location</b> for our prediction system.\n",
    "<li> The Accuracy of the selected model is 91%.\n",
    "</ul>"
   ]
  },
  {
   "cell_type": "markdown",
   "id": "b473dd07",
   "metadata": {},
   "source": [
    "## Saving the Model"
   ]
  },
  {
   "cell_type": "code",
   "execution_count": 90,
   "id": "b9fd31cc",
   "metadata": {},
   "outputs": [],
   "source": [
    "import pickle"
   ]
  },
  {
   "cell_type": "code",
   "execution_count": 91,
   "id": "87b0c40f",
   "metadata": {},
   "outputs": [],
   "source": [
    "with open('rate_predict.pkl', 'wb') as file:\n",
    "    pickle.dump(rf1, file)"
   ]
  }
 ],
 "metadata": {
  "kernelspec": {
   "display_name": "Python 3",
   "language": "python",
   "name": "python3"
  },
  "language_info": {
   "codemirror_mode": {
    "name": "ipython",
    "version": 3
   },
   "file_extension": ".py",
   "mimetype": "text/x-python",
   "name": "python",
   "nbconvert_exporter": "python",
   "pygments_lexer": "ipython3",
   "version": "3.9.7"
  }
 },
 "nbformat": 4,
 "nbformat_minor": 5
}
