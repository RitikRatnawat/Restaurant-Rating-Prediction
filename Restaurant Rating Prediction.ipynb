{
 "cells": [
  {
   "cell_type": "markdown",
   "id": "demonstrated-browse",
   "metadata": {},
   "source": [
    "<center><h1>Restaurant Rating Prediction</h1></center>"
   ]
  },
  {
   "cell_type": "markdown",
   "id": "cooperative-wellington",
   "metadata": {},
   "source": [
    "<p><strong>Problem Statement : </strong>Given is a dataset containing the data about orders placed on zomato for the restaurants in Banglore. We have to predict the overall rating of the restaurant based on various factors.</p>"
   ]
  },
  {
   "cell_type": "markdown",
   "id": "65dfd2de",
   "metadata": {},
   "source": [
    "## Column Description"
   ]
  },
  {
   "cell_type": "markdown",
   "id": "a22f8698",
   "metadata": {},
   "source": [
    "<ul>\n",
    "<li>url: contains the url of the restaurant in the zomato website\n",
    "\n",
    "<li>address: contains the address of the restaurant in Bengaluru\n",
    "\n",
    "<li>name: contains the name of the restaurant\n",
    "\n",
    "<li>online_order: whether online ordering is available in the restaurant or not\n",
    "\n",
    "<li>book_table: table book option available or not\n",
    "\n",
    "<li>rate: contains the overall rating of the restaurant out of 5\n",
    "\n",
    "<li>votes: contains total number of rating for the restaurant as of the above mentioned date\n",
    "\n",
    "<li>phone: contains the phone number of the restaurant\n",
    "\n",
    "<li>location: contains the neighborhood in which the restaurant is located\n",
    "\n",
    "<li>rest_type: restaurant type\n",
    "\n",
    "<li>dish_liked: dishes people liked in the restaurant\n",
    "\n",
    "<li>cuisines: food styles, separated by comma\n",
    "\n",
    "<li>approx_cost(for two people): contains the approximate cost for meal for two people\n",
    "\n",
    "<li>reviews_list: list of tuples containing reviews for the restaurant, each tuple\n",
    "\n",
    "<li>menu_item: contains list of menus available in the restaurant\n",
    "\n",
    "<li>listed_in(type): type of meal\n",
    "\n",
    "<li>listed_in(city): contains the neighborhood in which the restaurant is listed\n",
    "    </ul>"
   ]
  },
  {
   "cell_type": "markdown",
   "id": "impaired-maine",
   "metadata": {},
   "source": [
    "## Importing Required Libraries"
   ]
  },
  {
   "cell_type": "code",
   "execution_count": 1,
   "id": "spiritual-kingdom",
   "metadata": {},
   "outputs": [],
   "source": [
    "import numpy as np                 # For Numerical Calculation              \n",
    "import pandas as pd                # For Data Manipulation\n",
    "import matplotlib.pyplot as plt    # For Data Visualization\n",
    "import seaborn as sns              # For Data Visualization\n",
    "%matplotlib inline\n",
    "\n",
    "sns.set()         # Setting styles of the plot to Seaborn"
   ]
  },
  {
   "cell_type": "code",
   "execution_count": 2,
   "id": "killing-impossible",
   "metadata": {},
   "outputs": [],
   "source": [
    "# Hide the warnings\n",
    "import warnings\n",
    "warnings.filterwarnings('ignore')"
   ]
  },
  {
   "cell_type": "markdown",
   "id": "latest-display",
   "metadata": {},
   "source": [
    "<br>"
   ]
  },
  {
   "cell_type": "markdown",
   "id": "african-begin",
   "metadata": {},
   "source": [
    "## Loading the Dataset"
   ]
  },
  {
   "cell_type": "code",
   "execution_count": 3,
   "id": "trying-spirituality",
   "metadata": {},
   "outputs": [
    {
     "data": {
      "text/html": [
       "<div>\n",
       "<style scoped>\n",
       "    .dataframe tbody tr th:only-of-type {\n",
       "        vertical-align: middle;\n",
       "    }\n",
       "\n",
       "    .dataframe tbody tr th {\n",
       "        vertical-align: top;\n",
       "    }\n",
       "\n",
       "    .dataframe thead th {\n",
       "        text-align: right;\n",
       "    }\n",
       "</style>\n",
       "<table border=\"1\" class=\"dataframe\">\n",
       "  <thead>\n",
       "    <tr style=\"text-align: right;\">\n",
       "      <th></th>\n",
       "      <th>url</th>\n",
       "      <th>address</th>\n",
       "      <th>name</th>\n",
       "      <th>online_order</th>\n",
       "      <th>book_table</th>\n",
       "      <th>rate</th>\n",
       "      <th>votes</th>\n",
       "      <th>phone</th>\n",
       "      <th>location</th>\n",
       "      <th>rest_type</th>\n",
       "      <th>dish_liked</th>\n",
       "      <th>cuisines</th>\n",
       "      <th>approx_cost(for two people)</th>\n",
       "      <th>reviews_list</th>\n",
       "      <th>menu_item</th>\n",
       "      <th>listed_in(type)</th>\n",
       "      <th>listed_in(city)</th>\n",
       "    </tr>\n",
       "  </thead>\n",
       "  <tbody>\n",
       "    <tr>\n",
       "      <th>0</th>\n",
       "      <td>https://www.zomato.com/bangalore/jalsa-banasha...</td>\n",
       "      <td>942, 21st Main Road, 2nd Stage, Banashankari, ...</td>\n",
       "      <td>Jalsa</td>\n",
       "      <td>Yes</td>\n",
       "      <td>Yes</td>\n",
       "      <td>4.1/5</td>\n",
       "      <td>775</td>\n",
       "      <td>080 42297555\\r\\n+91 9743772233</td>\n",
       "      <td>Banashankari</td>\n",
       "      <td>Casual Dining</td>\n",
       "      <td>Pasta, Lunch Buffet, Masala Papad, Paneer Laja...</td>\n",
       "      <td>North Indian, Mughlai, Chinese</td>\n",
       "      <td>800</td>\n",
       "      <td>[('Rated 4.0', 'RATED\\n  A beautiful place to ...</td>\n",
       "      <td>[]</td>\n",
       "      <td>Buffet</td>\n",
       "      <td>Banashankari</td>\n",
       "    </tr>\n",
       "    <tr>\n",
       "      <th>1</th>\n",
       "      <td>https://www.zomato.com/bangalore/spice-elephan...</td>\n",
       "      <td>2nd Floor, 80 Feet Road, Near Big Bazaar, 6th ...</td>\n",
       "      <td>Spice Elephant</td>\n",
       "      <td>Yes</td>\n",
       "      <td>No</td>\n",
       "      <td>4.1/5</td>\n",
       "      <td>787</td>\n",
       "      <td>080 41714161</td>\n",
       "      <td>Banashankari</td>\n",
       "      <td>Casual Dining</td>\n",
       "      <td>Momos, Lunch Buffet, Chocolate Nirvana, Thai G...</td>\n",
       "      <td>Chinese, North Indian, Thai</td>\n",
       "      <td>800</td>\n",
       "      <td>[('Rated 4.0', 'RATED\\n  Had been here for din...</td>\n",
       "      <td>[]</td>\n",
       "      <td>Buffet</td>\n",
       "      <td>Banashankari</td>\n",
       "    </tr>\n",
       "    <tr>\n",
       "      <th>2</th>\n",
       "      <td>https://www.zomato.com/SanchurroBangalore?cont...</td>\n",
       "      <td>1112, Next to KIMS Medical College, 17th Cross...</td>\n",
       "      <td>San Churro Cafe</td>\n",
       "      <td>Yes</td>\n",
       "      <td>No</td>\n",
       "      <td>3.8/5</td>\n",
       "      <td>918</td>\n",
       "      <td>+91 9663487993</td>\n",
       "      <td>Banashankari</td>\n",
       "      <td>Cafe, Casual Dining</td>\n",
       "      <td>Churros, Cannelloni, Minestrone Soup, Hot Choc...</td>\n",
       "      <td>Cafe, Mexican, Italian</td>\n",
       "      <td>800</td>\n",
       "      <td>[('Rated 3.0', \"RATED\\n  Ambience is not that ...</td>\n",
       "      <td>[]</td>\n",
       "      <td>Buffet</td>\n",
       "      <td>Banashankari</td>\n",
       "    </tr>\n",
       "    <tr>\n",
       "      <th>3</th>\n",
       "      <td>https://www.zomato.com/bangalore/addhuri-udupi...</td>\n",
       "      <td>1st Floor, Annakuteera, 3rd Stage, Banashankar...</td>\n",
       "      <td>Addhuri Udupi Bhojana</td>\n",
       "      <td>No</td>\n",
       "      <td>No</td>\n",
       "      <td>3.7/5</td>\n",
       "      <td>88</td>\n",
       "      <td>+91 9620009302</td>\n",
       "      <td>Banashankari</td>\n",
       "      <td>Quick Bites</td>\n",
       "      <td>Masala Dosa</td>\n",
       "      <td>South Indian, North Indian</td>\n",
       "      <td>300</td>\n",
       "      <td>[('Rated 4.0', \"RATED\\n  Great food and proper...</td>\n",
       "      <td>[]</td>\n",
       "      <td>Buffet</td>\n",
       "      <td>Banashankari</td>\n",
       "    </tr>\n",
       "    <tr>\n",
       "      <th>4</th>\n",
       "      <td>https://www.zomato.com/bangalore/grand-village...</td>\n",
       "      <td>10, 3rd Floor, Lakshmi Associates, Gandhi Baza...</td>\n",
       "      <td>Grand Village</td>\n",
       "      <td>No</td>\n",
       "      <td>No</td>\n",
       "      <td>3.8/5</td>\n",
       "      <td>166</td>\n",
       "      <td>+91 8026612447\\r\\n+91 9901210005</td>\n",
       "      <td>Basavanagudi</td>\n",
       "      <td>Casual Dining</td>\n",
       "      <td>Panipuri, Gol Gappe</td>\n",
       "      <td>North Indian, Rajasthani</td>\n",
       "      <td>600</td>\n",
       "      <td>[('Rated 4.0', 'RATED\\n  Very good restaurant ...</td>\n",
       "      <td>[]</td>\n",
       "      <td>Buffet</td>\n",
       "      <td>Banashankari</td>\n",
       "    </tr>\n",
       "  </tbody>\n",
       "</table>\n",
       "</div>"
      ],
      "text/plain": [
       "                                                 url  \\\n",
       "0  https://www.zomato.com/bangalore/jalsa-banasha...   \n",
       "1  https://www.zomato.com/bangalore/spice-elephan...   \n",
       "2  https://www.zomato.com/SanchurroBangalore?cont...   \n",
       "3  https://www.zomato.com/bangalore/addhuri-udupi...   \n",
       "4  https://www.zomato.com/bangalore/grand-village...   \n",
       "\n",
       "                                             address                   name  \\\n",
       "0  942, 21st Main Road, 2nd Stage, Banashankari, ...                  Jalsa   \n",
       "1  2nd Floor, 80 Feet Road, Near Big Bazaar, 6th ...         Spice Elephant   \n",
       "2  1112, Next to KIMS Medical College, 17th Cross...        San Churro Cafe   \n",
       "3  1st Floor, Annakuteera, 3rd Stage, Banashankar...  Addhuri Udupi Bhojana   \n",
       "4  10, 3rd Floor, Lakshmi Associates, Gandhi Baza...          Grand Village   \n",
       "\n",
       "  online_order book_table   rate  votes                             phone  \\\n",
       "0          Yes        Yes  4.1/5    775    080 42297555\\r\\n+91 9743772233   \n",
       "1          Yes         No  4.1/5    787                      080 41714161   \n",
       "2          Yes         No  3.8/5    918                    +91 9663487993   \n",
       "3           No         No  3.7/5     88                    +91 9620009302   \n",
       "4           No         No  3.8/5    166  +91 8026612447\\r\\n+91 9901210005   \n",
       "\n",
       "       location            rest_type  \\\n",
       "0  Banashankari        Casual Dining   \n",
       "1  Banashankari        Casual Dining   \n",
       "2  Banashankari  Cafe, Casual Dining   \n",
       "3  Banashankari          Quick Bites   \n",
       "4  Basavanagudi        Casual Dining   \n",
       "\n",
       "                                          dish_liked  \\\n",
       "0  Pasta, Lunch Buffet, Masala Papad, Paneer Laja...   \n",
       "1  Momos, Lunch Buffet, Chocolate Nirvana, Thai G...   \n",
       "2  Churros, Cannelloni, Minestrone Soup, Hot Choc...   \n",
       "3                                        Masala Dosa   \n",
       "4                                Panipuri, Gol Gappe   \n",
       "\n",
       "                         cuisines approx_cost(for two people)  \\\n",
       "0  North Indian, Mughlai, Chinese                         800   \n",
       "1     Chinese, North Indian, Thai                         800   \n",
       "2          Cafe, Mexican, Italian                         800   \n",
       "3      South Indian, North Indian                         300   \n",
       "4        North Indian, Rajasthani                         600   \n",
       "\n",
       "                                        reviews_list menu_item  \\\n",
       "0  [('Rated 4.0', 'RATED\\n  A beautiful place to ...        []   \n",
       "1  [('Rated 4.0', 'RATED\\n  Had been here for din...        []   \n",
       "2  [('Rated 3.0', \"RATED\\n  Ambience is not that ...        []   \n",
       "3  [('Rated 4.0', \"RATED\\n  Great food and proper...        []   \n",
       "4  [('Rated 4.0', 'RATED\\n  Very good restaurant ...        []   \n",
       "\n",
       "  listed_in(type) listed_in(city)  \n",
       "0          Buffet    Banashankari  \n",
       "1          Buffet    Banashankari  \n",
       "2          Buffet    Banashankari  \n",
       "3          Buffet    Banashankari  \n",
       "4          Buffet    Banashankari  "
      ]
     },
     "execution_count": 3,
     "metadata": {},
     "output_type": "execute_result"
    }
   ],
   "source": [
    "# Importing the Dataset\n",
    "orders_df = pd.read_csv(\"zomato.csv\")\n",
    "orders_df.head()"
   ]
  },
  {
   "cell_type": "markdown",
   "id": "featured-ratio",
   "metadata": {},
   "source": [
    "<br>"
   ]
  },
  {
   "cell_type": "markdown",
   "id": "serial-fashion",
   "metadata": {},
   "source": [
    "## Checking the Size of the Dataset"
   ]
  },
  {
   "cell_type": "code",
   "execution_count": 4,
   "id": "sustainable-qualification",
   "metadata": {},
   "outputs": [
    {
     "data": {
      "text/plain": [
       "(51717, 17)"
      ]
     },
     "execution_count": 4,
     "metadata": {},
     "output_type": "execute_result"
    }
   ],
   "source": [
    "orders_df.shape"
   ]
  },
  {
   "cell_type": "markdown",
   "id": "governmental-quantum",
   "metadata": {},
   "source": [
    "<p><strong>Outcome : </strong>There are 51717 rows and 17 columns in our Dataset."
   ]
  },
  {
   "cell_type": "markdown",
   "id": "broadband-novel",
   "metadata": {},
   "source": [
    "<br>"
   ]
  },
  {
   "cell_type": "markdown",
   "id": "wireless-kitty",
   "metadata": {},
   "source": [
    "## Checking the columns in the Dataset"
   ]
  },
  {
   "cell_type": "code",
   "execution_count": 5,
   "id": "numeric-audit",
   "metadata": {},
   "outputs": [
    {
     "data": {
      "text/plain": [
       "['url',\n",
       " 'address',\n",
       " 'name',\n",
       " 'online_order',\n",
       " 'book_table',\n",
       " 'rate',\n",
       " 'votes',\n",
       " 'phone',\n",
       " 'location',\n",
       " 'rest_type',\n",
       " 'dish_liked',\n",
       " 'cuisines',\n",
       " 'approx_cost(for two people)',\n",
       " 'reviews_list',\n",
       " 'menu_item',\n",
       " 'listed_in(type)',\n",
       " 'listed_in(city)']"
      ]
     },
     "execution_count": 5,
     "metadata": {},
     "output_type": "execute_result"
    }
   ],
   "source": [
    "orders_df.columns.to_list()"
   ]
  },
  {
   "cell_type": "markdown",
   "id": "exposed-paper",
   "metadata": {},
   "source": [
    "<p>Here, we can see the list of columns in which some of the columns are important and some are irrelevant in the context of the problem. So, further we drop and process the data.</p>"
   ]
  },
  {
   "cell_type": "markdown",
   "id": "greater-utilization",
   "metadata": {},
   "source": [
    "<br>"
   ]
  },
  {
   "cell_type": "markdown",
   "id": "laughing-banks",
   "metadata": {},
   "source": [
    "## Renaming Columns"
   ]
  },
  {
   "cell_type": "code",
   "execution_count": 6,
   "id": "expanded-norway",
   "metadata": {},
   "outputs": [],
   "source": [
    "# Renaming the columns approx_cost(for two people), listed(city) with approx_cost, area respectively\n",
    "orders_df.rename(columns = {'approx_cost(for two people)' : 'approx_cost', 'listed_in(city)' : 'area'}, inplace = True)"
   ]
  },
  {
   "cell_type": "markdown",
   "id": "arctic-database",
   "metadata": {},
   "source": [
    "<br>"
   ]
  },
  {
   "cell_type": "markdown",
   "id": "tamil-boring",
   "metadata": {},
   "source": [
    "## Data Cleaning\n",
    "<p>Now, we clean our data by dropping the irrelevant columns, handling the wrong datatypes, handling the null values and the outliers.</p>"
   ]
  },
  {
   "cell_type": "markdown",
   "id": "round-directive",
   "metadata": {},
   "source": [
    "### Dropping Irrelevant Columns"
   ]
  },
  {
   "cell_type": "code",
   "execution_count": 7,
   "id": "institutional-richmond",
   "metadata": {},
   "outputs": [
    {
     "data": {
      "text/html": [
       "<div>\n",
       "<style scoped>\n",
       "    .dataframe tbody tr th:only-of-type {\n",
       "        vertical-align: middle;\n",
       "    }\n",
       "\n",
       "    .dataframe tbody tr th {\n",
       "        vertical-align: top;\n",
       "    }\n",
       "\n",
       "    .dataframe thead th {\n",
       "        text-align: right;\n",
       "    }\n",
       "</style>\n",
       "<table border=\"1\" class=\"dataframe\">\n",
       "  <thead>\n",
       "    <tr style=\"text-align: right;\">\n",
       "      <th></th>\n",
       "      <th>name</th>\n",
       "      <th>online_order</th>\n",
       "      <th>book_table</th>\n",
       "      <th>rate</th>\n",
       "      <th>votes</th>\n",
       "      <th>location</th>\n",
       "      <th>rest_type</th>\n",
       "      <th>cuisines</th>\n",
       "      <th>approx_cost</th>\n",
       "      <th>area</th>\n",
       "    </tr>\n",
       "  </thead>\n",
       "  <tbody>\n",
       "    <tr>\n",
       "      <th>0</th>\n",
       "      <td>Jalsa</td>\n",
       "      <td>Yes</td>\n",
       "      <td>Yes</td>\n",
       "      <td>4.1/5</td>\n",
       "      <td>775</td>\n",
       "      <td>Banashankari</td>\n",
       "      <td>Casual Dining</td>\n",
       "      <td>North Indian, Mughlai, Chinese</td>\n",
       "      <td>800</td>\n",
       "      <td>Banashankari</td>\n",
       "    </tr>\n",
       "    <tr>\n",
       "      <th>1</th>\n",
       "      <td>Spice Elephant</td>\n",
       "      <td>Yes</td>\n",
       "      <td>No</td>\n",
       "      <td>4.1/5</td>\n",
       "      <td>787</td>\n",
       "      <td>Banashankari</td>\n",
       "      <td>Casual Dining</td>\n",
       "      <td>Chinese, North Indian, Thai</td>\n",
       "      <td>800</td>\n",
       "      <td>Banashankari</td>\n",
       "    </tr>\n",
       "    <tr>\n",
       "      <th>2</th>\n",
       "      <td>San Churro Cafe</td>\n",
       "      <td>Yes</td>\n",
       "      <td>No</td>\n",
       "      <td>3.8/5</td>\n",
       "      <td>918</td>\n",
       "      <td>Banashankari</td>\n",
       "      <td>Cafe, Casual Dining</td>\n",
       "      <td>Cafe, Mexican, Italian</td>\n",
       "      <td>800</td>\n",
       "      <td>Banashankari</td>\n",
       "    </tr>\n",
       "    <tr>\n",
       "      <th>3</th>\n",
       "      <td>Addhuri Udupi Bhojana</td>\n",
       "      <td>No</td>\n",
       "      <td>No</td>\n",
       "      <td>3.7/5</td>\n",
       "      <td>88</td>\n",
       "      <td>Banashankari</td>\n",
       "      <td>Quick Bites</td>\n",
       "      <td>South Indian, North Indian</td>\n",
       "      <td>300</td>\n",
       "      <td>Banashankari</td>\n",
       "    </tr>\n",
       "    <tr>\n",
       "      <th>4</th>\n",
       "      <td>Grand Village</td>\n",
       "      <td>No</td>\n",
       "      <td>No</td>\n",
       "      <td>3.8/5</td>\n",
       "      <td>166</td>\n",
       "      <td>Basavanagudi</td>\n",
       "      <td>Casual Dining</td>\n",
       "      <td>North Indian, Rajasthani</td>\n",
       "      <td>600</td>\n",
       "      <td>Banashankari</td>\n",
       "    </tr>\n",
       "  </tbody>\n",
       "</table>\n",
       "</div>"
      ],
      "text/plain": [
       "                    name online_order book_table   rate  votes      location  \\\n",
       "0                  Jalsa          Yes        Yes  4.1/5    775  Banashankari   \n",
       "1         Spice Elephant          Yes         No  4.1/5    787  Banashankari   \n",
       "2        San Churro Cafe          Yes         No  3.8/5    918  Banashankari   \n",
       "3  Addhuri Udupi Bhojana           No         No  3.7/5     88  Banashankari   \n",
       "4          Grand Village           No         No  3.8/5    166  Basavanagudi   \n",
       "\n",
       "             rest_type                        cuisines approx_cost  \\\n",
       "0        Casual Dining  North Indian, Mughlai, Chinese         800   \n",
       "1        Casual Dining     Chinese, North Indian, Thai         800   \n",
       "2  Cafe, Casual Dining          Cafe, Mexican, Italian         800   \n",
       "3          Quick Bites      South Indian, North Indian         300   \n",
       "4        Casual Dining        North Indian, Rajasthani         600   \n",
       "\n",
       "           area  \n",
       "0  Banashankari  \n",
       "1  Banashankari  \n",
       "2  Banashankari  \n",
       "3  Banashankari  \n",
       "4  Banashankari  "
      ]
     },
     "execution_count": 7,
     "metadata": {},
     "output_type": "execute_result"
    }
   ],
   "source": [
    "# Here, url, address, menu_item, reviews_list, dish_liked, phone, listed_in(type) are irrelevant for \n",
    "# the problem's solution\n",
    "orders_df.drop(['url', 'address','menu_item', 'reviews_list', 'dish_liked', 'phone', 'listed_in(type)'], axis = 1, inplace=True)\n",
    "orders_df.head()"
   ]
  },
  {
   "cell_type": "markdown",
   "id": "married-pendant",
   "metadata": {},
   "source": [
    "<br>"
   ]
  },
  {
   "cell_type": "markdown",
   "id": "turkish-bowling",
   "metadata": {},
   "source": [
    "### Checking and Handling the Datatypes"
   ]
  },
  {
   "cell_type": "code",
   "execution_count": 8,
   "id": "existing-princess",
   "metadata": {},
   "outputs": [
    {
     "name": "stdout",
     "output_type": "stream",
     "text": [
      "<class 'pandas.core.frame.DataFrame'>\n",
      "RangeIndex: 51717 entries, 0 to 51716\n",
      "Data columns (total 10 columns):\n",
      " #   Column        Non-Null Count  Dtype \n",
      "---  ------        --------------  ----- \n",
      " 0   name          51717 non-null  object\n",
      " 1   online_order  51717 non-null  object\n",
      " 2   book_table    51717 non-null  object\n",
      " 3   rate          43942 non-null  object\n",
      " 4   votes         51717 non-null  int64 \n",
      " 5   location      51696 non-null  object\n",
      " 6   rest_type     51490 non-null  object\n",
      " 7   cuisines      51672 non-null  object\n",
      " 8   approx_cost   51371 non-null  object\n",
      " 9   area          51717 non-null  object\n",
      "dtypes: int64(1), object(9)\n",
      "memory usage: 3.9+ MB\n"
     ]
    }
   ],
   "source": [
    "# Checking the types of data present in the Dataset\n",
    "orders_df.info()"
   ]
  },
  {
   "cell_type": "markdown",
   "id": "fleet-arcade",
   "metadata": {},
   "source": [
    "<strong>From above result, we can see that the columns { rate, location, rest_type, approx_cost, cuisines } either have null values, wrong datatypes or both.</strong> "
   ]
  },
  {
   "cell_type": "markdown",
   "id": "frequent-words",
   "metadata": {},
   "source": [
    "<br>"
   ]
  },
  {
   "cell_type": "markdown",
   "id": "random-vanilla",
   "metadata": {},
   "source": [
    "#### Rate Column"
   ]
  },
  {
   "cell_type": "code",
   "execution_count": 9,
   "id": "moderate-filter",
   "metadata": {
    "scrolled": true
   },
   "outputs": [
    {
     "data": {
      "text/plain": [
       "array(['4.1/5', '3.8/5', '3.7/5', '3.6/5', '4.6/5', '4.0/5', '4.2/5',\n",
       "       '3.9/5', '3.1/5', '3.0/5', '3.2/5', '3.3/5', '2.8/5', '4.4/5',\n",
       "       '4.3/5', 'NEW', '2.9/5', '3.5/5', nan, '2.6/5', '3.8 /5', '3.4/5',\n",
       "       '4.5/5', '2.5/5', '2.7/5', '4.7/5', '2.4/5', '2.2/5', '2.3/5',\n",
       "       '3.4 /5', '-', '3.6 /5', '4.8/5', '3.9 /5', '4.2 /5', '4.0 /5',\n",
       "       '4.1 /5', '3.7 /5', '3.1 /5', '2.9 /5', '3.3 /5', '2.8 /5',\n",
       "       '3.5 /5', '2.7 /5', '2.5 /5', '3.2 /5', '2.6 /5', '4.5 /5',\n",
       "       '4.3 /5', '4.4 /5', '4.9/5', '2.1/5', '2.0/5', '1.8/5', '4.6 /5',\n",
       "       '4.9 /5', '3.0 /5', '4.8 /5', '2.3 /5', '4.7 /5', '2.4 /5',\n",
       "       '2.1 /5', '2.2 /5', '2.0 /5', '1.8 /5'], dtype=object)"
      ]
     },
     "execution_count": 9,
     "metadata": {},
     "output_type": "execute_result"
    }
   ],
   "source": [
    "# Checking the unique values in the Rate column of the Dataset\n",
    "orders_df['rate'].unique()"
   ]
  },
  {
   "cell_type": "markdown",
   "id": "electric-humanitarian",
   "metadata": {},
   "source": [
    "<p>Above result shows that there are many null values and garbage values also. "
   ]
  },
  {
   "cell_type": "markdown",
   "id": "requested-ghana",
   "metadata": {},
   "source": [
    "<br>"
   ]
  },
  {
   "cell_type": "code",
   "execution_count": 10,
   "id": "shaped-chosen",
   "metadata": {},
   "outputs": [],
   "source": [
    "# Replacing all the null values and garbage values and making it to be converted into numbers\n",
    "orders_df['rate'] =  orders_df['rate'].str.replace(\"/5\", \"\")\n",
    "orders_df['rate'] =  orders_df['rate'].str.replace(\"nan\", \"NaN\")\n",
    "orders_df['rate'] =  orders_df['rate'].str.replace(\"NEW\", \"NaN\")\n",
    "orders_df['rate'] =  orders_df['rate'].str.replace(\"-\", \"NaN\")\n",
    "orders_df['rate'] =  orders_df['rate'].str.replace(\" /5\", \"\")\n",
    "orders_df['rate'] =  orders_df['rate'].fillna(np.nan)\n",
    "orders_df['rate'] =  orders_df['rate'].str.replace(\" \", \"\")"
   ]
  },
  {
   "cell_type": "code",
   "execution_count": 11,
   "id": "moved-malawi",
   "metadata": {
    "scrolled": true
   },
   "outputs": [
    {
     "data": {
      "text/plain": [
       "array(['4.1', '3.8', '3.7', '3.6', '4.6', '4.0', '4.2', '3.9', '3.1',\n",
       "       '3.0', '3.2', '3.3', '2.8', '4.4', '4.3', 'NaN', '2.9', '3.5', nan,\n",
       "       '2.6', '3.4', '4.5', '2.5', '2.7', '4.7', '2.4', '2.2', '2.3',\n",
       "       '4.8', '4.9', '2.1', '2.0', '1.8'], dtype=object)"
      ]
     },
     "execution_count": 11,
     "metadata": {},
     "output_type": "execute_result"
    }
   ],
   "source": [
    "# Verifying the results\n",
    "orders_df['rate'].unique()"
   ]
  },
  {
   "cell_type": "code",
   "execution_count": 12,
   "id": "accessible-maple",
   "metadata": {},
   "outputs": [],
   "source": [
    "# Changing the Datatype of Rate column from object to float\n",
    "orders_df['rate'] = orders_df['rate'].astype(float)"
   ]
  },
  {
   "cell_type": "markdown",
   "id": "collectible-customs",
   "metadata": {},
   "source": [
    "<br>"
   ]
  },
  {
   "cell_type": "markdown",
   "id": "celtic-netscape",
   "metadata": {},
   "source": [
    "#### Approx Cost Column"
   ]
  },
  {
   "cell_type": "code",
   "execution_count": 13,
   "id": "disturbed-telling",
   "metadata": {},
   "outputs": [
    {
     "data": {
      "text/plain": [
       "array(['800', '300', '600', '700', '550', '500', '450', '650', '400',\n",
       "       '900', '200', '750', '150', '850', '100', '1,200', '350', '250',\n",
       "       '950', '1,000', '1,500', '1,300', '199', '80', '1,100', '160',\n",
       "       '1,600', '230', '130', '50', '190', '1,700', nan, '1,400', '180',\n",
       "       '1,350', '2,200', '2,000', '1,800', '1,900', '330', '2,500',\n",
       "       '2,100', '3,000', '2,800', '3,400', '40', '1,250', '3,500',\n",
       "       '4,000', '2,400', '2,600', '120', '1,450', '469', '70', '3,200',\n",
       "       '60', '560', '240', '360', '6,000', '1,050', '2,300', '4,100',\n",
       "       '5,000', '3,700', '1,650', '2,700', '4,500', '140'], dtype=object)"
      ]
     },
     "execution_count": 13,
     "metadata": {},
     "output_type": "execute_result"
    }
   ],
   "source": [
    "# Checking the unique values in the Approx Cost column of the Dataset\n",
    "orders_df['approx_cost'].unique()"
   ]
  },
  {
   "cell_type": "markdown",
   "id": "pending-carbon",
   "metadata": {},
   "source": [
    "<p>Above, we can see that there are null values and numeric values but in the object type.</p>"
   ]
  },
  {
   "cell_type": "markdown",
   "id": "satisfied-promotion",
   "metadata": {},
   "source": [
    "<br>"
   ]
  },
  {
   "cell_type": "code",
   "execution_count": 14,
   "id": "representative-update",
   "metadata": {},
   "outputs": [],
   "source": [
    "# Replacing the null values and make it able to convert \n",
    "orders_df['approx_cost'] =  orders_df['approx_cost'].str.replace(\"nan\", \"NaN\")\n",
    "orders_df['approx_cost'] =  orders_df['approx_cost'].fillna('NaN')\n",
    "orders_df['approx_cost'] =  orders_df['approx_cost'].str.replace(\",\", \"\")"
   ]
  },
  {
   "cell_type": "code",
   "execution_count": 15,
   "id": "alert-poverty",
   "metadata": {},
   "outputs": [
    {
     "data": {
      "text/plain": [
       "array(['800', '300', '600', '700', '550', '500', '450', '650', '400',\n",
       "       '900', '200', '750', '150', '850', '100', '1200', '350', '250',\n",
       "       '950', '1000', '1500', '1300', '199', '80', '1100', '160', '1600',\n",
       "       '230', '130', '50', '190', '1700', 'NaN', '1400', '180', '1350',\n",
       "       '2200', '2000', '1800', '1900', '330', '2500', '2100', '3000',\n",
       "       '2800', '3400', '40', '1250', '3500', '4000', '2400', '2600',\n",
       "       '120', '1450', '469', '70', '3200', '60', '560', '240', '360',\n",
       "       '6000', '1050', '2300', '4100', '5000', '3700', '1650', '2700',\n",
       "       '4500', '140'], dtype=object)"
      ]
     },
     "execution_count": 15,
     "metadata": {},
     "output_type": "execute_result"
    }
   ],
   "source": [
    "# Verifying the Results\n",
    "orders_df['approx_cost'].unique()"
   ]
  },
  {
   "cell_type": "code",
   "execution_count": 16,
   "id": "developmental-daniel",
   "metadata": {},
   "outputs": [],
   "source": [
    "# Changing the Datatype of the column from Object to Float\n",
    "orders_df['approx_cost'] = orders_df['approx_cost'].astype(float)"
   ]
  },
  {
   "cell_type": "code",
   "execution_count": 17,
   "id": "musical-struggle",
   "metadata": {},
   "outputs": [
    {
     "name": "stdout",
     "output_type": "stream",
     "text": [
      "<class 'pandas.core.frame.DataFrame'>\n",
      "RangeIndex: 51717 entries, 0 to 51716\n",
      "Data columns (total 10 columns):\n",
      " #   Column        Non-Null Count  Dtype  \n",
      "---  ------        --------------  -----  \n",
      " 0   name          51717 non-null  object \n",
      " 1   online_order  51717 non-null  object \n",
      " 2   book_table    51717 non-null  object \n",
      " 3   rate          41665 non-null  float64\n",
      " 4   votes         51717 non-null  int64  \n",
      " 5   location      51696 non-null  object \n",
      " 6   rest_type     51490 non-null  object \n",
      " 7   cuisines      51672 non-null  object \n",
      " 8   approx_cost   51371 non-null  float64\n",
      " 9   area          51717 non-null  object \n",
      "dtypes: float64(2), int64(1), object(7)\n",
      "memory usage: 3.9+ MB\n"
     ]
    }
   ],
   "source": [
    "# Again, checking the datatypes of columns to verify\n",
    "orders_df.info()"
   ]
  },
  {
   "cell_type": "markdown",
   "id": "approved-sculpture",
   "metadata": {},
   "source": [
    "<br>"
   ]
  },
  {
   "cell_type": "markdown",
   "id": "annoying-history",
   "metadata": {},
   "source": [
    "### Checking for Null Values"
   ]
  },
  {
   "cell_type": "code",
   "execution_count": 18,
   "id": "respected-video",
   "metadata": {},
   "outputs": [
    {
     "data": {
      "text/plain": [
       "name                0\n",
       "online_order        0\n",
       "book_table          0\n",
       "rate            10052\n",
       "votes               0\n",
       "location           21\n",
       "rest_type         227\n",
       "cuisines           45\n",
       "approx_cost       346\n",
       "area                0\n",
       "dtype: int64"
      ]
     },
     "execution_count": 18,
     "metadata": {},
     "output_type": "execute_result"
    }
   ],
   "source": [
    "# Checking the number of null values columnwise\n",
    "orders_df.isna().sum()"
   ]
  },
  {
   "cell_type": "code",
   "execution_count": 19,
   "id": "completed-dinner",
   "metadata": {},
   "outputs": [
    {
     "data": {
      "text/plain": [
       "name             0.000000\n",
       "online_order     0.000000\n",
       "book_table       0.000000\n",
       "rate            19.436549\n",
       "votes            0.000000\n",
       "location         0.040606\n",
       "rest_type        0.438927\n",
       "cuisines         0.087012\n",
       "approx_cost      0.669026\n",
       "area             0.000000\n",
       "dtype: float64"
      ]
     },
     "execution_count": 19,
     "metadata": {},
     "output_type": "execute_result"
    }
   ],
   "source": [
    "# Checking of Percentage of Null values in Each Column\n",
    "(orders_df.isna().sum() / orders_df.shape[0]) * 100"
   ]
  },
  {
   "cell_type": "markdown",
   "id": "danish-taste",
   "metadata": {},
   "source": [
    "<p>Here, we can see that columns location, rest_type, cuisines, approx_cost have less number of null values as compared to rate column. So, we can drop that null values.</p>"
   ]
  },
  {
   "cell_type": "markdown",
   "id": "incoming-timber",
   "metadata": {},
   "source": [
    "<br>"
   ]
  },
  {
   "cell_type": "code",
   "execution_count": 20,
   "id": "perfect-thunder",
   "metadata": {},
   "outputs": [
    {
     "data": {
      "text/plain": [
       "name               0\n",
       "online_order       0\n",
       "book_table         0\n",
       "rate            9885\n",
       "votes              0\n",
       "location           0\n",
       "rest_type          0\n",
       "cuisines           0\n",
       "approx_cost        0\n",
       "area               0\n",
       "dtype: int64"
      ]
     },
     "execution_count": 20,
     "metadata": {},
     "output_type": "execute_result"
    }
   ],
   "source": [
    "# Here, we dropping the null values from the columns having lesser number of null values\n",
    "orders_df = orders_df[orders_df[\"location\"].notna()]\n",
    "orders_df = orders_df[orders_df[\"rest_type\"].notna()]\n",
    "orders_df = orders_df[orders_df[\"cuisines\"].notna()]\n",
    "orders_df = orders_df[orders_df[\"approx_cost\"].notna()]\n",
    "\n",
    "# Verifying the results\n",
    "orders_df.isna().sum()"
   ]
  },
  {
   "cell_type": "markdown",
   "id": "periodic-opinion",
   "metadata": {},
   "source": [
    "<br>"
   ]
  },
  {
   "cell_type": "markdown",
   "id": "earlier-electricity",
   "metadata": {},
   "source": [
    "#### Handling Null values in Rate Column\n",
    "<p>As the rate column has greater number of null values, dropping them leads to losing the a large amount of data. So, instead of dropping it, we will impute with either mean, mode or median."
   ]
  },
  {
   "cell_type": "code",
   "execution_count": 21,
   "id": "hidden-virtue",
   "metadata": {},
   "outputs": [
    {
     "data": {
      "text/plain": [
       "count    41263.000000\n",
       "mean         3.702011\n",
       "std          0.439985\n",
       "min          1.800000\n",
       "25%          3.400000\n",
       "50%          3.700000\n",
       "75%          4.000000\n",
       "max          4.900000\n",
       "Name: rate, dtype: float64"
      ]
     },
     "execution_count": 21,
     "metadata": {},
     "output_type": "execute_result"
    }
   ],
   "source": [
    "# Checking all the statistics of Rate column\n",
    "orders_df['rate'].describe()"
   ]
  },
  {
   "cell_type": "code",
   "execution_count": 22,
   "id": "pretty-ranch",
   "metadata": {},
   "outputs": [
    {
     "name": "stdout",
     "output_type": "stream",
     "text": [
      "Number of Rows having Outliers :  183\n"
     ]
    }
   ],
   "source": [
    "# For imputing the values, we will check for outliers\n",
    "q1 = orders_df['rate'].quantile(0.25)\n",
    "q3 = orders_df['rate'].quantile(0.75)\n",
    "\n",
    "iqr = q3 - q1\n",
    "\n",
    "lower_range = q1 - (1.5 * iqr)\n",
    "upper_range = q3 + (1.5 * iqr)\n",
    "\n",
    "outliers = len(orders_df[(orders_df['rate'] < lower_range) | (orders_df['rate'] > upper_range)])\n",
    "print(\"Number of Rows having Outliers : \", outliers)"
   ]
  },
  {
   "cell_type": "markdown",
   "id": "independent-pakistan",
   "metadata": {},
   "source": [
    "<p>Here, we can see that 183 rows have outliers, but as we know that rating are always in the range from 1.0 to 5.0. So, using the mean is not appropriate. Therefore, we will impute with median.</p>"
   ]
  },
  {
   "cell_type": "markdown",
   "id": "sapphire-oakland",
   "metadata": {},
   "source": [
    "<br>"
   ]
  },
  {
   "cell_type": "code",
   "execution_count": 23,
   "id": "reserved-liberal",
   "metadata": {},
   "outputs": [
    {
     "data": {
      "text/plain": [
       "name            0\n",
       "online_order    0\n",
       "book_table      0\n",
       "rate            0\n",
       "votes           0\n",
       "location        0\n",
       "rest_type       0\n",
       "cuisines        0\n",
       "approx_cost     0\n",
       "area            0\n",
       "dtype: int64"
      ]
     },
     "execution_count": 23,
     "metadata": {},
     "output_type": "execute_result"
    }
   ],
   "source": [
    "# Imputing the null values with median of rate column\n",
    "orders_df['rate'] = orders_df['rate'].fillna(orders_df['rate'].median())\n",
    "\n",
    "# Verifying the Results\n",
    "orders_df.isna().sum()"
   ]
  },
  {
   "cell_type": "code",
   "execution_count": 24,
   "id": "large-pointer",
   "metadata": {},
   "outputs": [],
   "source": [
    "# After dropping the values, we will reset the index\n",
    "orders_df.reset_index(inplace=True)\n",
    "orders_df.drop(['index'], axis=1, inplace=True)"
   ]
  },
  {
   "cell_type": "markdown",
   "id": "ancient-speed",
   "metadata": {},
   "source": [
    "<br>"
   ]
  },
  {
   "cell_type": "markdown",
   "id": "e9ddc16f",
   "metadata": {},
   "source": [
    "## Data Visualization\n",
    "<p>Now, we visualize our data based on different parameters to understand the relations and some insights from out dataset."
   ]
  },
  {
   "cell_type": "markdown",
   "id": "313eeb5e",
   "metadata": {},
   "source": [
    "### No. of orders vs Restaurants"
   ]
  },
  {
   "cell_type": "code",
   "execution_count": 25,
   "id": "3a1e1f29",
   "metadata": {},
   "outputs": [
    {
     "data": {
      "image/png": "[encoded data removed]",
      "text/plain": [
       "<Figure size 864x360 with 1 Axes>"
      ]
     },
     "metadata": {},
     "output_type": "display_data"
    }
   ],
   "source": [
    "# Checking for the Restaurants got higher number of orders\n",
    "plt.figure(figsize = (12,5))\n",
    "data = orders_df['name'].value_counts()[:30]\n",
    "data.plot(kind = 'bar')\n",
    "plt.xlabel('Name of Restaurants', size = 14)\n",
    "plt.ylabel('No. of Orders', size = 14)\n",
    "plt.title(\"Restaurants with Maximum No. of Orders\", fontsize=15)\n",
    "plt.show()"
   ]
  },
  {
   "cell_type": "markdown",
   "id": "educated-comfort",
   "metadata": {},
   "source": [
    "<p>Above Bar chart shows that the Cafe Coffee Day and Onesta got slightly higher number of orders as compared to others restaurants while others got approximately same number of orders.</p>"
   ]
  },
  {
   "cell_type": "markdown",
   "id": "ongoing-picture",
   "metadata": {},
   "source": [
    "<br>"
   ]
  },
  {
   "cell_type": "markdown",
   "id": "95e06dcd",
   "metadata": {},
   "source": [
    "### Number of Restaurants having Online Order Facility"
   ]
  },
  {
   "cell_type": "code",
   "execution_count": 26,
   "id": "073e2599",
   "metadata": {
    "scrolled": true
   },
   "outputs": [
    {
     "data": {
      "image/png": "[encoded data removed]",
      "text/plain": [
       "<Figure size 576x360 with 1 Axes>"
      ]
     },
     "metadata": {},
     "output_type": "display_data"
    }
   ],
   "source": [
    "# Checking the number of restaurants having Online Order Facility\n",
    "data = orders_df[['name', 'online_order']].drop_duplicates()\n",
    "\n",
    "plt.figure(figsize = (8,5))\n",
    "ax = sns.countplot(x=\"online_order\", data=data).set_title('Online Order Facility',fontsize = 15)\n",
    "plt.show()"
   ]
  },
  {
   "cell_type": "markdown",
   "id": "moved-monte",
   "metadata": {},
   "source": [
    "From above chart, we can see that only 4397 restaurants in Banglore have <strong>Online Order Facility</strong> which less than the half of the restaurants."
   ]
  },
  {
   "cell_type": "markdown",
   "id": "brown-outline",
   "metadata": {},
   "source": [
    "<br>"
   ]
  },
  {
   "cell_type": "markdown",
   "id": "70b71ae3",
   "metadata": {},
   "source": [
    "### Number of restaurants having Prebooking Table Facility"
   ]
  },
  {
   "cell_type": "code",
   "execution_count": 27,
   "id": "505bd8c5",
   "metadata": {},
   "outputs": [
    {
     "data": {
      "image/png": "[encoded data removed]",
      "text/plain": [
       "<Figure size 576x432 with 1 Axes>"
      ]
     },
     "metadata": {},
     "output_type": "display_data"
    }
   ],
   "source": [
    "# Checking the number of restaurants having Prebooking Table Facility\n",
    "data = orders_df[['name', 'book_table']].drop_duplicates()\n",
    "\n",
    "plt.figure(figsize = (8,6))\n",
    "ax = sns.countplot(x=\"book_table\", data=data).set_title('Pre Booking Facility', fontsize = 15)\n",
    "plt.show()"
   ]
  },
  {
   "cell_type": "markdown",
   "id": "valued-scoop",
   "metadata": {},
   "source": [
    "From above chart, we can see that Most of the restaurants in Banglore doesn't have <strong>Pre Booking Facility</strong> which is about 8011 restaurants and only 820 restaurants having these facility."
   ]
  },
  {
   "cell_type": "markdown",
   "id": "breeding-flower",
   "metadata": {},
   "source": [
    "<br>"
   ]
  },
  {
   "cell_type": "markdown",
   "id": "b630b0fe",
   "metadata": {},
   "source": [
    "### Top Locations got Higher Number of Orders"
   ]
  },
  {
   "cell_type": "code",
   "execution_count": 28,
   "id": "420ae7ee",
   "metadata": {},
   "outputs": [
    {
     "data": {
      "image/png": "[encoded data removed]",
      "text/plain": [
       "<Figure size 864x360 with 1 Axes>"
      ]
     },
     "metadata": {},
     "output_type": "display_data"
    }
   ],
   "source": [
    "# Checking top Locations got Higher Number of Orders\n",
    "plt.figure(figsize = (12,5))\n",
    "data = orders_df.location.value_counts()[0:25]\n",
    "data.plot(kind='bar')\n",
    "plt.xlabel('Locations')\n",
    "plt.ylabel('No. of orders')\n",
    "plt.title ('Top Locations got Higher Number of Orders', size = 15)\n",
    "plt.show()"
   ]
  },
  {
   "cell_type": "markdown",
   "id": "cleared-girlfriend",
   "metadata": {},
   "source": [
    "Above visualization shows that <strong>Location BTM</strong> got higher number of orders among all others locations. Also, <strong>HSR and Koramangala 5th Block Location</strong> also got good number of order which is approximately half of the orders of BTM Location."
   ]
  },
  {
   "cell_type": "markdown",
   "id": "radical-flavor",
   "metadata": {},
   "source": [
    "<br>"
   ]
  },
  {
   "cell_type": "markdown",
   "id": "368cb68b",
   "metadata": {},
   "source": [
    "### Most Common Ratings for orders"
   ]
  },
  {
   "cell_type": "code",
   "execution_count": 29,
   "id": "5a78886d",
   "metadata": {},
   "outputs": [
    {
     "data": {
      "image/png": "[encoded data removed]",
      "text/plain": [
       "<Figure size 1080x432 with 1 Axes>"
      ]
     },
     "metadata": {},
     "output_type": "display_data"
    }
   ],
   "source": [
    "# Checking the most Common ratings for orders\n",
    "data = orders_df.rate.value_counts().reset_index()[0:20]\n",
    "\n",
    "plt.figure(figsize = (15,6))\n",
    "sns.barplot(x = data['index'], y = data['rate'])\n",
    "plt.xlabel('Ratings')\n",
    "plt.ylabel('No. of orders')\n",
    "plt.title ('Most Common Ratings', size = 15)\n",
    "plt.show()"
   ]
  },
  {
   "cell_type": "markdown",
   "id": "gentle-wallace",
   "metadata": {},
   "source": [
    "We can see that maximum number of orders got <strong>3.7 rating</strong> for their restaurants."
   ]
  },
  {
   "cell_type": "markdown",
   "id": "controlled-shuttle",
   "metadata": {},
   "source": [
    "<br>"
   ]
  },
  {
   "cell_type": "markdown",
   "id": "ee40f0d5",
   "metadata": {},
   "source": [
    "### Common Approximate Costs for meal of two people "
   ]
  },
  {
   "cell_type": "code",
   "execution_count": 30,
   "id": "26fd0ece",
   "metadata": {},
   "outputs": [],
   "source": [
    "data = pd.DataFrame(orders_df[\"approx_cost\"].value_counts().reset_index()[:20])\n",
    "data.columns = ['approx_cost', 'count']\n",
    "data = data.set_index('approx_cost')"
   ]
  },
  {
   "cell_type": "code",
   "execution_count": 31,
   "id": "2711053f",
   "metadata": {},
   "outputs": [
    {
     "data": {
      "image/png": "[encoded data removed]",
      "text/plain": [
       "<Figure size 1080x360 with 1 Axes>"
      ]
     },
     "metadata": {},
     "output_type": "display_data"
    }
   ],
   "source": [
    "plt.figure(figsize = (15, 5))\n",
    "sns.barplot(x = data.index, y = data['count'])\n",
    "plt.xlabel('Rate for Two People', size=15)\n",
    "plt.ylabel('No. of orders', size=15)\n",
    "plt.xticks(size=12)\n",
    "plt.yticks(size=12)\n",
    "plt.title('Top preferred costs for two people', size = 20)\n",
    "plt.show()"
   ]
  },
  {
   "cell_type": "markdown",
   "id": "886839f0",
   "metadata": {},
   "source": [
    "### Restaurant Type vs No. of orders"
   ]
  },
  {
   "cell_type": "code",
   "execution_count": 32,
   "id": "7fcf4005",
   "metadata": {},
   "outputs": [
    {
     "data": {
      "image/png": "[encoded data removed]",
      "text/plain": [
       "<Figure size 864x360 with 1 Axes>"
      ]
     },
     "metadata": {},
     "output_type": "display_data"
    }
   ],
   "source": [
    "plt.figure(figsize=(12,5))\n",
    "ax = orders_df.rest_type.value_counts()[:25]\n",
    "ax.plot(kind='bar')\n",
    "plt.title(\"Most Famous Restaurant Types\",fontsize=15)\n",
    "plt.xlabel(\"Type of Restaurants\")\n",
    "plt.ylabel(\"No. of Orders\")\n",
    "plt.show()"
   ]
  },
  {
   "cell_type": "markdown",
   "id": "1c0537e4",
   "metadata": {},
   "source": [
    "### Most famous Cusines among People"
   ]
  },
  {
   "cell_type": "code",
   "execution_count": 33,
   "id": "235e774a",
   "metadata": {},
   "outputs": [
    {
     "data": {
      "image/png": "[encoded data removed]",
      "text/plain": [
       "<Figure size 864x360 with 1 Axes>"
      ]
     },
     "metadata": {},
     "output_type": "display_data"
    }
   ],
   "source": [
    "plt.figure(figsize=(12,5))\n",
    "ax = orders_df.cuisines.value_counts()[:25].plot(kind='bar')\n",
    "plt.title(\"Most famous Cusines among People\",fontsize=15)\n",
    "plt.xlabel(\"Cuisines\")\n",
    "plt.ylabel (\"No. of Orders\")\n",
    "plt.show()"
   ]
  },
  {
   "cell_type": "markdown",
   "id": "1c5b80a3",
   "metadata": {},
   "source": [
    "### Top Locations with Most Number of Restaurants"
   ]
  },
  {
   "cell_type": "code",
   "execution_count": 34,
   "id": "seeing-delta",
   "metadata": {},
   "outputs": [],
   "source": [
    "top_areas = pd.DataFrame(orders_df.groupby(by='location')['name'].nunique())\n",
    "top_areas.columns = ['count']\n",
    "top_areas.sort_values(by='count', ascending= False, inplace=True)"
   ]
  },
  {
   "cell_type": "code",
   "execution_count": 35,
   "id": "active-hunter",
   "metadata": {},
   "outputs": [
    {
     "data": {
      "image/png": "[encoded data removed]",
      "text/plain": [
       "<Figure size 864x432 with 1 Axes>"
      ]
     },
     "metadata": {},
     "output_type": "display_data"
    }
   ],
   "source": [
    "plt.rcParams['figure.figsize'] = (12,6)\n",
    "ax = top_areas[0:30].plot(kind='bar')\n",
    "plt.xlabel('Location', size = 12)\n",
    "plt.ylabel('No. of Restaurants', size = 12)\n",
    "plt.title('Top Locations with Most Number of Restaurants', size = 15)\n",
    "plt.show()"
   ]
  },
  {
   "cell_type": "markdown",
   "id": "1d280f06",
   "metadata": {},
   "source": [
    "### Top Areas with Most Number of Restaurants"
   ]
  },
  {
   "cell_type": "code",
   "execution_count": 36,
   "id": "920ea9da",
   "metadata": {},
   "outputs": [],
   "source": [
    "top_areas = pd.DataFrame(orders_df.groupby(by='area')['name'].nunique())\n",
    "top_areas.columns = ['count']\n",
    "top_areas.sort_values(by='count', ascending= False, inplace=True)"
   ]
  },
  {
   "cell_type": "code",
   "execution_count": 37,
   "id": "77ee3d93",
   "metadata": {},
   "outputs": [
    {
     "data": {
      "image/png": "[encoded data removed]",
      "text/plain": [
       "<Figure size 864x432 with 1 Axes>"
      ]
     },
     "metadata": {},
     "output_type": "display_data"
    }
   ],
   "source": [
    "plt.rcParams['figure.figsize'] = (12,6)\n",
    "ax = top_areas[0:30].plot(kind='bar')\n",
    "plt.xlabel('Areas', size = 12)\n",
    "plt.ylabel('No. of Restaurants', size = 12)\n",
    "plt.title('Top Areas with Most Number of Restaurants', size = 15)\n",
    "plt.show()"
   ]
  },
  {
   "cell_type": "markdown",
   "id": "realistic-reminder",
   "metadata": {},
   "source": [
    "## Encoding Columns"
   ]
  },
  {
   "cell_type": "markdown",
   "id": "decent-journalist",
   "metadata": {},
   "source": [
    "### Online Order Column"
   ]
  },
  {
   "cell_type": "code",
   "execution_count": 38,
   "id": "closing-tyler",
   "metadata": {},
   "outputs": [
    {
     "data": {
      "text/html": [
       "<div>\n",
       "<style scoped>\n",
       "    .dataframe tbody tr th:only-of-type {\n",
       "        vertical-align: middle;\n",
       "    }\n",
       "\n",
       "    .dataframe tbody tr th {\n",
       "        vertical-align: top;\n",
       "    }\n",
       "\n",
       "    .dataframe thead th {\n",
       "        text-align: right;\n",
       "    }\n",
       "</style>\n",
       "<table border=\"1\" class=\"dataframe\">\n",
       "  <thead>\n",
       "    <tr style=\"text-align: right;\">\n",
       "      <th></th>\n",
       "      <th>name</th>\n",
       "      <th>online_order</th>\n",
       "      <th>book_table</th>\n",
       "      <th>rate</th>\n",
       "      <th>votes</th>\n",
       "      <th>location</th>\n",
       "      <th>rest_type</th>\n",
       "      <th>cuisines</th>\n",
       "      <th>approx_cost</th>\n",
       "      <th>area</th>\n",
       "    </tr>\n",
       "  </thead>\n",
       "  <tbody>\n",
       "    <tr>\n",
       "      <th>0</th>\n",
       "      <td>Jalsa</td>\n",
       "      <td>1</td>\n",
       "      <td>Yes</td>\n",
       "      <td>4.1</td>\n",
       "      <td>775</td>\n",
       "      <td>Banashankari</td>\n",
       "      <td>Casual Dining</td>\n",
       "      <td>North Indian, Mughlai, Chinese</td>\n",
       "      <td>800.0</td>\n",
       "      <td>Banashankari</td>\n",
       "    </tr>\n",
       "    <tr>\n",
       "      <th>1</th>\n",
       "      <td>Spice Elephant</td>\n",
       "      <td>1</td>\n",
       "      <td>No</td>\n",
       "      <td>4.1</td>\n",
       "      <td>787</td>\n",
       "      <td>Banashankari</td>\n",
       "      <td>Casual Dining</td>\n",
       "      <td>Chinese, North Indian, Thai</td>\n",
       "      <td>800.0</td>\n",
       "      <td>Banashankari</td>\n",
       "    </tr>\n",
       "    <tr>\n",
       "      <th>2</th>\n",
       "      <td>San Churro Cafe</td>\n",
       "      <td>1</td>\n",
       "      <td>No</td>\n",
       "      <td>3.8</td>\n",
       "      <td>918</td>\n",
       "      <td>Banashankari</td>\n",
       "      <td>Cafe, Casual Dining</td>\n",
       "      <td>Cafe, Mexican, Italian</td>\n",
       "      <td>800.0</td>\n",
       "      <td>Banashankari</td>\n",
       "    </tr>\n",
       "    <tr>\n",
       "      <th>3</th>\n",
       "      <td>Addhuri Udupi Bhojana</td>\n",
       "      <td>0</td>\n",
       "      <td>No</td>\n",
       "      <td>3.7</td>\n",
       "      <td>88</td>\n",
       "      <td>Banashankari</td>\n",
       "      <td>Quick Bites</td>\n",
       "      <td>South Indian, North Indian</td>\n",
       "      <td>300.0</td>\n",
       "      <td>Banashankari</td>\n",
       "    </tr>\n",
       "    <tr>\n",
       "      <th>4</th>\n",
       "      <td>Grand Village</td>\n",
       "      <td>0</td>\n",
       "      <td>No</td>\n",
       "      <td>3.8</td>\n",
       "      <td>166</td>\n",
       "      <td>Basavanagudi</td>\n",
       "      <td>Casual Dining</td>\n",
       "      <td>North Indian, Rajasthani</td>\n",
       "      <td>600.0</td>\n",
       "      <td>Banashankari</td>\n",
       "    </tr>\n",
       "  </tbody>\n",
       "</table>\n",
       "</div>"
      ],
      "text/plain": [
       "                    name  online_order book_table  rate  votes      location  \\\n",
       "0                  Jalsa             1        Yes   4.1    775  Banashankari   \n",
       "1         Spice Elephant             1         No   4.1    787  Banashankari   \n",
       "2        San Churro Cafe             1         No   3.8    918  Banashankari   \n",
       "3  Addhuri Udupi Bhojana             0         No   3.7     88  Banashankari   \n",
       "4          Grand Village             0         No   3.8    166  Basavanagudi   \n",
       "\n",
       "             rest_type                        cuisines  approx_cost  \\\n",
       "0        Casual Dining  North Indian, Mughlai, Chinese        800.0   \n",
       "1        Casual Dining     Chinese, North Indian, Thai        800.0   \n",
       "2  Cafe, Casual Dining          Cafe, Mexican, Italian        800.0   \n",
       "3          Quick Bites      South Indian, North Indian        300.0   \n",
       "4        Casual Dining        North Indian, Rajasthani        600.0   \n",
       "\n",
       "           area  \n",
       "0  Banashankari  \n",
       "1  Banashankari  \n",
       "2  Banashankari  \n",
       "3  Banashankari  \n",
       "4  Banashankari  "
      ]
     },
     "execution_count": 38,
     "metadata": {},
     "output_type": "execute_result"
    }
   ],
   "source": [
    "orders_df['online_order'] = orders_df['online_order'].replace({\"Yes\": 1, \"No\" : 0})\n",
    "orders_df.head()"
   ]
  },
  {
   "cell_type": "markdown",
   "id": "nasty-therapist",
   "metadata": {},
   "source": [
    "\n",
    "<br>"
   ]
  },
  {
   "cell_type": "markdown",
   "id": "certified-productivity",
   "metadata": {},
   "source": [
    "### Book Table Column"
   ]
  },
  {
   "cell_type": "code",
   "execution_count": 39,
   "id": "lesser-guinea",
   "metadata": {},
   "outputs": [
    {
     "data": {
      "text/html": [
       "<div>\n",
       "<style scoped>\n",
       "    .dataframe tbody tr th:only-of-type {\n",
       "        vertical-align: middle;\n",
       "    }\n",
       "\n",
       "    .dataframe tbody tr th {\n",
       "        vertical-align: top;\n",
       "    }\n",
       "\n",
       "    .dataframe thead th {\n",
       "        text-align: right;\n",
       "    }\n",
       "</style>\n",
       "<table border=\"1\" class=\"dataframe\">\n",
       "  <thead>\n",
       "    <tr style=\"text-align: right;\">\n",
       "      <th></th>\n",
       "      <th>name</th>\n",
       "      <th>online_order</th>\n",
       "      <th>book_table</th>\n",
       "      <th>rate</th>\n",
       "      <th>votes</th>\n",
       "      <th>location</th>\n",
       "      <th>rest_type</th>\n",
       "      <th>cuisines</th>\n",
       "      <th>approx_cost</th>\n",
       "      <th>area</th>\n",
       "    </tr>\n",
       "  </thead>\n",
       "  <tbody>\n",
       "    <tr>\n",
       "      <th>0</th>\n",
       "      <td>Jalsa</td>\n",
       "      <td>1</td>\n",
       "      <td>1</td>\n",
       "      <td>4.1</td>\n",
       "      <td>775</td>\n",
       "      <td>Banashankari</td>\n",
       "      <td>Casual Dining</td>\n",
       "      <td>North Indian, Mughlai, Chinese</td>\n",
       "      <td>800.0</td>\n",
       "      <td>Banashankari</td>\n",
       "    </tr>\n",
       "    <tr>\n",
       "      <th>1</th>\n",
       "      <td>Spice Elephant</td>\n",
       "      <td>1</td>\n",
       "      <td>0</td>\n",
       "      <td>4.1</td>\n",
       "      <td>787</td>\n",
       "      <td>Banashankari</td>\n",
       "      <td>Casual Dining</td>\n",
       "      <td>Chinese, North Indian, Thai</td>\n",
       "      <td>800.0</td>\n",
       "      <td>Banashankari</td>\n",
       "    </tr>\n",
       "    <tr>\n",
       "      <th>2</th>\n",
       "      <td>San Churro Cafe</td>\n",
       "      <td>1</td>\n",
       "      <td>0</td>\n",
       "      <td>3.8</td>\n",
       "      <td>918</td>\n",
       "      <td>Banashankari</td>\n",
       "      <td>Cafe, Casual Dining</td>\n",
       "      <td>Cafe, Mexican, Italian</td>\n",
       "      <td>800.0</td>\n",
       "      <td>Banashankari</td>\n",
       "    </tr>\n",
       "    <tr>\n",
       "      <th>3</th>\n",
       "      <td>Addhuri Udupi Bhojana</td>\n",
       "      <td>0</td>\n",
       "      <td>0</td>\n",
       "      <td>3.7</td>\n",
       "      <td>88</td>\n",
       "      <td>Banashankari</td>\n",
       "      <td>Quick Bites</td>\n",
       "      <td>South Indian, North Indian</td>\n",
       "      <td>300.0</td>\n",
       "      <td>Banashankari</td>\n",
       "    </tr>\n",
       "    <tr>\n",
       "      <th>4</th>\n",
       "      <td>Grand Village</td>\n",
       "      <td>0</td>\n",
       "      <td>0</td>\n",
       "      <td>3.8</td>\n",
       "      <td>166</td>\n",
       "      <td>Basavanagudi</td>\n",
       "      <td>Casual Dining</td>\n",
       "      <td>North Indian, Rajasthani</td>\n",
       "      <td>600.0</td>\n",
       "      <td>Banashankari</td>\n",
       "    </tr>\n",
       "  </tbody>\n",
       "</table>\n",
       "</div>"
      ],
      "text/plain": [
       "                    name  online_order  book_table  rate  votes      location  \\\n",
       "0                  Jalsa             1           1   4.1    775  Banashankari   \n",
       "1         Spice Elephant             1           0   4.1    787  Banashankari   \n",
       "2        San Churro Cafe             1           0   3.8    918  Banashankari   \n",
       "3  Addhuri Udupi Bhojana             0           0   3.7     88  Banashankari   \n",
       "4          Grand Village             0           0   3.8    166  Basavanagudi   \n",
       "\n",
       "             rest_type                        cuisines  approx_cost  \\\n",
       "0        Casual Dining  North Indian, Mughlai, Chinese        800.0   \n",
       "1        Casual Dining     Chinese, North Indian, Thai        800.0   \n",
       "2  Cafe, Casual Dining          Cafe, Mexican, Italian        800.0   \n",
       "3          Quick Bites      South Indian, North Indian        300.0   \n",
       "4        Casual Dining        North Indian, Rajasthani        600.0   \n",
       "\n",
       "           area  \n",
       "0  Banashankari  \n",
       "1  Banashankari  \n",
       "2  Banashankari  \n",
       "3  Banashankari  \n",
       "4  Banashankari  "
      ]
     },
     "execution_count": 39,
     "metadata": {},
     "output_type": "execute_result"
    }
   ],
   "source": [
    "orders_df['book_table'] = orders_df['book_table'].replace({\"Yes\": 1, \"No\" : 0})\n",
    "orders_df.head()"
   ]
  },
  {
   "cell_type": "markdown",
   "id": "interior-priority",
   "metadata": {},
   "source": [
    "<br>"
   ]
  },
  {
   "cell_type": "markdown",
   "id": "encouraging-tension",
   "metadata": {},
   "source": [
    "### Rest Type Column"
   ]
  },
  {
   "cell_type": "code",
   "execution_count": 94,
   "id": "alleged-daniel",
   "metadata": {},
   "outputs": [
    {
     "data": {
      "text/html": [
       "<div>\n",
       "<style scoped>\n",
       "    .dataframe tbody tr th:only-of-type {\n",
       "        vertical-align: middle;\n",
       "    }\n",
       "\n",
       "    .dataframe tbody tr th {\n",
       "        vertical-align: top;\n",
       "    }\n",
       "\n",
       "    .dataframe thead th {\n",
       "        text-align: right;\n",
       "    }\n",
       "</style>\n",
       "<table border=\"1\" class=\"dataframe\">\n",
       "  <thead>\n",
       "    <tr style=\"text-align: right;\">\n",
       "      <th></th>\n",
       "      <th>rest_type</th>\n",
       "      <th>Lounge</th>\n",
       "      <th>Kiosk</th>\n",
       "      <th>Food Truck</th>\n",
       "      <th>Irani Cafee</th>\n",
       "      <th>Confectionery</th>\n",
       "      <th>Cafe</th>\n",
       "      <th>Microbrewery</th>\n",
       "      <th>Dhaba</th>\n",
       "      <th>Takeaway</th>\n",
       "      <th>...</th>\n",
       "      <th>Dessert Parlor</th>\n",
       "      <th>Club</th>\n",
       "      <th>Quick Bites</th>\n",
       "      <th>Bhojanalya</th>\n",
       "      <th>Casual Dining</th>\n",
       "      <th>Fine Dining</th>\n",
       "      <th>Mess</th>\n",
       "      <th>Sweet Shop</th>\n",
       "      <th>Food Court</th>\n",
       "      <th>Bakery</th>\n",
       "    </tr>\n",
       "  </thead>\n",
       "  <tbody>\n",
       "    <tr>\n",
       "      <th>0</th>\n",
       "      <td>Casual Dining</td>\n",
       "      <td>0</td>\n",
       "      <td>0</td>\n",
       "      <td>0</td>\n",
       "      <td>0</td>\n",
       "      <td>0</td>\n",
       "      <td>0</td>\n",
       "      <td>0</td>\n",
       "      <td>0</td>\n",
       "      <td>0</td>\n",
       "      <td>...</td>\n",
       "      <td>0</td>\n",
       "      <td>0</td>\n",
       "      <td>0</td>\n",
       "      <td>0</td>\n",
       "      <td>0</td>\n",
       "      <td>0</td>\n",
       "      <td>0</td>\n",
       "      <td>0</td>\n",
       "      <td>0</td>\n",
       "      <td>0</td>\n",
       "    </tr>\n",
       "    <tr>\n",
       "      <th>1</th>\n",
       "      <td>Casual Dining</td>\n",
       "      <td>0</td>\n",
       "      <td>0</td>\n",
       "      <td>0</td>\n",
       "      <td>0</td>\n",
       "      <td>0</td>\n",
       "      <td>0</td>\n",
       "      <td>0</td>\n",
       "      <td>0</td>\n",
       "      <td>0</td>\n",
       "      <td>...</td>\n",
       "      <td>0</td>\n",
       "      <td>0</td>\n",
       "      <td>0</td>\n",
       "      <td>0</td>\n",
       "      <td>0</td>\n",
       "      <td>0</td>\n",
       "      <td>0</td>\n",
       "      <td>0</td>\n",
       "      <td>0</td>\n",
       "      <td>0</td>\n",
       "    </tr>\n",
       "    <tr>\n",
       "      <th>2</th>\n",
       "      <td>Cafe, Casual Dining</td>\n",
       "      <td>0</td>\n",
       "      <td>0</td>\n",
       "      <td>0</td>\n",
       "      <td>0</td>\n",
       "      <td>0</td>\n",
       "      <td>0</td>\n",
       "      <td>0</td>\n",
       "      <td>0</td>\n",
       "      <td>0</td>\n",
       "      <td>...</td>\n",
       "      <td>0</td>\n",
       "      <td>0</td>\n",
       "      <td>0</td>\n",
       "      <td>0</td>\n",
       "      <td>0</td>\n",
       "      <td>0</td>\n",
       "      <td>0</td>\n",
       "      <td>0</td>\n",
       "      <td>0</td>\n",
       "      <td>0</td>\n",
       "    </tr>\n",
       "    <tr>\n",
       "      <th>3</th>\n",
       "      <td>Quick Bites</td>\n",
       "      <td>0</td>\n",
       "      <td>0</td>\n",
       "      <td>0</td>\n",
       "      <td>0</td>\n",
       "      <td>0</td>\n",
       "      <td>0</td>\n",
       "      <td>0</td>\n",
       "      <td>0</td>\n",
       "      <td>0</td>\n",
       "      <td>...</td>\n",
       "      <td>0</td>\n",
       "      <td>0</td>\n",
       "      <td>0</td>\n",
       "      <td>0</td>\n",
       "      <td>0</td>\n",
       "      <td>0</td>\n",
       "      <td>0</td>\n",
       "      <td>0</td>\n",
       "      <td>0</td>\n",
       "      <td>0</td>\n",
       "    </tr>\n",
       "    <tr>\n",
       "      <th>4</th>\n",
       "      <td>Casual Dining</td>\n",
       "      <td>0</td>\n",
       "      <td>0</td>\n",
       "      <td>0</td>\n",
       "      <td>0</td>\n",
       "      <td>0</td>\n",
       "      <td>0</td>\n",
       "      <td>0</td>\n",
       "      <td>0</td>\n",
       "      <td>0</td>\n",
       "      <td>...</td>\n",
       "      <td>0</td>\n",
       "      <td>0</td>\n",
       "      <td>0</td>\n",
       "      <td>0</td>\n",
       "      <td>0</td>\n",
       "      <td>0</td>\n",
       "      <td>0</td>\n",
       "      <td>0</td>\n",
       "      <td>0</td>\n",
       "      <td>0</td>\n",
       "    </tr>\n",
       "  </tbody>\n",
       "</table>\n",
       "<p>5 rows × 26 columns</p>\n",
       "</div>"
      ],
      "text/plain": [
       "             rest_type  Lounge  Kiosk  Food Truck  Irani Cafee  Confectionery  \\\n",
       "0        Casual Dining       0      0           0            0              0   \n",
       "1        Casual Dining       0      0           0            0              0   \n",
       "2  Cafe, Casual Dining       0      0           0            0              0   \n",
       "3          Quick Bites       0      0           0            0              0   \n",
       "4        Casual Dining       0      0           0            0              0   \n",
       "\n",
       "   Cafe  Microbrewery  Dhaba  Takeaway  ...  Dessert Parlor  Club  \\\n",
       "0     0             0      0         0  ...               0     0   \n",
       "1     0             0      0         0  ...               0     0   \n",
       "2     0             0      0         0  ...               0     0   \n",
       "3     0             0      0         0  ...               0     0   \n",
       "4     0             0      0         0  ...               0     0   \n",
       "\n",
       "   Quick Bites  Bhojanalya  Casual Dining  Fine Dining  Mess  Sweet Shop  \\\n",
       "0            0           0              0            0     0           0   \n",
       "1            0           0              0            0     0           0   \n",
       "2            0           0              0            0     0           0   \n",
       "3            0           0              0            0     0           0   \n",
       "4            0           0              0            0     0           0   \n",
       "\n",
       "   Food Court  Bakery  \n",
       "0           0       0  \n",
       "1           0       0  \n",
       "2           0       0  \n",
       "3           0       0  \n",
       "4           0       0  \n",
       "\n",
       "[5 rows x 26 columns]"
      ]
     },
     "execution_count": 94,
     "metadata": {},
     "output_type": "execute_result"
    }
   ],
   "source": [
    "rest_df = pd.DataFrame(orders_df['rest_type'])\n",
    "rts = list(rest_df.rest_type.str.split(\", \"))\n",
    "unique_rts = list(set([rt for sub_list in rts for rt in sub_list]))\n",
    "\n",
    "for rt in unique_rts:\n",
    "    rest_df[rt] = int(0)\n",
    "    \n",
    "rest_df.head()"
   ]
  },
  {
   "cell_type": "code",
   "execution_count": 41,
   "id": "norman-trail",
   "metadata": {
    "scrolled": true
   },
   "outputs": [],
   "source": [
    "count = 0\n",
    "for i in rts:\n",
    "    rest_df.loc[count, i] = int(1)       \n",
    "    count+=1"
   ]
  },
  {
   "cell_type": "code",
   "execution_count": 42,
   "id": "wicked-literature",
   "metadata": {},
   "outputs": [
    {
     "data": {
      "text/html": [
       "<div>\n",
       "<style scoped>\n",
       "    .dataframe tbody tr th:only-of-type {\n",
       "        vertical-align: middle;\n",
       "    }\n",
       "\n",
       "    .dataframe tbody tr th {\n",
       "        vertical-align: top;\n",
       "    }\n",
       "\n",
       "    .dataframe thead th {\n",
       "        text-align: right;\n",
       "    }\n",
       "</style>\n",
       "<table border=\"1\" class=\"dataframe\">\n",
       "  <thead>\n",
       "    <tr style=\"text-align: right;\">\n",
       "      <th></th>\n",
       "      <th>rest_type</th>\n",
       "      <th>Lounge</th>\n",
       "      <th>Kiosk</th>\n",
       "      <th>Food Truck</th>\n",
       "      <th>Irani Cafee</th>\n",
       "      <th>Confectionery</th>\n",
       "      <th>Cafe</th>\n",
       "      <th>Microbrewery</th>\n",
       "      <th>Dhaba</th>\n",
       "      <th>Takeaway</th>\n",
       "      <th>...</th>\n",
       "      <th>Dessert Parlor</th>\n",
       "      <th>Club</th>\n",
       "      <th>Quick Bites</th>\n",
       "      <th>Bhojanalya</th>\n",
       "      <th>Casual Dining</th>\n",
       "      <th>Fine Dining</th>\n",
       "      <th>Mess</th>\n",
       "      <th>Sweet Shop</th>\n",
       "      <th>Food Court</th>\n",
       "      <th>Bakery</th>\n",
       "    </tr>\n",
       "  </thead>\n",
       "  <tbody>\n",
       "    <tr>\n",
       "      <th>0</th>\n",
       "      <td>Casual Dining</td>\n",
       "      <td>0</td>\n",
       "      <td>0</td>\n",
       "      <td>0</td>\n",
       "      <td>0</td>\n",
       "      <td>0</td>\n",
       "      <td>0</td>\n",
       "      <td>0</td>\n",
       "      <td>0</td>\n",
       "      <td>0</td>\n",
       "      <td>...</td>\n",
       "      <td>0</td>\n",
       "      <td>0</td>\n",
       "      <td>0</td>\n",
       "      <td>0</td>\n",
       "      <td>1</td>\n",
       "      <td>0</td>\n",
       "      <td>0</td>\n",
       "      <td>0</td>\n",
       "      <td>0</td>\n",
       "      <td>0</td>\n",
       "    </tr>\n",
       "    <tr>\n",
       "      <th>1</th>\n",
       "      <td>Casual Dining</td>\n",
       "      <td>0</td>\n",
       "      <td>0</td>\n",
       "      <td>0</td>\n",
       "      <td>0</td>\n",
       "      <td>0</td>\n",
       "      <td>0</td>\n",
       "      <td>0</td>\n",
       "      <td>0</td>\n",
       "      <td>0</td>\n",
       "      <td>...</td>\n",
       "      <td>0</td>\n",
       "      <td>0</td>\n",
       "      <td>0</td>\n",
       "      <td>0</td>\n",
       "      <td>1</td>\n",
       "      <td>0</td>\n",
       "      <td>0</td>\n",
       "      <td>0</td>\n",
       "      <td>0</td>\n",
       "      <td>0</td>\n",
       "    </tr>\n",
       "    <tr>\n",
       "      <th>2</th>\n",
       "      <td>Cafe, Casual Dining</td>\n",
       "      <td>0</td>\n",
       "      <td>0</td>\n",
       "      <td>0</td>\n",
       "      <td>0</td>\n",
       "      <td>0</td>\n",
       "      <td>1</td>\n",
       "      <td>0</td>\n",
       "      <td>0</td>\n",
       "      <td>0</td>\n",
       "      <td>...</td>\n",
       "      <td>0</td>\n",
       "      <td>0</td>\n",
       "      <td>0</td>\n",
       "      <td>0</td>\n",
       "      <td>1</td>\n",
       "      <td>0</td>\n",
       "      <td>0</td>\n",
       "      <td>0</td>\n",
       "      <td>0</td>\n",
       "      <td>0</td>\n",
       "    </tr>\n",
       "    <tr>\n",
       "      <th>3</th>\n",
       "      <td>Quick Bites</td>\n",
       "      <td>0</td>\n",
       "      <td>0</td>\n",
       "      <td>0</td>\n",
       "      <td>0</td>\n",
       "      <td>0</td>\n",
       "      <td>0</td>\n",
       "      <td>0</td>\n",
       "      <td>0</td>\n",
       "      <td>0</td>\n",
       "      <td>...</td>\n",
       "      <td>0</td>\n",
       "      <td>0</td>\n",
       "      <td>1</td>\n",
       "      <td>0</td>\n",
       "      <td>0</td>\n",
       "      <td>0</td>\n",
       "      <td>0</td>\n",
       "      <td>0</td>\n",
       "      <td>0</td>\n",
       "      <td>0</td>\n",
       "    </tr>\n",
       "    <tr>\n",
       "      <th>4</th>\n",
       "      <td>Casual Dining</td>\n",
       "      <td>0</td>\n",
       "      <td>0</td>\n",
       "      <td>0</td>\n",
       "      <td>0</td>\n",
       "      <td>0</td>\n",
       "      <td>0</td>\n",
       "      <td>0</td>\n",
       "      <td>0</td>\n",
       "      <td>0</td>\n",
       "      <td>...</td>\n",
       "      <td>0</td>\n",
       "      <td>0</td>\n",
       "      <td>0</td>\n",
       "      <td>0</td>\n",
       "      <td>1</td>\n",
       "      <td>0</td>\n",
       "      <td>0</td>\n",
       "      <td>0</td>\n",
       "      <td>0</td>\n",
       "      <td>0</td>\n",
       "    </tr>\n",
       "  </tbody>\n",
       "</table>\n",
       "<p>5 rows × 26 columns</p>\n",
       "</div>"
      ],
      "text/plain": [
       "             rest_type  Lounge  Kiosk  Food Truck  Irani Cafee  Confectionery  \\\n",
       "0        Casual Dining       0      0           0            0              0   \n",
       "1        Casual Dining       0      0           0            0              0   \n",
       "2  Cafe, Casual Dining       0      0           0            0              0   \n",
       "3          Quick Bites       0      0           0            0              0   \n",
       "4        Casual Dining       0      0           0            0              0   \n",
       "\n",
       "   Cafe  Microbrewery  Dhaba  Takeaway  ...  Dessert Parlor  Club  \\\n",
       "0     0             0      0         0  ...               0     0   \n",
       "1     0             0      0         0  ...               0     0   \n",
       "2     1             0      0         0  ...               0     0   \n",
       "3     0             0      0         0  ...               0     0   \n",
       "4     0             0      0         0  ...               0     0   \n",
       "\n",
       "   Quick Bites  Bhojanalya  Casual Dining  Fine Dining  Mess  Sweet Shop  \\\n",
       "0            0           0              1            0     0           0   \n",
       "1            0           0              1            0     0           0   \n",
       "2            0           0              1            0     0           0   \n",
       "3            1           0              0            0     0           0   \n",
       "4            0           0              1            0     0           0   \n",
       "\n",
       "   Food Court  Bakery  \n",
       "0           0       0  \n",
       "1           0       0  \n",
       "2           0       0  \n",
       "3           0       0  \n",
       "4           0       0  \n",
       "\n",
       "[5 rows x 26 columns]"
      ]
     },
     "execution_count": 42,
     "metadata": {},
     "output_type": "execute_result"
    }
   ],
   "source": [
    "rest_df.head()"
   ]
  },
  {
   "cell_type": "code",
   "execution_count": 43,
   "id": "excess-medium",
   "metadata": {},
   "outputs": [
    {
     "data": {
      "text/html": [
       "<div>\n",
       "<style scoped>\n",
       "    .dataframe tbody tr th:only-of-type {\n",
       "        vertical-align: middle;\n",
       "    }\n",
       "\n",
       "    .dataframe tbody tr th {\n",
       "        vertical-align: top;\n",
       "    }\n",
       "\n",
       "    .dataframe thead th {\n",
       "        text-align: right;\n",
       "    }\n",
       "</style>\n",
       "<table border=\"1\" class=\"dataframe\">\n",
       "  <thead>\n",
       "    <tr style=\"text-align: right;\">\n",
       "      <th></th>\n",
       "      <th>Lounge</th>\n",
       "      <th>Kiosk</th>\n",
       "      <th>Food Truck</th>\n",
       "      <th>Irani Cafee</th>\n",
       "      <th>Confectionery</th>\n",
       "      <th>Cafe</th>\n",
       "      <th>Microbrewery</th>\n",
       "      <th>Dhaba</th>\n",
       "      <th>Takeaway</th>\n",
       "      <th>Pop Up</th>\n",
       "      <th>...</th>\n",
       "      <th>Dessert Parlor</th>\n",
       "      <th>Club</th>\n",
       "      <th>Quick Bites</th>\n",
       "      <th>Bhojanalya</th>\n",
       "      <th>Casual Dining</th>\n",
       "      <th>Fine Dining</th>\n",
       "      <th>Mess</th>\n",
       "      <th>Sweet Shop</th>\n",
       "      <th>Food Court</th>\n",
       "      <th>Bakery</th>\n",
       "    </tr>\n",
       "  </thead>\n",
       "  <tbody>\n",
       "    <tr>\n",
       "      <th>0</th>\n",
       "      <td>0</td>\n",
       "      <td>0</td>\n",
       "      <td>0</td>\n",
       "      <td>0</td>\n",
       "      <td>0</td>\n",
       "      <td>0</td>\n",
       "      <td>0</td>\n",
       "      <td>0</td>\n",
       "      <td>0</td>\n",
       "      <td>0</td>\n",
       "      <td>...</td>\n",
       "      <td>0</td>\n",
       "      <td>0</td>\n",
       "      <td>0</td>\n",
       "      <td>0</td>\n",
       "      <td>1</td>\n",
       "      <td>0</td>\n",
       "      <td>0</td>\n",
       "      <td>0</td>\n",
       "      <td>0</td>\n",
       "      <td>0</td>\n",
       "    </tr>\n",
       "    <tr>\n",
       "      <th>1</th>\n",
       "      <td>0</td>\n",
       "      <td>0</td>\n",
       "      <td>0</td>\n",
       "      <td>0</td>\n",
       "      <td>0</td>\n",
       "      <td>0</td>\n",
       "      <td>0</td>\n",
       "      <td>0</td>\n",
       "      <td>0</td>\n",
       "      <td>0</td>\n",
       "      <td>...</td>\n",
       "      <td>0</td>\n",
       "      <td>0</td>\n",
       "      <td>0</td>\n",
       "      <td>0</td>\n",
       "      <td>1</td>\n",
       "      <td>0</td>\n",
       "      <td>0</td>\n",
       "      <td>0</td>\n",
       "      <td>0</td>\n",
       "      <td>0</td>\n",
       "    </tr>\n",
       "    <tr>\n",
       "      <th>2</th>\n",
       "      <td>0</td>\n",
       "      <td>0</td>\n",
       "      <td>0</td>\n",
       "      <td>0</td>\n",
       "      <td>0</td>\n",
       "      <td>1</td>\n",
       "      <td>0</td>\n",
       "      <td>0</td>\n",
       "      <td>0</td>\n",
       "      <td>0</td>\n",
       "      <td>...</td>\n",
       "      <td>0</td>\n",
       "      <td>0</td>\n",
       "      <td>0</td>\n",
       "      <td>0</td>\n",
       "      <td>1</td>\n",
       "      <td>0</td>\n",
       "      <td>0</td>\n",
       "      <td>0</td>\n",
       "      <td>0</td>\n",
       "      <td>0</td>\n",
       "    </tr>\n",
       "    <tr>\n",
       "      <th>3</th>\n",
       "      <td>0</td>\n",
       "      <td>0</td>\n",
       "      <td>0</td>\n",
       "      <td>0</td>\n",
       "      <td>0</td>\n",
       "      <td>0</td>\n",
       "      <td>0</td>\n",
       "      <td>0</td>\n",
       "      <td>0</td>\n",
       "      <td>0</td>\n",
       "      <td>...</td>\n",
       "      <td>0</td>\n",
       "      <td>0</td>\n",
       "      <td>1</td>\n",
       "      <td>0</td>\n",
       "      <td>0</td>\n",
       "      <td>0</td>\n",
       "      <td>0</td>\n",
       "      <td>0</td>\n",
       "      <td>0</td>\n",
       "      <td>0</td>\n",
       "    </tr>\n",
       "    <tr>\n",
       "      <th>4</th>\n",
       "      <td>0</td>\n",
       "      <td>0</td>\n",
       "      <td>0</td>\n",
       "      <td>0</td>\n",
       "      <td>0</td>\n",
       "      <td>0</td>\n",
       "      <td>0</td>\n",
       "      <td>0</td>\n",
       "      <td>0</td>\n",
       "      <td>0</td>\n",
       "      <td>...</td>\n",
       "      <td>0</td>\n",
       "      <td>0</td>\n",
       "      <td>0</td>\n",
       "      <td>0</td>\n",
       "      <td>1</td>\n",
       "      <td>0</td>\n",
       "      <td>0</td>\n",
       "      <td>0</td>\n",
       "      <td>0</td>\n",
       "      <td>0</td>\n",
       "    </tr>\n",
       "  </tbody>\n",
       "</table>\n",
       "<p>5 rows × 25 columns</p>\n",
       "</div>"
      ],
      "text/plain": [
       "   Lounge  Kiosk  Food Truck  Irani Cafee  Confectionery  Cafe  Microbrewery  \\\n",
       "0       0      0           0            0              0     0             0   \n",
       "1       0      0           0            0              0     0             0   \n",
       "2       0      0           0            0              0     1             0   \n",
       "3       0      0           0            0              0     0             0   \n",
       "4       0      0           0            0              0     0             0   \n",
       "\n",
       "   Dhaba  Takeaway  Pop Up  ...  Dessert Parlor  Club  Quick Bites  \\\n",
       "0      0         0       0  ...               0     0            0   \n",
       "1      0         0       0  ...               0     0            0   \n",
       "2      0         0       0  ...               0     0            0   \n",
       "3      0         0       0  ...               0     0            1   \n",
       "4      0         0       0  ...               0     0            0   \n",
       "\n",
       "   Bhojanalya  Casual Dining  Fine Dining  Mess  Sweet Shop  Food Court  \\\n",
       "0           0              1            0     0           0           0   \n",
       "1           0              1            0     0           0           0   \n",
       "2           0              1            0     0           0           0   \n",
       "3           0              0            0     0           0           0   \n",
       "4           0              1            0     0           0           0   \n",
       "\n",
       "   Bakery  \n",
       "0       0  \n",
       "1       0  \n",
       "2       0  \n",
       "3       0  \n",
       "4       0  \n",
       "\n",
       "[5 rows x 25 columns]"
      ]
     },
     "execution_count": 43,
     "metadata": {},
     "output_type": "execute_result"
    }
   ],
   "source": [
    "rest_df.drop(['rest_type'], axis = 1, inplace=True)\n",
    "rest_df.head()"
   ]
  },
  {
   "cell_type": "markdown",
   "id": "scenic-complex",
   "metadata": {},
   "source": [
    "<br>"
   ]
  },
  {
   "cell_type": "markdown",
   "id": "aboriginal-symphony",
   "metadata": {},
   "source": [
    "### Cuisines Column"
   ]
  },
  {
   "cell_type": "code",
   "execution_count": 96,
   "id": "consistent-redhead",
   "metadata": {},
   "outputs": [
    {
     "data": {
      "text/html": [
       "<div>\n",
       "<style scoped>\n",
       "    .dataframe tbody tr th:only-of-type {\n",
       "        vertical-align: middle;\n",
       "    }\n",
       "\n",
       "    .dataframe tbody tr th {\n",
       "        vertical-align: top;\n",
       "    }\n",
       "\n",
       "    .dataframe thead th {\n",
       "        text-align: right;\n",
       "    }\n",
       "</style>\n",
       "<table border=\"1\" class=\"dataframe\">\n",
       "  <thead>\n",
       "    <tr style=\"text-align: right;\">\n",
       "      <th></th>\n",
       "      <th>cuisines</th>\n",
       "      <th>Rajasthani</th>\n",
       "      <th>Mediterranean</th>\n",
       "      <th>Desserts</th>\n",
       "      <th>Burmese</th>\n",
       "      <th>Tibetan</th>\n",
       "      <th>Belgian</th>\n",
       "      <th>Seafood</th>\n",
       "      <th>Raw Meats</th>\n",
       "      <th>Greek</th>\n",
       "      <th>...</th>\n",
       "      <th>Sri Lankan</th>\n",
       "      <th>Oriya</th>\n",
       "      <th>Mangalorean</th>\n",
       "      <th>Singaporean</th>\n",
       "      <th>Maharashtrian</th>\n",
       "      <th>Mexican</th>\n",
       "      <th>British</th>\n",
       "      <th>Pizza</th>\n",
       "      <th>Biryani</th>\n",
       "      <th>Chettinad</th>\n",
       "    </tr>\n",
       "  </thead>\n",
       "  <tbody>\n",
       "    <tr>\n",
       "      <th>0</th>\n",
       "      <td>North Indian, Mughlai, Chinese</td>\n",
       "      <td>0</td>\n",
       "      <td>0</td>\n",
       "      <td>0</td>\n",
       "      <td>0</td>\n",
       "      <td>0</td>\n",
       "      <td>0</td>\n",
       "      <td>0</td>\n",
       "      <td>0</td>\n",
       "      <td>0</td>\n",
       "      <td>...</td>\n",
       "      <td>0</td>\n",
       "      <td>0</td>\n",
       "      <td>0</td>\n",
       "      <td>0</td>\n",
       "      <td>0</td>\n",
       "      <td>0</td>\n",
       "      <td>0</td>\n",
       "      <td>0</td>\n",
       "      <td>0</td>\n",
       "      <td>0</td>\n",
       "    </tr>\n",
       "    <tr>\n",
       "      <th>1</th>\n",
       "      <td>Chinese, North Indian, Thai</td>\n",
       "      <td>0</td>\n",
       "      <td>0</td>\n",
       "      <td>0</td>\n",
       "      <td>0</td>\n",
       "      <td>0</td>\n",
       "      <td>0</td>\n",
       "      <td>0</td>\n",
       "      <td>0</td>\n",
       "      <td>0</td>\n",
       "      <td>...</td>\n",
       "      <td>0</td>\n",
       "      <td>0</td>\n",
       "      <td>0</td>\n",
       "      <td>0</td>\n",
       "      <td>0</td>\n",
       "      <td>0</td>\n",
       "      <td>0</td>\n",
       "      <td>0</td>\n",
       "      <td>0</td>\n",
       "      <td>0</td>\n",
       "    </tr>\n",
       "    <tr>\n",
       "      <th>2</th>\n",
       "      <td>Cafe, Mexican, Italian</td>\n",
       "      <td>0</td>\n",
       "      <td>0</td>\n",
       "      <td>0</td>\n",
       "      <td>0</td>\n",
       "      <td>0</td>\n",
       "      <td>0</td>\n",
       "      <td>0</td>\n",
       "      <td>0</td>\n",
       "      <td>0</td>\n",
       "      <td>...</td>\n",
       "      <td>0</td>\n",
       "      <td>0</td>\n",
       "      <td>0</td>\n",
       "      <td>0</td>\n",
       "      <td>0</td>\n",
       "      <td>0</td>\n",
       "      <td>0</td>\n",
       "      <td>0</td>\n",
       "      <td>0</td>\n",
       "      <td>0</td>\n",
       "    </tr>\n",
       "    <tr>\n",
       "      <th>3</th>\n",
       "      <td>South Indian, North Indian</td>\n",
       "      <td>0</td>\n",
       "      <td>0</td>\n",
       "      <td>0</td>\n",
       "      <td>0</td>\n",
       "      <td>0</td>\n",
       "      <td>0</td>\n",
       "      <td>0</td>\n",
       "      <td>0</td>\n",
       "      <td>0</td>\n",
       "      <td>...</td>\n",
       "      <td>0</td>\n",
       "      <td>0</td>\n",
       "      <td>0</td>\n",
       "      <td>0</td>\n",
       "      <td>0</td>\n",
       "      <td>0</td>\n",
       "      <td>0</td>\n",
       "      <td>0</td>\n",
       "      <td>0</td>\n",
       "      <td>0</td>\n",
       "    </tr>\n",
       "    <tr>\n",
       "      <th>4</th>\n",
       "      <td>North Indian, Rajasthani</td>\n",
       "      <td>0</td>\n",
       "      <td>0</td>\n",
       "      <td>0</td>\n",
       "      <td>0</td>\n",
       "      <td>0</td>\n",
       "      <td>0</td>\n",
       "      <td>0</td>\n",
       "      <td>0</td>\n",
       "      <td>0</td>\n",
       "      <td>...</td>\n",
       "      <td>0</td>\n",
       "      <td>0</td>\n",
       "      <td>0</td>\n",
       "      <td>0</td>\n",
       "      <td>0</td>\n",
       "      <td>0</td>\n",
       "      <td>0</td>\n",
       "      <td>0</td>\n",
       "      <td>0</td>\n",
       "      <td>0</td>\n",
       "    </tr>\n",
       "  </tbody>\n",
       "</table>\n",
       "<p>5 rows × 106 columns</p>\n",
       "</div>"
      ],
      "text/plain": [
       "                         cuisines  Rajasthani  Mediterranean  Desserts  \\\n",
       "0  North Indian, Mughlai, Chinese           0              0         0   \n",
       "1     Chinese, North Indian, Thai           0              0         0   \n",
       "2          Cafe, Mexican, Italian           0              0         0   \n",
       "3      South Indian, North Indian           0              0         0   \n",
       "4        North Indian, Rajasthani           0              0         0   \n",
       "\n",
       "   Burmese  Tibetan  Belgian  Seafood  Raw Meats  Greek  ...  Sri Lankan  \\\n",
       "0        0        0        0        0          0      0  ...           0   \n",
       "1        0        0        0        0          0      0  ...           0   \n",
       "2        0        0        0        0          0      0  ...           0   \n",
       "3        0        0        0        0          0      0  ...           0   \n",
       "4        0        0        0        0          0      0  ...           0   \n",
       "\n",
       "   Oriya  Mangalorean  Singaporean  Maharashtrian  Mexican  British  Pizza  \\\n",
       "0      0            0            0              0        0        0      0   \n",
       "1      0            0            0              0        0        0      0   \n",
       "2      0            0            0              0        0        0      0   \n",
       "3      0            0            0              0        0        0      0   \n",
       "4      0            0            0              0        0        0      0   \n",
       "\n",
       "   Biryani  Chettinad  \n",
       "0        0          0  \n",
       "1        0          0  \n",
       "2        0          0  \n",
       "3        0          0  \n",
       "4        0          0  \n",
       "\n",
       "[5 rows x 106 columns]"
      ]
     },
     "execution_count": 96,
     "metadata": {},
     "output_type": "execute_result"
    }
   ],
   "source": [
    "cuisines_df = pd.DataFrame(orders_df['cuisines'])\n",
    "cuisines = list(cuisines_df.cuisines.str.split(\", \"))\n",
    "unique_cuisines = list(set([cs for sub_list in cuisines for cs in sub_list]))\n",
    "unique_cuisines.remove(\"Cafe\") \n",
    "unique_cuisines.remove(\"Bakery\")\n",
    "\n",
    "for cs in unique_cuisines:\n",
    "    cuisines_df[cs] = 0   \n",
    "    \n",
    "cuisines_df.head()"
   ]
  },
  {
   "cell_type": "code",
   "execution_count": 45,
   "id": "intended-history",
   "metadata": {},
   "outputs": [],
   "source": [
    "corrected_cuisines = []\n",
    "for i in cuisines:\n",
    "    if \"Cafe\" in i:\n",
    "        i.remove(\"Cafe\")\n",
    "        \n",
    "    if \"Bakery\" in i:\n",
    "        i.remove(\"Bakery\")\n",
    "        \n",
    "    corrected_cuisines.append(list(set(i)))"
   ]
  },
  {
   "cell_type": "code",
   "execution_count": 46,
   "id": "knowing-stevens",
   "metadata": {},
   "outputs": [],
   "source": [
    "count = 0\n",
    "for i in corrected_cuisines:\n",
    "    cuisines_df.loc[count, i] = int(1)\n",
    "    count+=1"
   ]
  },
  {
   "cell_type": "code",
   "execution_count": 47,
   "id": "substantial-entity",
   "metadata": {},
   "outputs": [
    {
     "data": {
      "text/html": [
       "<div>\n",
       "<style scoped>\n",
       "    .dataframe tbody tr th:only-of-type {\n",
       "        vertical-align: middle;\n",
       "    }\n",
       "\n",
       "    .dataframe tbody tr th {\n",
       "        vertical-align: top;\n",
       "    }\n",
       "\n",
       "    .dataframe thead th {\n",
       "        text-align: right;\n",
       "    }\n",
       "</style>\n",
       "<table border=\"1\" class=\"dataframe\">\n",
       "  <thead>\n",
       "    <tr style=\"text-align: right;\">\n",
       "      <th></th>\n",
       "      <th>cuisines</th>\n",
       "      <th>Rajasthani</th>\n",
       "      <th>Mediterranean</th>\n",
       "      <th>Desserts</th>\n",
       "      <th>Burmese</th>\n",
       "      <th>Tibetan</th>\n",
       "      <th>Belgian</th>\n",
       "      <th>Seafood</th>\n",
       "      <th>Raw Meats</th>\n",
       "      <th>Greek</th>\n",
       "      <th>...</th>\n",
       "      <th>Sri Lankan</th>\n",
       "      <th>Oriya</th>\n",
       "      <th>Mangalorean</th>\n",
       "      <th>Singaporean</th>\n",
       "      <th>Maharashtrian</th>\n",
       "      <th>Mexican</th>\n",
       "      <th>British</th>\n",
       "      <th>Pizza</th>\n",
       "      <th>Biryani</th>\n",
       "      <th>Chettinad</th>\n",
       "    </tr>\n",
       "  </thead>\n",
       "  <tbody>\n",
       "    <tr>\n",
       "      <th>0</th>\n",
       "      <td>North Indian, Mughlai, Chinese</td>\n",
       "      <td>0</td>\n",
       "      <td>0</td>\n",
       "      <td>0</td>\n",
       "      <td>0</td>\n",
       "      <td>0</td>\n",
       "      <td>0</td>\n",
       "      <td>0</td>\n",
       "      <td>0</td>\n",
       "      <td>0</td>\n",
       "      <td>...</td>\n",
       "      <td>0</td>\n",
       "      <td>0</td>\n",
       "      <td>0</td>\n",
       "      <td>0</td>\n",
       "      <td>0</td>\n",
       "      <td>0</td>\n",
       "      <td>0</td>\n",
       "      <td>0</td>\n",
       "      <td>0</td>\n",
       "      <td>0</td>\n",
       "    </tr>\n",
       "    <tr>\n",
       "      <th>1</th>\n",
       "      <td>Chinese, North Indian, Thai</td>\n",
       "      <td>0</td>\n",
       "      <td>0</td>\n",
       "      <td>0</td>\n",
       "      <td>0</td>\n",
       "      <td>0</td>\n",
       "      <td>0</td>\n",
       "      <td>0</td>\n",
       "      <td>0</td>\n",
       "      <td>0</td>\n",
       "      <td>...</td>\n",
       "      <td>0</td>\n",
       "      <td>0</td>\n",
       "      <td>0</td>\n",
       "      <td>0</td>\n",
       "      <td>0</td>\n",
       "      <td>0</td>\n",
       "      <td>0</td>\n",
       "      <td>0</td>\n",
       "      <td>0</td>\n",
       "      <td>0</td>\n",
       "    </tr>\n",
       "    <tr>\n",
       "      <th>2</th>\n",
       "      <td>Cafe, Mexican, Italian</td>\n",
       "      <td>0</td>\n",
       "      <td>0</td>\n",
       "      <td>0</td>\n",
       "      <td>0</td>\n",
       "      <td>0</td>\n",
       "      <td>0</td>\n",
       "      <td>0</td>\n",
       "      <td>0</td>\n",
       "      <td>0</td>\n",
       "      <td>...</td>\n",
       "      <td>0</td>\n",
       "      <td>0</td>\n",
       "      <td>0</td>\n",
       "      <td>0</td>\n",
       "      <td>0</td>\n",
       "      <td>1</td>\n",
       "      <td>0</td>\n",
       "      <td>0</td>\n",
       "      <td>0</td>\n",
       "      <td>0</td>\n",
       "    </tr>\n",
       "    <tr>\n",
       "      <th>3</th>\n",
       "      <td>South Indian, North Indian</td>\n",
       "      <td>0</td>\n",
       "      <td>0</td>\n",
       "      <td>0</td>\n",
       "      <td>0</td>\n",
       "      <td>0</td>\n",
       "      <td>0</td>\n",
       "      <td>0</td>\n",
       "      <td>0</td>\n",
       "      <td>0</td>\n",
       "      <td>...</td>\n",
       "      <td>0</td>\n",
       "      <td>0</td>\n",
       "      <td>0</td>\n",
       "      <td>0</td>\n",
       "      <td>0</td>\n",
       "      <td>0</td>\n",
       "      <td>0</td>\n",
       "      <td>0</td>\n",
       "      <td>0</td>\n",
       "      <td>0</td>\n",
       "    </tr>\n",
       "    <tr>\n",
       "      <th>4</th>\n",
       "      <td>North Indian, Rajasthani</td>\n",
       "      <td>1</td>\n",
       "      <td>0</td>\n",
       "      <td>0</td>\n",
       "      <td>0</td>\n",
       "      <td>0</td>\n",
       "      <td>0</td>\n",
       "      <td>0</td>\n",
       "      <td>0</td>\n",
       "      <td>0</td>\n",
       "      <td>...</td>\n",
       "      <td>0</td>\n",
       "      <td>0</td>\n",
       "      <td>0</td>\n",
       "      <td>0</td>\n",
       "      <td>0</td>\n",
       "      <td>0</td>\n",
       "      <td>0</td>\n",
       "      <td>0</td>\n",
       "      <td>0</td>\n",
       "      <td>0</td>\n",
       "    </tr>\n",
       "  </tbody>\n",
       "</table>\n",
       "<p>5 rows × 106 columns</p>\n",
       "</div>"
      ],
      "text/plain": [
       "                         cuisines  Rajasthani  Mediterranean  Desserts  \\\n",
       "0  North Indian, Mughlai, Chinese           0              0         0   \n",
       "1     Chinese, North Indian, Thai           0              0         0   \n",
       "2          Cafe, Mexican, Italian           0              0         0   \n",
       "3      South Indian, North Indian           0              0         0   \n",
       "4        North Indian, Rajasthani           1              0         0   \n",
       "\n",
       "   Burmese  Tibetan  Belgian  Seafood  Raw Meats  Greek  ...  Sri Lankan  \\\n",
       "0        0        0        0        0          0      0  ...           0   \n",
       "1        0        0        0        0          0      0  ...           0   \n",
       "2        0        0        0        0          0      0  ...           0   \n",
       "3        0        0        0        0          0      0  ...           0   \n",
       "4        0        0        0        0          0      0  ...           0   \n",
       "\n",
       "   Oriya  Mangalorean  Singaporean  Maharashtrian  Mexican  British  Pizza  \\\n",
       "0      0            0            0              0        0        0      0   \n",
       "1      0            0            0              0        0        0      0   \n",
       "2      0            0            0              0        1        0      0   \n",
       "3      0            0            0              0        0        0      0   \n",
       "4      0            0            0              0        0        0      0   \n",
       "\n",
       "   Biryani  Chettinad  \n",
       "0        0          0  \n",
       "1        0          0  \n",
       "2        0          0  \n",
       "3        0          0  \n",
       "4        0          0  \n",
       "\n",
       "[5 rows x 106 columns]"
      ]
     },
     "execution_count": 47,
     "metadata": {},
     "output_type": "execute_result"
    }
   ],
   "source": [
    "cuisines_df.head()"
   ]
  },
  {
   "cell_type": "code",
   "execution_count": 48,
   "id": "peaceful-screw",
   "metadata": {},
   "outputs": [
    {
     "data": {
      "text/html": [
       "<div>\n",
       "<style scoped>\n",
       "    .dataframe tbody tr th:only-of-type {\n",
       "        vertical-align: middle;\n",
       "    }\n",
       "\n",
       "    .dataframe tbody tr th {\n",
       "        vertical-align: top;\n",
       "    }\n",
       "\n",
       "    .dataframe thead th {\n",
       "        text-align: right;\n",
       "    }\n",
       "</style>\n",
       "<table border=\"1\" class=\"dataframe\">\n",
       "  <thead>\n",
       "    <tr style=\"text-align: right;\">\n",
       "      <th></th>\n",
       "      <th>Rajasthani</th>\n",
       "      <th>Mediterranean</th>\n",
       "      <th>Desserts</th>\n",
       "      <th>Burmese</th>\n",
       "      <th>Tibetan</th>\n",
       "      <th>Belgian</th>\n",
       "      <th>Seafood</th>\n",
       "      <th>Raw Meats</th>\n",
       "      <th>Greek</th>\n",
       "      <th>African</th>\n",
       "      <th>...</th>\n",
       "      <th>Sri Lankan</th>\n",
       "      <th>Oriya</th>\n",
       "      <th>Mangalorean</th>\n",
       "      <th>Singaporean</th>\n",
       "      <th>Maharashtrian</th>\n",
       "      <th>Mexican</th>\n",
       "      <th>British</th>\n",
       "      <th>Pizza</th>\n",
       "      <th>Biryani</th>\n",
       "      <th>Chettinad</th>\n",
       "    </tr>\n",
       "  </thead>\n",
       "  <tbody>\n",
       "    <tr>\n",
       "      <th>0</th>\n",
       "      <td>0</td>\n",
       "      <td>0</td>\n",
       "      <td>0</td>\n",
       "      <td>0</td>\n",
       "      <td>0</td>\n",
       "      <td>0</td>\n",
       "      <td>0</td>\n",
       "      <td>0</td>\n",
       "      <td>0</td>\n",
       "      <td>0</td>\n",
       "      <td>...</td>\n",
       "      <td>0</td>\n",
       "      <td>0</td>\n",
       "      <td>0</td>\n",
       "      <td>0</td>\n",
       "      <td>0</td>\n",
       "      <td>0</td>\n",
       "      <td>0</td>\n",
       "      <td>0</td>\n",
       "      <td>0</td>\n",
       "      <td>0</td>\n",
       "    </tr>\n",
       "    <tr>\n",
       "      <th>1</th>\n",
       "      <td>0</td>\n",
       "      <td>0</td>\n",
       "      <td>0</td>\n",
       "      <td>0</td>\n",
       "      <td>0</td>\n",
       "      <td>0</td>\n",
       "      <td>0</td>\n",
       "      <td>0</td>\n",
       "      <td>0</td>\n",
       "      <td>0</td>\n",
       "      <td>...</td>\n",
       "      <td>0</td>\n",
       "      <td>0</td>\n",
       "      <td>0</td>\n",
       "      <td>0</td>\n",
       "      <td>0</td>\n",
       "      <td>0</td>\n",
       "      <td>0</td>\n",
       "      <td>0</td>\n",
       "      <td>0</td>\n",
       "      <td>0</td>\n",
       "    </tr>\n",
       "    <tr>\n",
       "      <th>2</th>\n",
       "      <td>0</td>\n",
       "      <td>0</td>\n",
       "      <td>0</td>\n",
       "      <td>0</td>\n",
       "      <td>0</td>\n",
       "      <td>0</td>\n",
       "      <td>0</td>\n",
       "      <td>0</td>\n",
       "      <td>0</td>\n",
       "      <td>0</td>\n",
       "      <td>...</td>\n",
       "      <td>0</td>\n",
       "      <td>0</td>\n",
       "      <td>0</td>\n",
       "      <td>0</td>\n",
       "      <td>0</td>\n",
       "      <td>1</td>\n",
       "      <td>0</td>\n",
       "      <td>0</td>\n",
       "      <td>0</td>\n",
       "      <td>0</td>\n",
       "    </tr>\n",
       "    <tr>\n",
       "      <th>3</th>\n",
       "      <td>0</td>\n",
       "      <td>0</td>\n",
       "      <td>0</td>\n",
       "      <td>0</td>\n",
       "      <td>0</td>\n",
       "      <td>0</td>\n",
       "      <td>0</td>\n",
       "      <td>0</td>\n",
       "      <td>0</td>\n",
       "      <td>0</td>\n",
       "      <td>...</td>\n",
       "      <td>0</td>\n",
       "      <td>0</td>\n",
       "      <td>0</td>\n",
       "      <td>0</td>\n",
       "      <td>0</td>\n",
       "      <td>0</td>\n",
       "      <td>0</td>\n",
       "      <td>0</td>\n",
       "      <td>0</td>\n",
       "      <td>0</td>\n",
       "    </tr>\n",
       "    <tr>\n",
       "      <th>4</th>\n",
       "      <td>1</td>\n",
       "      <td>0</td>\n",
       "      <td>0</td>\n",
       "      <td>0</td>\n",
       "      <td>0</td>\n",
       "      <td>0</td>\n",
       "      <td>0</td>\n",
       "      <td>0</td>\n",
       "      <td>0</td>\n",
       "      <td>0</td>\n",
       "      <td>...</td>\n",
       "      <td>0</td>\n",
       "      <td>0</td>\n",
       "      <td>0</td>\n",
       "      <td>0</td>\n",
       "      <td>0</td>\n",
       "      <td>0</td>\n",
       "      <td>0</td>\n",
       "      <td>0</td>\n",
       "      <td>0</td>\n",
       "      <td>0</td>\n",
       "    </tr>\n",
       "  </tbody>\n",
       "</table>\n",
       "<p>5 rows × 105 columns</p>\n",
       "</div>"
      ],
      "text/plain": [
       "   Rajasthani  Mediterranean  Desserts  Burmese  Tibetan  Belgian  Seafood  \\\n",
       "0           0              0         0        0        0        0        0   \n",
       "1           0              0         0        0        0        0        0   \n",
       "2           0              0         0        0        0        0        0   \n",
       "3           0              0         0        0        0        0        0   \n",
       "4           1              0         0        0        0        0        0   \n",
       "\n",
       "   Raw Meats  Greek  African  ...  Sri Lankan  Oriya  Mangalorean  \\\n",
       "0          0      0        0  ...           0      0            0   \n",
       "1          0      0        0  ...           0      0            0   \n",
       "2          0      0        0  ...           0      0            0   \n",
       "3          0      0        0  ...           0      0            0   \n",
       "4          0      0        0  ...           0      0            0   \n",
       "\n",
       "   Singaporean  Maharashtrian  Mexican  British  Pizza  Biryani  Chettinad  \n",
       "0            0              0        0        0      0        0          0  \n",
       "1            0              0        0        0      0        0          0  \n",
       "2            0              0        1        0      0        0          0  \n",
       "3            0              0        0        0      0        0          0  \n",
       "4            0              0        0        0      0        0          0  \n",
       "\n",
       "[5 rows x 105 columns]"
      ]
     },
     "execution_count": 48,
     "metadata": {},
     "output_type": "execute_result"
    }
   ],
   "source": [
    "cuisines_df.drop(['cuisines'], axis = 1, inplace=True)\n",
    "cuisines_df.head()"
   ]
  },
  {
   "cell_type": "markdown",
   "id": "focal-guatemala",
   "metadata": {},
   "source": [
    "<br>"
   ]
  },
  {
   "cell_type": "markdown",
   "id": "prompt-joyce",
   "metadata": {},
   "source": [
    "### Location Column"
   ]
  },
  {
   "cell_type": "code",
   "execution_count": 49,
   "id": "advised-hundred",
   "metadata": {},
   "outputs": [
    {
     "data": {
      "text/html": [
       "<div>\n",
       "<style scoped>\n",
       "    .dataframe tbody tr th:only-of-type {\n",
       "        vertical-align: middle;\n",
       "    }\n",
       "\n",
       "    .dataframe tbody tr th {\n",
       "        vertical-align: top;\n",
       "    }\n",
       "\n",
       "    .dataframe thead th {\n",
       "        text-align: right;\n",
       "    }\n",
       "</style>\n",
       "<table border=\"1\" class=\"dataframe\">\n",
       "  <thead>\n",
       "    <tr style=\"text-align: right;\">\n",
       "      <th></th>\n",
       "      <th>BTM</th>\n",
       "      <th>Banashankari</th>\n",
       "      <th>Banaswadi</th>\n",
       "      <th>Bannerghatta Road</th>\n",
       "      <th>Basavanagudi</th>\n",
       "      <th>Basaveshwara Nagar</th>\n",
       "      <th>Bellandur</th>\n",
       "      <th>Bommanahalli</th>\n",
       "      <th>Brigade Road</th>\n",
       "      <th>Brookefield</th>\n",
       "      <th>...</th>\n",
       "      <th>Ulsoor</th>\n",
       "      <th>Uttarahalli</th>\n",
       "      <th>Varthur Main Road, Whitefield</th>\n",
       "      <th>Vasanth Nagar</th>\n",
       "      <th>Vijay Nagar</th>\n",
       "      <th>West Bangalore</th>\n",
       "      <th>Whitefield</th>\n",
       "      <th>Wilson Garden</th>\n",
       "      <th>Yelahanka</th>\n",
       "      <th>Yeshwantpur</th>\n",
       "    </tr>\n",
       "  </thead>\n",
       "  <tbody>\n",
       "    <tr>\n",
       "      <th>0</th>\n",
       "      <td>0</td>\n",
       "      <td>1</td>\n",
       "      <td>0</td>\n",
       "      <td>0</td>\n",
       "      <td>0</td>\n",
       "      <td>0</td>\n",
       "      <td>0</td>\n",
       "      <td>0</td>\n",
       "      <td>0</td>\n",
       "      <td>0</td>\n",
       "      <td>...</td>\n",
       "      <td>0</td>\n",
       "      <td>0</td>\n",
       "      <td>0</td>\n",
       "      <td>0</td>\n",
       "      <td>0</td>\n",
       "      <td>0</td>\n",
       "      <td>0</td>\n",
       "      <td>0</td>\n",
       "      <td>0</td>\n",
       "      <td>0</td>\n",
       "    </tr>\n",
       "    <tr>\n",
       "      <th>1</th>\n",
       "      <td>0</td>\n",
       "      <td>1</td>\n",
       "      <td>0</td>\n",
       "      <td>0</td>\n",
       "      <td>0</td>\n",
       "      <td>0</td>\n",
       "      <td>0</td>\n",
       "      <td>0</td>\n",
       "      <td>0</td>\n",
       "      <td>0</td>\n",
       "      <td>...</td>\n",
       "      <td>0</td>\n",
       "      <td>0</td>\n",
       "      <td>0</td>\n",
       "      <td>0</td>\n",
       "      <td>0</td>\n",
       "      <td>0</td>\n",
       "      <td>0</td>\n",
       "      <td>0</td>\n",
       "      <td>0</td>\n",
       "      <td>0</td>\n",
       "    </tr>\n",
       "    <tr>\n",
       "      <th>2</th>\n",
       "      <td>0</td>\n",
       "      <td>1</td>\n",
       "      <td>0</td>\n",
       "      <td>0</td>\n",
       "      <td>0</td>\n",
       "      <td>0</td>\n",
       "      <td>0</td>\n",
       "      <td>0</td>\n",
       "      <td>0</td>\n",
       "      <td>0</td>\n",
       "      <td>...</td>\n",
       "      <td>0</td>\n",
       "      <td>0</td>\n",
       "      <td>0</td>\n",
       "      <td>0</td>\n",
       "      <td>0</td>\n",
       "      <td>0</td>\n",
       "      <td>0</td>\n",
       "      <td>0</td>\n",
       "      <td>0</td>\n",
       "      <td>0</td>\n",
       "    </tr>\n",
       "    <tr>\n",
       "      <th>3</th>\n",
       "      <td>0</td>\n",
       "      <td>1</td>\n",
       "      <td>0</td>\n",
       "      <td>0</td>\n",
       "      <td>0</td>\n",
       "      <td>0</td>\n",
       "      <td>0</td>\n",
       "      <td>0</td>\n",
       "      <td>0</td>\n",
       "      <td>0</td>\n",
       "      <td>...</td>\n",
       "      <td>0</td>\n",
       "      <td>0</td>\n",
       "      <td>0</td>\n",
       "      <td>0</td>\n",
       "      <td>0</td>\n",
       "      <td>0</td>\n",
       "      <td>0</td>\n",
       "      <td>0</td>\n",
       "      <td>0</td>\n",
       "      <td>0</td>\n",
       "    </tr>\n",
       "    <tr>\n",
       "      <th>4</th>\n",
       "      <td>0</td>\n",
       "      <td>0</td>\n",
       "      <td>0</td>\n",
       "      <td>0</td>\n",
       "      <td>1</td>\n",
       "      <td>0</td>\n",
       "      <td>0</td>\n",
       "      <td>0</td>\n",
       "      <td>0</td>\n",
       "      <td>0</td>\n",
       "      <td>...</td>\n",
       "      <td>0</td>\n",
       "      <td>0</td>\n",
       "      <td>0</td>\n",
       "      <td>0</td>\n",
       "      <td>0</td>\n",
       "      <td>0</td>\n",
       "      <td>0</td>\n",
       "      <td>0</td>\n",
       "      <td>0</td>\n",
       "      <td>0</td>\n",
       "    </tr>\n",
       "  </tbody>\n",
       "</table>\n",
       "<p>5 rows × 93 columns</p>\n",
       "</div>"
      ],
      "text/plain": [
       "   BTM  Banashankari  Banaswadi  Bannerghatta Road  Basavanagudi  \\\n",
       "0    0             1          0                  0             0   \n",
       "1    0             1          0                  0             0   \n",
       "2    0             1          0                  0             0   \n",
       "3    0             1          0                  0             0   \n",
       "4    0             0          0                  0             1   \n",
       "\n",
       "   Basaveshwara Nagar  Bellandur  Bommanahalli  Brigade Road  Brookefield  \\\n",
       "0                   0          0             0             0            0   \n",
       "1                   0          0             0             0            0   \n",
       "2                   0          0             0             0            0   \n",
       "3                   0          0             0             0            0   \n",
       "4                   0          0             0             0            0   \n",
       "\n",
       "   ...  Ulsoor  Uttarahalli  Varthur Main Road, Whitefield  Vasanth Nagar  \\\n",
       "0  ...       0            0                              0              0   \n",
       "1  ...       0            0                              0              0   \n",
       "2  ...       0            0                              0              0   \n",
       "3  ...       0            0                              0              0   \n",
       "4  ...       0            0                              0              0   \n",
       "\n",
       "   Vijay Nagar  West Bangalore  Whitefield  Wilson Garden  Yelahanka  \\\n",
       "0            0               0           0              0          0   \n",
       "1            0               0           0              0          0   \n",
       "2            0               0           0              0          0   \n",
       "3            0               0           0              0          0   \n",
       "4            0               0           0              0          0   \n",
       "\n",
       "   Yeshwantpur  \n",
       "0            0  \n",
       "1            0  \n",
       "2            0  \n",
       "3            0  \n",
       "4            0  \n",
       "\n",
       "[5 rows x 93 columns]"
      ]
     },
     "execution_count": 49,
     "metadata": {},
     "output_type": "execute_result"
    }
   ],
   "source": [
    "location_df = orders_df['location']\n",
    "location_df = pd.get_dummies(location_df)\n",
    "location_df.head()"
   ]
  },
  {
   "cell_type": "markdown",
   "id": "diverse-numbers",
   "metadata": {},
   "source": [
    "<br>"
   ]
  },
  {
   "cell_type": "markdown",
   "id": "hidden-rugby",
   "metadata": {},
   "source": [
    "### Area Column"
   ]
  },
  {
   "cell_type": "code",
   "execution_count": 50,
   "id": "south-inspiration",
   "metadata": {},
   "outputs": [
    {
     "data": {
      "text/html": [
       "<div>\n",
       "<style scoped>\n",
       "    .dataframe tbody tr th:only-of-type {\n",
       "        vertical-align: middle;\n",
       "    }\n",
       "\n",
       "    .dataframe tbody tr th {\n",
       "        vertical-align: top;\n",
       "    }\n",
       "\n",
       "    .dataframe thead th {\n",
       "        text-align: right;\n",
       "    }\n",
       "</style>\n",
       "<table border=\"1\" class=\"dataframe\">\n",
       "  <thead>\n",
       "    <tr style=\"text-align: right;\">\n",
       "      <th></th>\n",
       "      <th>BTM</th>\n",
       "      <th>Banashankari</th>\n",
       "      <th>Bannerghatta Road</th>\n",
       "      <th>Basavanagudi</th>\n",
       "      <th>Bellandur</th>\n",
       "      <th>Brigade Road</th>\n",
       "      <th>Brookefield</th>\n",
       "      <th>Church Street</th>\n",
       "      <th>Electronic City</th>\n",
       "      <th>Frazer Town</th>\n",
       "      <th>...</th>\n",
       "      <th>Lavelle Road</th>\n",
       "      <th>MG Road</th>\n",
       "      <th>Malleshwaram</th>\n",
       "      <th>Marathahalli</th>\n",
       "      <th>New BEL Road</th>\n",
       "      <th>Old Airport Road</th>\n",
       "      <th>Rajajinagar</th>\n",
       "      <th>Residency Road</th>\n",
       "      <th>Sarjapur Road</th>\n",
       "      <th>Whitefield</th>\n",
       "    </tr>\n",
       "  </thead>\n",
       "  <tbody>\n",
       "    <tr>\n",
       "      <th>0</th>\n",
       "      <td>0</td>\n",
       "      <td>1</td>\n",
       "      <td>0</td>\n",
       "      <td>0</td>\n",
       "      <td>0</td>\n",
       "      <td>0</td>\n",
       "      <td>0</td>\n",
       "      <td>0</td>\n",
       "      <td>0</td>\n",
       "      <td>0</td>\n",
       "      <td>...</td>\n",
       "      <td>0</td>\n",
       "      <td>0</td>\n",
       "      <td>0</td>\n",
       "      <td>0</td>\n",
       "      <td>0</td>\n",
       "      <td>0</td>\n",
       "      <td>0</td>\n",
       "      <td>0</td>\n",
       "      <td>0</td>\n",
       "      <td>0</td>\n",
       "    </tr>\n",
       "    <tr>\n",
       "      <th>1</th>\n",
       "      <td>0</td>\n",
       "      <td>1</td>\n",
       "      <td>0</td>\n",
       "      <td>0</td>\n",
       "      <td>0</td>\n",
       "      <td>0</td>\n",
       "      <td>0</td>\n",
       "      <td>0</td>\n",
       "      <td>0</td>\n",
       "      <td>0</td>\n",
       "      <td>...</td>\n",
       "      <td>0</td>\n",
       "      <td>0</td>\n",
       "      <td>0</td>\n",
       "      <td>0</td>\n",
       "      <td>0</td>\n",
       "      <td>0</td>\n",
       "      <td>0</td>\n",
       "      <td>0</td>\n",
       "      <td>0</td>\n",
       "      <td>0</td>\n",
       "    </tr>\n",
       "    <tr>\n",
       "      <th>2</th>\n",
       "      <td>0</td>\n",
       "      <td>1</td>\n",
       "      <td>0</td>\n",
       "      <td>0</td>\n",
       "      <td>0</td>\n",
       "      <td>0</td>\n",
       "      <td>0</td>\n",
       "      <td>0</td>\n",
       "      <td>0</td>\n",
       "      <td>0</td>\n",
       "      <td>...</td>\n",
       "      <td>0</td>\n",
       "      <td>0</td>\n",
       "      <td>0</td>\n",
       "      <td>0</td>\n",
       "      <td>0</td>\n",
       "      <td>0</td>\n",
       "      <td>0</td>\n",
       "      <td>0</td>\n",
       "      <td>0</td>\n",
       "      <td>0</td>\n",
       "    </tr>\n",
       "    <tr>\n",
       "      <th>3</th>\n",
       "      <td>0</td>\n",
       "      <td>1</td>\n",
       "      <td>0</td>\n",
       "      <td>0</td>\n",
       "      <td>0</td>\n",
       "      <td>0</td>\n",
       "      <td>0</td>\n",
       "      <td>0</td>\n",
       "      <td>0</td>\n",
       "      <td>0</td>\n",
       "      <td>...</td>\n",
       "      <td>0</td>\n",
       "      <td>0</td>\n",
       "      <td>0</td>\n",
       "      <td>0</td>\n",
       "      <td>0</td>\n",
       "      <td>0</td>\n",
       "      <td>0</td>\n",
       "      <td>0</td>\n",
       "      <td>0</td>\n",
       "      <td>0</td>\n",
       "    </tr>\n",
       "    <tr>\n",
       "      <th>4</th>\n",
       "      <td>0</td>\n",
       "      <td>1</td>\n",
       "      <td>0</td>\n",
       "      <td>0</td>\n",
       "      <td>0</td>\n",
       "      <td>0</td>\n",
       "      <td>0</td>\n",
       "      <td>0</td>\n",
       "      <td>0</td>\n",
       "      <td>0</td>\n",
       "      <td>...</td>\n",
       "      <td>0</td>\n",
       "      <td>0</td>\n",
       "      <td>0</td>\n",
       "      <td>0</td>\n",
       "      <td>0</td>\n",
       "      <td>0</td>\n",
       "      <td>0</td>\n",
       "      <td>0</td>\n",
       "      <td>0</td>\n",
       "      <td>0</td>\n",
       "    </tr>\n",
       "  </tbody>\n",
       "</table>\n",
       "<p>5 rows × 30 columns</p>\n",
       "</div>"
      ],
      "text/plain": [
       "   BTM  Banashankari  Bannerghatta Road  Basavanagudi  Bellandur  \\\n",
       "0    0             1                  0             0          0   \n",
       "1    0             1                  0             0          0   \n",
       "2    0             1                  0             0          0   \n",
       "3    0             1                  0             0          0   \n",
       "4    0             1                  0             0          0   \n",
       "\n",
       "   Brigade Road  Brookefield  Church Street  Electronic City  Frazer Town  \\\n",
       "0             0            0              0                0            0   \n",
       "1             0            0              0                0            0   \n",
       "2             0            0              0                0            0   \n",
       "3             0            0              0                0            0   \n",
       "4             0            0              0                0            0   \n",
       "\n",
       "   ...  Lavelle Road  MG Road  Malleshwaram  Marathahalli  New BEL Road  \\\n",
       "0  ...             0        0             0             0             0   \n",
       "1  ...             0        0             0             0             0   \n",
       "2  ...             0        0             0             0             0   \n",
       "3  ...             0        0             0             0             0   \n",
       "4  ...             0        0             0             0             0   \n",
       "\n",
       "   Old Airport Road  Rajajinagar  Residency Road  Sarjapur Road  Whitefield  \n",
       "0                 0            0               0              0           0  \n",
       "1                 0            0               0              0           0  \n",
       "2                 0            0               0              0           0  \n",
       "3                 0            0               0              0           0  \n",
       "4                 0            0               0              0           0  \n",
       "\n",
       "[5 rows x 30 columns]"
      ]
     },
     "execution_count": 50,
     "metadata": {},
     "output_type": "execute_result"
    }
   ],
   "source": [
    "area_df = orders_df['area']\n",
    "area_df = pd.get_dummies(area_df)\n",
    "area_df.head()"
   ]
  },
  {
   "cell_type": "code",
   "execution_count": 51,
   "id": "freelance-warrant",
   "metadata": {},
   "outputs": [
    {
     "data": {
      "text/html": [
       "<div>\n",
       "<style scoped>\n",
       "    .dataframe tbody tr th:only-of-type {\n",
       "        vertical-align: middle;\n",
       "    }\n",
       "\n",
       "    .dataframe tbody tr th {\n",
       "        vertical-align: top;\n",
       "    }\n",
       "\n",
       "    .dataframe thead th {\n",
       "        text-align: right;\n",
       "    }\n",
       "</style>\n",
       "<table border=\"1\" class=\"dataframe\">\n",
       "  <thead>\n",
       "    <tr style=\"text-align: right;\">\n",
       "      <th></th>\n",
       "      <th>name</th>\n",
       "      <th>online_order</th>\n",
       "      <th>book_table</th>\n",
       "      <th>rate</th>\n",
       "      <th>votes</th>\n",
       "      <th>location</th>\n",
       "      <th>rest_type</th>\n",
       "      <th>cuisines</th>\n",
       "      <th>approx_cost</th>\n",
       "      <th>area</th>\n",
       "      <th>...</th>\n",
       "      <th>Ulsoor</th>\n",
       "      <th>Uttarahalli</th>\n",
       "      <th>Varthur Main Road, Whitefield</th>\n",
       "      <th>Vasanth Nagar</th>\n",
       "      <th>Vijay Nagar</th>\n",
       "      <th>West Bangalore</th>\n",
       "      <th>Whitefield</th>\n",
       "      <th>Wilson Garden</th>\n",
       "      <th>Yelahanka</th>\n",
       "      <th>Yeshwantpur</th>\n",
       "    </tr>\n",
       "  </thead>\n",
       "  <tbody>\n",
       "    <tr>\n",
       "      <th>0</th>\n",
       "      <td>Jalsa</td>\n",
       "      <td>1</td>\n",
       "      <td>1</td>\n",
       "      <td>4.1</td>\n",
       "      <td>775</td>\n",
       "      <td>Banashankari</td>\n",
       "      <td>Casual Dining</td>\n",
       "      <td>North Indian, Mughlai, Chinese</td>\n",
       "      <td>800.0</td>\n",
       "      <td>Banashankari</td>\n",
       "      <td>...</td>\n",
       "      <td>0</td>\n",
       "      <td>0</td>\n",
       "      <td>0</td>\n",
       "      <td>0</td>\n",
       "      <td>0</td>\n",
       "      <td>0</td>\n",
       "      <td>0</td>\n",
       "      <td>0</td>\n",
       "      <td>0</td>\n",
       "      <td>0</td>\n",
       "    </tr>\n",
       "    <tr>\n",
       "      <th>1</th>\n",
       "      <td>Spice Elephant</td>\n",
       "      <td>1</td>\n",
       "      <td>0</td>\n",
       "      <td>4.1</td>\n",
       "      <td>787</td>\n",
       "      <td>Banashankari</td>\n",
       "      <td>Casual Dining</td>\n",
       "      <td>Chinese, North Indian, Thai</td>\n",
       "      <td>800.0</td>\n",
       "      <td>Banashankari</td>\n",
       "      <td>...</td>\n",
       "      <td>0</td>\n",
       "      <td>0</td>\n",
       "      <td>0</td>\n",
       "      <td>0</td>\n",
       "      <td>0</td>\n",
       "      <td>0</td>\n",
       "      <td>0</td>\n",
       "      <td>0</td>\n",
       "      <td>0</td>\n",
       "      <td>0</td>\n",
       "    </tr>\n",
       "    <tr>\n",
       "      <th>2</th>\n",
       "      <td>San Churro Cafe</td>\n",
       "      <td>1</td>\n",
       "      <td>0</td>\n",
       "      <td>3.8</td>\n",
       "      <td>918</td>\n",
       "      <td>Banashankari</td>\n",
       "      <td>Cafe, Casual Dining</td>\n",
       "      <td>Cafe, Mexican, Italian</td>\n",
       "      <td>800.0</td>\n",
       "      <td>Banashankari</td>\n",
       "      <td>...</td>\n",
       "      <td>0</td>\n",
       "      <td>0</td>\n",
       "      <td>0</td>\n",
       "      <td>0</td>\n",
       "      <td>0</td>\n",
       "      <td>0</td>\n",
       "      <td>0</td>\n",
       "      <td>0</td>\n",
       "      <td>0</td>\n",
       "      <td>0</td>\n",
       "    </tr>\n",
       "    <tr>\n",
       "      <th>3</th>\n",
       "      <td>Addhuri Udupi Bhojana</td>\n",
       "      <td>0</td>\n",
       "      <td>0</td>\n",
       "      <td>3.7</td>\n",
       "      <td>88</td>\n",
       "      <td>Banashankari</td>\n",
       "      <td>Quick Bites</td>\n",
       "      <td>South Indian, North Indian</td>\n",
       "      <td>300.0</td>\n",
       "      <td>Banashankari</td>\n",
       "      <td>...</td>\n",
       "      <td>0</td>\n",
       "      <td>0</td>\n",
       "      <td>0</td>\n",
       "      <td>0</td>\n",
       "      <td>0</td>\n",
       "      <td>0</td>\n",
       "      <td>0</td>\n",
       "      <td>0</td>\n",
       "      <td>0</td>\n",
       "      <td>0</td>\n",
       "    </tr>\n",
       "    <tr>\n",
       "      <th>4</th>\n",
       "      <td>Grand Village</td>\n",
       "      <td>0</td>\n",
       "      <td>0</td>\n",
       "      <td>3.8</td>\n",
       "      <td>166</td>\n",
       "      <td>Basavanagudi</td>\n",
       "      <td>Casual Dining</td>\n",
       "      <td>North Indian, Rajasthani</td>\n",
       "      <td>600.0</td>\n",
       "      <td>Banashankari</td>\n",
       "      <td>...</td>\n",
       "      <td>0</td>\n",
       "      <td>0</td>\n",
       "      <td>0</td>\n",
       "      <td>0</td>\n",
       "      <td>0</td>\n",
       "      <td>0</td>\n",
       "      <td>0</td>\n",
       "      <td>0</td>\n",
       "      <td>0</td>\n",
       "      <td>0</td>\n",
       "    </tr>\n",
       "  </tbody>\n",
       "</table>\n",
       "<p>5 rows × 233 columns</p>\n",
       "</div>"
      ],
      "text/plain": [
       "                    name  online_order  book_table  rate  votes      location  \\\n",
       "0                  Jalsa             1           1   4.1    775  Banashankari   \n",
       "1         Spice Elephant             1           0   4.1    787  Banashankari   \n",
       "2        San Churro Cafe             1           0   3.8    918  Banashankari   \n",
       "3  Addhuri Udupi Bhojana             0           0   3.7     88  Banashankari   \n",
       "4          Grand Village             0           0   3.8    166  Basavanagudi   \n",
       "\n",
       "             rest_type                        cuisines  approx_cost  \\\n",
       "0        Casual Dining  North Indian, Mughlai, Chinese        800.0   \n",
       "1        Casual Dining     Chinese, North Indian, Thai        800.0   \n",
       "2  Cafe, Casual Dining          Cafe, Mexican, Italian        800.0   \n",
       "3          Quick Bites      South Indian, North Indian        300.0   \n",
       "4        Casual Dining        North Indian, Rajasthani        600.0   \n",
       "\n",
       "           area  ...  Ulsoor  Uttarahalli  Varthur Main Road, Whitefield  \\\n",
       "0  Banashankari  ...       0            0                              0   \n",
       "1  Banashankari  ...       0            0                              0   \n",
       "2  Banashankari  ...       0            0                              0   \n",
       "3  Banashankari  ...       0            0                              0   \n",
       "4  Banashankari  ...       0            0                              0   \n",
       "\n",
       "   Vasanth Nagar  Vijay Nagar  West Bangalore  Whitefield  Wilson Garden  \\\n",
       "0              0            0               0           0              0   \n",
       "1              0            0               0           0              0   \n",
       "2              0            0               0           0              0   \n",
       "3              0            0               0           0              0   \n",
       "4              0            0               0           0              0   \n",
       "\n",
       "   Yelahanka  Yeshwantpur  \n",
       "0          0            0  \n",
       "1          0            0  \n",
       "2          0            0  \n",
       "3          0            0  \n",
       "4          0            0  \n",
       "\n",
       "[5 rows x 233 columns]"
      ]
     },
     "execution_count": 51,
     "metadata": {},
     "output_type": "execute_result"
    }
   ],
   "source": [
    "data_with_location = pd.concat([orders_df, rest_df, cuisines_df, location_df], axis = 1)\n",
    "data_with_location.head()"
   ]
  },
  {
   "cell_type": "code",
   "execution_count": 52,
   "id": "arabic-spring",
   "metadata": {},
   "outputs": [
    {
     "data": {
      "text/html": [
       "<div>\n",
       "<style scoped>\n",
       "    .dataframe tbody tr th:only-of-type {\n",
       "        vertical-align: middle;\n",
       "    }\n",
       "\n",
       "    .dataframe tbody tr th {\n",
       "        vertical-align: top;\n",
       "    }\n",
       "\n",
       "    .dataframe thead th {\n",
       "        text-align: right;\n",
       "    }\n",
       "</style>\n",
       "<table border=\"1\" class=\"dataframe\">\n",
       "  <thead>\n",
       "    <tr style=\"text-align: right;\">\n",
       "      <th></th>\n",
       "      <th>name</th>\n",
       "      <th>online_order</th>\n",
       "      <th>book_table</th>\n",
       "      <th>rate</th>\n",
       "      <th>votes</th>\n",
       "      <th>location</th>\n",
       "      <th>rest_type</th>\n",
       "      <th>cuisines</th>\n",
       "      <th>approx_cost</th>\n",
       "      <th>area</th>\n",
       "      <th>...</th>\n",
       "      <th>Lavelle Road</th>\n",
       "      <th>MG Road</th>\n",
       "      <th>Malleshwaram</th>\n",
       "      <th>Marathahalli</th>\n",
       "      <th>New BEL Road</th>\n",
       "      <th>Old Airport Road</th>\n",
       "      <th>Rajajinagar</th>\n",
       "      <th>Residency Road</th>\n",
       "      <th>Sarjapur Road</th>\n",
       "      <th>Whitefield</th>\n",
       "    </tr>\n",
       "  </thead>\n",
       "  <tbody>\n",
       "    <tr>\n",
       "      <th>0</th>\n",
       "      <td>Jalsa</td>\n",
       "      <td>1</td>\n",
       "      <td>1</td>\n",
       "      <td>4.1</td>\n",
       "      <td>775</td>\n",
       "      <td>Banashankari</td>\n",
       "      <td>Casual Dining</td>\n",
       "      <td>North Indian, Mughlai, Chinese</td>\n",
       "      <td>800.0</td>\n",
       "      <td>Banashankari</td>\n",
       "      <td>...</td>\n",
       "      <td>0</td>\n",
       "      <td>0</td>\n",
       "      <td>0</td>\n",
       "      <td>0</td>\n",
       "      <td>0</td>\n",
       "      <td>0</td>\n",
       "      <td>0</td>\n",
       "      <td>0</td>\n",
       "      <td>0</td>\n",
       "      <td>0</td>\n",
       "    </tr>\n",
       "    <tr>\n",
       "      <th>1</th>\n",
       "      <td>Spice Elephant</td>\n",
       "      <td>1</td>\n",
       "      <td>0</td>\n",
       "      <td>4.1</td>\n",
       "      <td>787</td>\n",
       "      <td>Banashankari</td>\n",
       "      <td>Casual Dining</td>\n",
       "      <td>Chinese, North Indian, Thai</td>\n",
       "      <td>800.0</td>\n",
       "      <td>Banashankari</td>\n",
       "      <td>...</td>\n",
       "      <td>0</td>\n",
       "      <td>0</td>\n",
       "      <td>0</td>\n",
       "      <td>0</td>\n",
       "      <td>0</td>\n",
       "      <td>0</td>\n",
       "      <td>0</td>\n",
       "      <td>0</td>\n",
       "      <td>0</td>\n",
       "      <td>0</td>\n",
       "    </tr>\n",
       "    <tr>\n",
       "      <th>2</th>\n",
       "      <td>San Churro Cafe</td>\n",
       "      <td>1</td>\n",
       "      <td>0</td>\n",
       "      <td>3.8</td>\n",
       "      <td>918</td>\n",
       "      <td>Banashankari</td>\n",
       "      <td>Cafe, Casual Dining</td>\n",
       "      <td>Cafe, Mexican, Italian</td>\n",
       "      <td>800.0</td>\n",
       "      <td>Banashankari</td>\n",
       "      <td>...</td>\n",
       "      <td>0</td>\n",
       "      <td>0</td>\n",
       "      <td>0</td>\n",
       "      <td>0</td>\n",
       "      <td>0</td>\n",
       "      <td>0</td>\n",
       "      <td>0</td>\n",
       "      <td>0</td>\n",
       "      <td>0</td>\n",
       "      <td>0</td>\n",
       "    </tr>\n",
       "    <tr>\n",
       "      <th>3</th>\n",
       "      <td>Addhuri Udupi Bhojana</td>\n",
       "      <td>0</td>\n",
       "      <td>0</td>\n",
       "      <td>3.7</td>\n",
       "      <td>88</td>\n",
       "      <td>Banashankari</td>\n",
       "      <td>Quick Bites</td>\n",
       "      <td>South Indian, North Indian</td>\n",
       "      <td>300.0</td>\n",
       "      <td>Banashankari</td>\n",
       "      <td>...</td>\n",
       "      <td>0</td>\n",
       "      <td>0</td>\n",
       "      <td>0</td>\n",
       "      <td>0</td>\n",
       "      <td>0</td>\n",
       "      <td>0</td>\n",
       "      <td>0</td>\n",
       "      <td>0</td>\n",
       "      <td>0</td>\n",
       "      <td>0</td>\n",
       "    </tr>\n",
       "    <tr>\n",
       "      <th>4</th>\n",
       "      <td>Grand Village</td>\n",
       "      <td>0</td>\n",
       "      <td>0</td>\n",
       "      <td>3.8</td>\n",
       "      <td>166</td>\n",
       "      <td>Basavanagudi</td>\n",
       "      <td>Casual Dining</td>\n",
       "      <td>North Indian, Rajasthani</td>\n",
       "      <td>600.0</td>\n",
       "      <td>Banashankari</td>\n",
       "      <td>...</td>\n",
       "      <td>0</td>\n",
       "      <td>0</td>\n",
       "      <td>0</td>\n",
       "      <td>0</td>\n",
       "      <td>0</td>\n",
       "      <td>0</td>\n",
       "      <td>0</td>\n",
       "      <td>0</td>\n",
       "      <td>0</td>\n",
       "      <td>0</td>\n",
       "    </tr>\n",
       "  </tbody>\n",
       "</table>\n",
       "<p>5 rows × 170 columns</p>\n",
       "</div>"
      ],
      "text/plain": [
       "                    name  online_order  book_table  rate  votes      location  \\\n",
       "0                  Jalsa             1           1   4.1    775  Banashankari   \n",
       "1         Spice Elephant             1           0   4.1    787  Banashankari   \n",
       "2        San Churro Cafe             1           0   3.8    918  Banashankari   \n",
       "3  Addhuri Udupi Bhojana             0           0   3.7     88  Banashankari   \n",
       "4          Grand Village             0           0   3.8    166  Basavanagudi   \n",
       "\n",
       "             rest_type                        cuisines  approx_cost  \\\n",
       "0        Casual Dining  North Indian, Mughlai, Chinese        800.0   \n",
       "1        Casual Dining     Chinese, North Indian, Thai        800.0   \n",
       "2  Cafe, Casual Dining          Cafe, Mexican, Italian        800.0   \n",
       "3          Quick Bites      South Indian, North Indian        300.0   \n",
       "4        Casual Dining        North Indian, Rajasthani        600.0   \n",
       "\n",
       "           area  ...  Lavelle Road  MG Road  Malleshwaram  Marathahalli  \\\n",
       "0  Banashankari  ...             0        0             0             0   \n",
       "1  Banashankari  ...             0        0             0             0   \n",
       "2  Banashankari  ...             0        0             0             0   \n",
       "3  Banashankari  ...             0        0             0             0   \n",
       "4  Banashankari  ...             0        0             0             0   \n",
       "\n",
       "   New BEL Road  Old Airport Road  Rajajinagar  Residency Road  Sarjapur Road  \\\n",
       "0             0                 0            0               0              0   \n",
       "1             0                 0            0               0              0   \n",
       "2             0                 0            0               0              0   \n",
       "3             0                 0            0               0              0   \n",
       "4             0                 0            0               0              0   \n",
       "\n",
       "   Whitefield  \n",
       "0           0  \n",
       "1           0  \n",
       "2           0  \n",
       "3           0  \n",
       "4           0  \n",
       "\n",
       "[5 rows x 170 columns]"
      ]
     },
     "execution_count": 52,
     "metadata": {},
     "output_type": "execute_result"
    }
   ],
   "source": [
    "data_with_area = pd.concat([orders_df, rest_df, cuisines_df, area_df], axis = 1)\n",
    "data_with_area.head()"
   ]
  },
  {
   "cell_type": "code",
   "execution_count": 53,
   "id": "beneficial-trunk",
   "metadata": {},
   "outputs": [],
   "source": [
    "data_with_location.drop(columns=['name', 'location', 'rest_type', 'cuisines', 'area'], axis = 1, inplace=True)\n",
    "data_with_area.drop(columns=['name', 'location', 'rest_type', 'cuisines', 'area'], axis=1, inplace=True)"
   ]
  },
  {
   "cell_type": "markdown",
   "id": "7af55dff",
   "metadata": {},
   "source": [
    "## Feature Selection"
   ]
  },
  {
   "cell_type": "code",
   "execution_count": 54,
   "id": "dried-bicycle",
   "metadata": {},
   "outputs": [
    {
     "name": "stdout",
     "output_type": "stream",
     "text": [
      "X =  [[  1.   1. 775. ...   0.   0.   0.]\n",
      " [  1.   0. 787. ...   0.   0.   0.]\n",
      " [  1.   0. 918. ...   0.   0.   0.]\n",
      " ...\n",
      " [  0.   0.   0. ...   0.   0.   0.]\n",
      " [  0.   1. 236. ...   0.   0.   0.]\n",
      " [  0.   0.  13. ...   0.   0.   0.]]\n",
      "\n",
      "Y =  [4.1 4.1 3.8 ... 3.7 4.3 3.4]\n"
     ]
    }
   ],
   "source": [
    "X1 = data_with_location.drop(\"rate\", axis = 1).values\n",
    "Y1 = data_with_location[\"rate\"].values\n",
    "\n",
    "print(\"X = \", X1)\n",
    "print()\n",
    "print(\"Y = \", Y1)"
   ]
  },
  {
   "cell_type": "code",
   "execution_count": 55,
   "id": "directed-microwave",
   "metadata": {},
   "outputs": [
    {
     "name": "stdout",
     "output_type": "stream",
     "text": [
      "X =  [[  1.   1. 775. ...   0.   0.   0.]\n",
      " [  1.   0. 787. ...   0.   0.   0.]\n",
      " [  1.   0. 918. ...   0.   0.   0.]\n",
      " ...\n",
      " [  0.   0.   0. ...   0.   0.   1.]\n",
      " [  0.   1. 236. ...   0.   0.   1.]\n",
      " [  0.   0.  13. ...   0.   0.   1.]]\n",
      "\n",
      "Y =  [4.1 4.1 3.8 ... 3.7 4.3 3.4]\n"
     ]
    }
   ],
   "source": [
    "X2 = data_with_area.drop(\"rate\", axis = 1).values\n",
    "Y2 = data_with_area[\"rate\"].values\n",
    "\n",
    "print(\"X = \", X2)\n",
    "print()\n",
    "print(\"Y = \", Y2)"
   ]
  },
  {
   "cell_type": "markdown",
   "id": "annoying-stone",
   "metadata": {},
   "source": [
    "<br>"
   ]
  },
  {
   "cell_type": "code",
   "execution_count": 56,
   "id": "directed-nurse",
   "metadata": {},
   "outputs": [],
   "source": [
    "from sklearn.ensemble import ExtraTreesRegressor"
   ]
  },
  {
   "cell_type": "code",
   "execution_count": 57,
   "id": "thick-round",
   "metadata": {},
   "outputs": [
    {
     "name": "stdout",
     "output_type": "stream",
     "text": [
      "[1.72201240e-02 1.66288792e-01 2.91526033e-01 4.78639142e-02\n",
      " 3.38261235e-03 3.59884285e-04 7.68323814e-05 8.34300297e-07\n",
      " 1.16727982e-05 1.26065190e-02 7.93434810e-04 1.95504501e-04\n",
      " 2.98404571e-03 4.34206751e-19 1.84914889e-03 2.70630089e-03\n",
      " 5.38780550e-03 4.64820566e-06 1.18485281e-03 3.58604220e-03\n",
      " 8.24050574e-05 1.01435928e-02 8.02783468e-07 1.05383336e-02\n",
      " 5.08529809e-04 1.01682146e-03 6.67514493e-04 3.46686158e-03\n",
      " 2.79911795e-03 4.94108693e-04 1.55749461e-03 2.09744063e-02\n",
      " 2.14432636e-04 1.44866814e-03 2.72850064e-06 3.97664496e-03\n",
      " 6.61532845e-06 1.76355597e-05 3.40712274e-04 1.11831374e-05\n",
      " 5.72273807e-03 3.12714039e-05 2.04161025e-04 1.53783038e-03\n",
      " 2.90339834e-04 1.83173125e-05 6.94538836e-05 1.26150942e-06\n",
      " 4.31227372e-03 1.21233876e-04 2.32084823e-06 3.49641136e-04\n",
      " 9.04569051e-05 2.77080256e-03 6.09804081e-06 5.22498009e-06\n",
      " 1.07343650e-05 2.04241093e-03 1.69031579e-03 7.41115157e-05\n",
      " 3.43684062e-04 3.52415173e-03 1.17238067e-04 3.88214692e-04\n",
      " 3.77328874e-03 2.42241021e-03 5.84472110e-05 5.06133071e-03\n",
      " 1.12273783e-04 8.90567245e-05 6.13604498e-03 2.34989250e-04\n",
      " 1.24084775e-02 1.37519292e-03 2.96494322e-05 6.39581552e-03\n",
      " 2.95489853e-04 2.29770770e-04 2.38479837e-03 4.77653803e-06\n",
      " 9.30313930e-07 5.83993772e-04 4.24450964e-05 1.14801747e-05\n",
      " 1.14293707e-05 8.71740543e-04 1.04019927e-05 1.69164377e-05\n",
      " 3.88496697e-03 1.38329965e-03 1.11629535e-06 1.53818017e-03\n",
      " 1.81472078e-03 5.38811053e-03 2.06361908e-03 3.20516856e-03\n",
      " 2.13207958e-05 8.12198083e-06 4.90248025e-05 8.86740590e-06\n",
      " 7.85282028e-04 6.05612335e-04 4.52803878e-03 3.23523738e-04\n",
      " 1.92440001e-04 9.01250182e-04 3.43016257e-05 3.08801735e-03\n",
      " 1.17775910e-04 8.76915627e-06 1.61669571e-02 2.44917332e-03\n",
      " 3.12685273e-04 1.72440443e-03 5.24359593e-07 1.08469902e-03\n",
      " 9.89527102e-03 3.95974290e-17 4.86625525e-06 0.00000000e+00\n",
      " 1.27440947e-02 6.97818996e-03 2.70182829e-03 1.80240242e-04\n",
      " 7.74871649e-06 8.17533828e-04 2.03811682e-03 2.85902961e-05\n",
      " 6.42038574e-04 3.45527207e-03 6.18598497e-05 6.44849606e-03\n",
      " 1.04095864e-02 1.35868694e-03 1.07600688e-02 3.66438362e-03\n",
      " 2.53364342e-03 7.18090682e-03 2.40811500e-03 8.89554822e-04\n",
      " 6.01297556e-03 3.19686253e-03 6.25975134e-03 4.93839582e-03\n",
      " 2.62304561e-04 1.02484982e-05 3.41333308e-03 4.20659339e-04\n",
      " 2.71566968e-03 2.91105021e-03 3.32910605e-03 2.04220728e-04\n",
      " 1.09772676e-03 5.41956803e-03 3.26297826e-03 4.10179287e-04\n",
      " 7.42303366e-03 9.81207292e-05 1.23407002e-03 2.62072706e-04\n",
      " 1.01900714e-03 9.17137011e-03 8.77525193e-04 7.56192025e-03\n",
      " 2.98377972e-19 1.32890630e-04 5.51071019e-03 2.11824244e-03\n",
      " 2.93059040e-05 9.51241528e-04 3.51802825e-03 2.02581623e-03\n",
      " 8.60163216e-05 2.49547109e-06 2.61230643e-04 4.23283543e-03\n",
      " 1.99866395e-04 2.90628951e-04 4.01109652e-03 6.98624680e-03\n",
      " 5.73081264e-03 4.85384413e-03 1.01014764e-03 1.07759439e-03\n",
      " 2.32807877e-05 1.69534446e-03 7.62452004e-03 1.16175837e-04\n",
      " 3.00322191e-04 3.25627568e-03 8.77361180e-03 4.46315851e-05\n",
      " 1.09252949e-06 1.60839296e-03 2.94736769e-03 7.36534325e-05\n",
      " 2.21893350e-03 4.91916130e-04 5.64538675e-07 3.67860950e-04\n",
      " 2.72443253e-04 2.11842406e-03 3.50482953e-06 5.29031903e-04\n",
      " 2.52641008e-03 2.86017551e-03 5.46262869e-04 3.30845919e-04\n",
      " 3.58490426e-04 2.71465111e-05 5.29043166e-03 9.06794291e-04\n",
      " 2.86993391e-03 7.86678277e-04 2.83346897e-04 1.54417279e-03\n",
      " 5.67357535e-04 3.96753182e-03 5.81719206e-05 6.98451828e-04\n",
      " 1.04438874e-03 2.66034038e-04 2.47189064e-05 7.08209719e-03\n",
      " 6.06330114e-04 1.36377638e-06 8.62204841e-04]\n"
     ]
    }
   ],
   "source": [
    "# Extracting Important features from data_with_location Dataframe\n",
    "imp_features1 = ExtraTreesRegressor()\n",
    "imp_features1.fit(X1, Y1)\n",
    "print(imp_features1.feature_importances_)"
   ]
  },
  {
   "cell_type": "code",
   "execution_count": 58,
   "id": "located-guarantee",
   "metadata": {},
   "outputs": [
    {
     "data": {
      "text/plain": [
       "<AxesSubplot:>"
      ]
     },
     "execution_count": 58,
     "metadata": {},
     "output_type": "execute_result"
    },
    {
     "data": {
      "image/png": "[encoded data removed]",
      "text/plain": [
       "<Figure size 864x576 with 1 Axes>"
      ]
     },
     "metadata": {},
     "output_type": "display_data"
    }
   ],
   "source": [
    "plt.figure(figsize = (12, 8))\n",
    "columns = data_with_location.drop(\"rate\", axis = 1).columns\n",
    "fseries = pd.Series(imp_features1.feature_importances_, index = columns)\n",
    "fseries.nlargest(30).plot(kind = \"barh\")"
   ]
  },
  {
   "cell_type": "code",
   "execution_count": 59,
   "id": "specified-study",
   "metadata": {},
   "outputs": [
    {
     "name": "stdout",
     "output_type": "stream",
     "text": [
      "[2.16069941e-02 1.69033969e-01 3.17357430e-01 7.34393504e-02\n",
      " 4.20848500e-03 5.01136868e-04 2.05492713e-04 3.16307507e-06\n",
      " 1.82563314e-05 1.38178063e-02 9.20844118e-04 2.02489988e-04\n",
      " 3.81231020e-03 6.25050375e-17 2.75929492e-03 3.27605814e-03\n",
      " 6.47629297e-03 1.79769991e-05 1.69066795e-03 3.79496022e-03\n",
      " 9.48646086e-05 1.22342769e-02 8.13653378e-07 1.18532944e-02\n",
      " 8.40673033e-04 1.30821348e-03 9.97653414e-04 3.71210900e-03\n",
      " 4.13357918e-03 6.81179413e-04 1.76255811e-03 2.15240103e-02\n",
      " 2.81587611e-04 1.99293854e-03 3.59694346e-06 5.45040901e-03\n",
      " 1.57480140e-05 3.69693349e-05 3.98231294e-04 1.76455341e-05\n",
      " 1.04976971e-02 5.18397880e-05 2.27900154e-04 1.91200408e-03\n",
      " 3.99971206e-04 2.45148433e-05 7.38873751e-05 5.20320561e-06\n",
      " 5.20078954e-03 3.21679865e-04 7.38660270e-07 4.86965984e-04\n",
      " 1.47159294e-04 3.45140264e-03 2.50321569e-05 4.54477367e-06\n",
      " 1.79361790e-05 2.74264609e-03 2.51414612e-03 7.35176546e-05\n",
      " 5.12053705e-04 4.76465862e-03 1.94187122e-04 4.17054988e-04\n",
      " 5.24023348e-03 3.22861623e-03 9.83800082e-05 6.54057428e-03\n",
      " 1.39726816e-04 1.35206914e-04 8.21293427e-03 3.39420896e-04\n",
      " 1.43454595e-02 2.10956874e-03 4.58227206e-05 9.22101856e-03\n",
      " 3.12249723e-04 4.20098003e-04 3.16584893e-03 8.60205936e-06\n",
      " 9.92367556e-07 7.20280948e-04 9.17664241e-05 1.83866894e-05\n",
      " 2.27894958e-05 9.80401950e-04 1.94410028e-05 1.27264585e-05\n",
      " 5.44584773e-03 2.11874032e-03 2.76299336e-06 2.57886986e-03\n",
      " 2.56575639e-03 6.70335053e-03 3.15290951e-03 3.77606145e-03\n",
      " 5.21106844e-05 6.69497700e-06 1.38207629e-04 1.21797102e-05\n",
      " 8.97296285e-04 8.63635551e-04 6.79616030e-03 3.73557876e-04\n",
      " 2.24313185e-04 1.43231197e-03 3.20986489e-05 4.04664676e-03\n",
      " 1.79099681e-04 1.17932875e-05 1.65111927e-02 2.80291125e-03\n",
      " 3.11728776e-04 2.27329220e-03 2.99516792e-07 1.36950054e-03\n",
      " 1.23693746e-02 1.43667651e-15 1.90409738e-05 0.00000000e+00\n",
      " 1.59509504e-02 9.30333375e-03 3.51075677e-03 2.18275200e-04\n",
      " 3.43883317e-06 1.06838572e-03 2.89771741e-03 5.70941035e-05\n",
      " 7.49049917e-04 3.55298297e-03 5.87756944e-05 7.95322464e-03\n",
      " 1.23885939e-02 1.52728936e-03 2.07586823e-03 1.98404586e-03\n",
      " 3.57151954e-03 1.99299639e-03 3.86565694e-03 9.31620898e-04\n",
      " 6.50190988e-03 6.55786788e-04 5.52778945e-03 1.64810230e-03\n",
      " 3.99851648e-03 4.29397141e-03 2.67651953e-03 2.25191420e-03\n",
      " 2.84233337e-03 3.20833501e-03 9.61362751e-04 7.24414759e-04\n",
      " 6.84109306e-04 8.43674504e-04 1.16641441e-03 1.24269893e-03\n",
      " 2.87830753e-03 6.59550490e-03 3.11211261e-03 3.71746253e-03\n",
      " 2.62878331e-03 1.11364504e-03 4.36364597e-03 5.65195335e-03]\n"
     ]
    }
   ],
   "source": [
    "imp_features2 = ExtraTreesRegressor()\n",
    "imp_features2.fit(X2, Y2)\n",
    "print(imp_features2.feature_importances_)"
   ]
  },
  {
   "cell_type": "code",
   "execution_count": 60,
   "id": "compressed-andrew",
   "metadata": {},
   "outputs": [
    {
     "data": {
      "text/plain": [
       "<AxesSubplot:>"
      ]
     },
     "execution_count": 60,
     "metadata": {},
     "output_type": "execute_result"
    },
    {
     "data": {
      "image/png": "[encoded data removed]",
      "text/plain": [
       "<Figure size 864x576 with 1 Axes>"
      ]
     },
     "metadata": {},
     "output_type": "display_data"
    }
   ],
   "source": [
    "plt.figure(figsize = (12, 8))\n",
    "columns = data_with_area.drop(\"rate\", axis = 1).columns\n",
    "fseries = pd.Series(imp_features2.feature_importances_, index = columns)\n",
    "fseries.nlargest(30).plot(kind = \"barh\")"
   ]
  },
  {
   "cell_type": "markdown",
   "id": "pressed-butler",
   "metadata": {},
   "source": [
    "<br>"
   ]
  },
  {
   "cell_type": "markdown",
   "id": "da6479d2",
   "metadata": {},
   "source": [
    "## Train Test Splitting of Data"
   ]
  },
  {
   "cell_type": "code",
   "execution_count": 61,
   "id": "47fc9ad5",
   "metadata": {},
   "outputs": [],
   "source": [
    "from sklearn.model_selection import train_test_split"
   ]
  },
  {
   "cell_type": "code",
   "execution_count": 62,
   "id": "5456fe82",
   "metadata": {},
   "outputs": [],
   "source": [
    "X1_train, X1_test, Y1_train, Y1_test = train_test_split(X1, Y1, test_size=0.2, random_state=42)"
   ]
  },
  {
   "cell_type": "code",
   "execution_count": 63,
   "id": "7f26c569",
   "metadata": {},
   "outputs": [],
   "source": [
    "X2_train, X2_test, Y2_train, Y2_test = train_test_split(X2, Y2, test_size=0.2, random_state=45)"
   ]
  },
  {
   "cell_type": "markdown",
   "id": "statutory-consortium",
   "metadata": {},
   "source": [
    "<br>"
   ]
  },
  {
   "cell_type": "markdown",
   "id": "5bb1e7ae",
   "metadata": {},
   "source": [
    "## Importing ML Models"
   ]
  },
  {
   "cell_type": "code",
   "execution_count": 64,
   "id": "8618cb7a",
   "metadata": {},
   "outputs": [],
   "source": [
    "from sklearn.linear_model import LinearRegression\n",
    "from sklearn.ensemble import RandomForestRegressor\n",
    "from sklearn.tree import DecisionTreeRegressor"
   ]
  },
  {
   "cell_type": "markdown",
   "id": "c9c27379",
   "metadata": {},
   "source": [
    "### Linear Regression"
   ]
  },
  {
   "cell_type": "markdown",
   "id": "c8adc4a1",
   "metadata": {},
   "source": [
    "#### For data_with_location"
   ]
  },
  {
   "cell_type": "code",
   "execution_count": 65,
   "id": "7e0cd15d",
   "metadata": {},
   "outputs": [
    {
     "data": {
      "text/plain": [
       "LinearRegression()"
      ]
     },
     "execution_count": 65,
     "metadata": {},
     "output_type": "execute_result"
    }
   ],
   "source": [
    "lr1 = LinearRegression()\n",
    "lr1.fit(X1_train, Y1_train)"
   ]
  },
  {
   "cell_type": "code",
   "execution_count": 66,
   "id": "293b1ddc",
   "metadata": {},
   "outputs": [
    {
     "data": {
      "text/plain": [
       "array([3.59842095, 3.79314729, 3.58246313, 3.48453781, 3.54911858,\n",
       "       3.86078185, 3.57360405, 3.49362775, 3.86837198, 3.53854682,\n",
       "       3.53894707, 3.66695723, 3.52999025, 3.61098495, 4.13777133,\n",
       "       3.38109923, 3.79516245, 4.33883224, 3.50354697, 3.429606  ,\n",
       "       3.45267673, 3.47351886, 3.84281261, 3.61792553, 3.51014983,\n",
       "       3.53499089, 3.84186274, 3.78805962, 3.64354086, 3.51003124,\n",
       "       3.63136543, 3.68449124, 3.94075469, 3.7367096 , 3.50586451,\n",
       "       3.46090123, 4.49197891, 3.5768909 , 3.44830891, 3.79047545,\n",
       "       3.61026277, 3.80753047, 3.55868624, 3.77055884, 3.4899659 ,\n",
       "       3.60305986, 3.62821693, 3.49645813, 4.43527374, 4.16001406,\n",
       "       3.51686224, 4.42523589, 3.63541475, 3.43397489, 3.61012108,\n",
       "       3.72063299, 3.59530734, 3.54345125, 3.62358271, 3.52398522,\n",
       "       3.76933367, 3.82226402, 3.48584428, 3.65376135, 4.02413128,\n",
       "       4.30118549, 3.48148102, 3.61607414, 3.76684806, 3.50513566,\n",
       "       3.66760143, 3.47916749, 3.60942462, 3.53674262, 3.44939577,\n",
       "       3.75321203, 3.78915287, 3.74620971, 3.52376231, 3.65923678,\n",
       "       3.71370498, 3.70409993, 3.47893004, 3.47917826, 3.66659107,\n",
       "       4.04456138, 3.64354086, 4.04826255, 3.64329237, 3.66570718,\n",
       "       3.61025638, 3.57945297, 3.95575952, 3.75626363, 3.77155212,\n",
       "       3.83458373, 3.83504789, 3.55339255, 3.71803242, 4.02444899])"
      ]
     },
     "execution_count": 66,
     "metadata": {},
     "output_type": "execute_result"
    }
   ],
   "source": [
    "Y_lr1= lr1.predict(X1_test)\n",
    "Y_lr1[:100]"
   ]
  },
  {
   "cell_type": "code",
   "execution_count": 67,
   "id": "98208edd",
   "metadata": {},
   "outputs": [
    {
     "data": {
      "image/png": "[encoded data removed]",
      "text/plain": [
       "<Figure size 864x576 with 1 Axes>"
      ]
     },
     "metadata": {},
     "output_type": "display_data"
    }
   ],
   "source": [
    "plt.figure(figsize=(12,8))\n",
    "sns.histplot(Y1_test - Y_lr1, kde=True)\n",
    "plt.show()"
   ]
  },
  {
   "cell_type": "markdown",
   "id": "b4d2e940",
   "metadata": {},
   "source": [
    "#### For data_with_area"
   ]
  },
  {
   "cell_type": "code",
   "execution_count": 68,
   "id": "165a4951",
   "metadata": {},
   "outputs": [
    {
     "data": {
      "text/plain": [
       "LinearRegression()"
      ]
     },
     "execution_count": 68,
     "metadata": {},
     "output_type": "execute_result"
    }
   ],
   "source": [
    "lr2 = LinearRegression()\n",
    "lr2.fit(X2_train, Y2_train)"
   ]
  },
  {
   "cell_type": "code",
   "execution_count": 69,
   "id": "a1d7e796",
   "metadata": {},
   "outputs": [
    {
     "data": {
      "text/plain": [
       "array([3.51048882, 3.64624727, 3.91010291, 3.5310687 , 3.63902146,\n",
       "       3.50307539, 4.12011187, 3.80908364, 3.67520392, 3.50085444,\n",
       "       3.60862335, 3.70999879, 3.67316422, 4.08726229, 3.65341947,\n",
       "       3.65980031, 4.04504739, 3.58494806, 4.14987018, 3.58862444,\n",
       "       3.64562671, 3.83260972, 3.50762822, 3.68342688, 3.70324063,\n",
       "       3.95263685, 4.13305177, 3.46835315, 3.47583025, 3.63654953,\n",
       "       3.72160944, 3.69534413, 3.8050545 , 3.77048172, 3.53513794,\n",
       "       3.48923858, 4.28697051, 3.50903821, 3.75349993, 3.69338207,\n",
       "       3.70443475, 3.60136421, 4.05891546, 3.61024504, 3.55934397,\n",
       "       3.81244436, 3.81456064, 3.50414448, 3.43098915, 3.51496927,\n",
       "       3.50303322, 3.82541065, 3.83833245, 3.52617849, 3.85815489,\n",
       "       3.84711823, 3.57644781, 3.67179775, 3.55948445, 3.57708213,\n",
       "       3.63459424, 4.12782089, 3.59805804, 3.48051497, 4.20969075,\n",
       "       3.78838586, 3.97159693, 3.64282754, 3.63616819, 3.78291687,\n",
       "       3.67089778, 3.88598112, 3.53337802, 3.78804375, 3.50613344,\n",
       "       4.34315201, 3.51727086, 3.80273326, 3.91025386, 3.52865766,\n",
       "       3.59452573, 4.02355483, 4.05226091, 3.74532676, 4.01648087,\n",
       "       3.75639088, 3.49604736, 4.05778422, 4.0555774 , 3.50822673,\n",
       "       3.52899145, 3.54964665, 4.00533319, 3.69243693, 3.49620613,\n",
       "       3.88080211, 3.50103641, 3.5804509 , 3.54935095, 3.58663405])"
      ]
     },
     "execution_count": 69,
     "metadata": {},
     "output_type": "execute_result"
    }
   ],
   "source": [
    "Y_lr2 = lr2.predict(X2_test)\n",
    "Y_lr2[:100]"
   ]
  },
  {
   "cell_type": "code",
   "execution_count": 70,
   "id": "e079e573",
   "metadata": {},
   "outputs": [
    {
     "data": {
      "image/png": "[encoded data removed]",
      "text/plain": [
       "<Figure size 864x576 with 1 Axes>"
      ]
     },
     "metadata": {},
     "output_type": "display_data"
    }
   ],
   "source": [
    "plt.figure(figsize=(12,8))\n",
    "sns.histplot(Y2_test - Y_lr2, kde=True)\n",
    "plt.show()"
   ]
  },
  {
   "cell_type": "markdown",
   "id": "aef389dc",
   "metadata": {},
   "source": [
    "### Random Forest Regression"
   ]
  },
  {
   "cell_type": "markdown",
   "id": "a1e6ca16",
   "metadata": {},
   "source": [
    "#### For data_with_location"
   ]
  },
  {
   "cell_type": "code",
   "execution_count": 71,
   "id": "dd648902",
   "metadata": {},
   "outputs": [
    {
     "data": {
      "text/plain": [
       "RandomForestRegressor()"
      ]
     },
     "execution_count": 71,
     "metadata": {},
     "output_type": "execute_result"
    }
   ],
   "source": [
    "rf1 = RandomForestRegressor()\n",
    "rf1.fit(X1_train, Y1_train)"
   ]
  },
  {
   "cell_type": "code",
   "execution_count": 72,
   "id": "a4d318f1",
   "metadata": {},
   "outputs": [
    {
     "data": {
      "text/plain": [
       "array([3.2212    , 3.509125  , 3.7       , 3.21661538, 3.2525    ,\n",
       "       4.099     , 3.599     , 3.7       , 4.2       , 3.7       ,\n",
       "       3.5       , 3.7       , 3.7       , 3.7       , 4.344     ,\n",
       "       3.25968333, 3.9399    , 4.2       , 3.7       , 3.2       ,\n",
       "       3.1495    , 3.7       , 3.7       , 3.74256667, 3.59856667,\n",
       "       3.8442    , 3.7       , 4.3       , 3.5       , 3.374     ,\n",
       "       3.505     , 3.32411905, 4.2       , 4.403     , 3.986     ,\n",
       "       3.21133333, 4.43      , 3.4456    , 3.7       , 4.102     ,\n",
       "       3.78      , 3.7       , 3.6255    , 4.171     , 3.40475   ,\n",
       "       3.63      , 3.972     , 3.276     , 4.4       , 4.201     ,\n",
       "       3.8       , 4.2       , 3.7       , 3.007     , 3.7       ,\n",
       "       3.891     , 3.3       , 3.797     , 3.7       , 3.7       ,\n",
       "       3.70233333, 3.892     , 2.877     , 3.65893333, 4.        ,\n",
       "       4.1064619 , 3.2863    , 3.113     , 3.97      , 3.314     ,\n",
       "       3.7       , 3.687     , 3.618     , 3.3425    , 3.54033333,\n",
       "       3.5       , 3.9       , 3.7       , 3.6122085 , 3.7       ,\n",
       "       3.7       , 4.231     , 3.3515    , 3.424     , 3.299     ,\n",
       "       3.901     , 3.5       , 4.381     , 3.47246504, 4.136     ,\n",
       "       3.7       , 3.        , 3.8       , 3.8       , 3.564     ,\n",
       "       4.111     , 4.        , 3.8       , 4.084     , 4.199     ])"
      ]
     },
     "execution_count": 72,
     "metadata": {},
     "output_type": "execute_result"
    }
   ],
   "source": [
    "Y_rf1 = rf1.predict(X1_test)\n",
    "Y_rf1[:100]"
   ]
  },
  {
   "cell_type": "code",
   "execution_count": 73,
   "id": "91dc8e48",
   "metadata": {},
   "outputs": [
    {
     "data": {
      "image/png": "[encoded data removed]",
      "text/plain": [
       "<Figure size 864x576 with 1 Axes>"
      ]
     },
     "metadata": {},
     "output_type": "display_data"
    }
   ],
   "source": [
    "plt.figure(figsize=(12,8))\n",
    "sns.histplot(Y1_test - Y_rf1, kde=True, bins=100)\n",
    "plt.show()"
   ]
  },
  {
   "cell_type": "markdown",
   "id": "c08b8b87",
   "metadata": {},
   "source": [
    "#### For data_with_area"
   ]
  },
  {
   "cell_type": "code",
   "execution_count": 74,
   "id": "3ca7b7b1",
   "metadata": {},
   "outputs": [
    {
     "data": {
      "text/plain": [
       "RandomForestRegressor()"
      ]
     },
     "execution_count": 74,
     "metadata": {},
     "output_type": "execute_result"
    }
   ],
   "source": [
    "rf2 = RandomForestRegressor()\n",
    "rf2.fit(X2_train, Y2_train)"
   ]
  },
  {
   "cell_type": "code",
   "execution_count": 75,
   "id": "72c97918",
   "metadata": {},
   "outputs": [
    {
     "data": {
      "text/plain": [
       "array([3.7       , 4.1       , 4.3       , 3.271     , 3.362     ,\n",
       "       3.7       , 4.2       , 4.189     , 3.122     , 3.787     ,\n",
       "       3.453     , 3.7       , 3.7       , 4.183     , 3.676     ,\n",
       "       3.298     , 4.409     , 3.735     , 4.269     , 3.7       ,\n",
       "       4.186     , 3.999     , 3.313     , 3.9       , 3.7       ,\n",
       "       4.287     , 4.104     , 3.481     , 3.7       , 3.7       ,\n",
       "       3.604     , 3.887     , 4.086     , 3.894     , 3.7       ,\n",
       "       3.186     , 4.504     , 3.175     , 3.065     , 3.496     ,\n",
       "       2.849     , 3.98      , 4.523     , 3.7       , 3.7       ,\n",
       "       4.105     , 3.92      , 2.907     , 3.59825   , 3.53      ,\n",
       "       2.962     , 4.05      , 3.7       , 3.003     , 3.683     ,\n",
       "       3.9       , 3.578     , 3.779     , 3.7       , 3.398     ,\n",
       "       3.414     , 4.2       , 3.942     , 3.7       , 4.4       ,\n",
       "       4.002     , 4.05      , 3.711     , 3.441     , 3.875     ,\n",
       "       3.1606    , 4.1       , 3.7       , 3.695     , 3.772     ,\n",
       "       4.781     , 3.373     , 3.907     , 4.097     , 3.695     ,\n",
       "       3.591     , 3.7       , 4.476     , 3.7       , 3.826     ,\n",
       "       3.79      , 3.45441667, 4.299     , 4.449     , 3.1604    ,\n",
       "       3.7       , 3.284     , 3.90641667, 3.894     , 3.201     ,\n",
       "       4.051     , 3.7       , 3.7       , 3.302     , 3.882     ])"
      ]
     },
     "execution_count": 75,
     "metadata": {},
     "output_type": "execute_result"
    }
   ],
   "source": [
    "Y_rf2 = rf2.predict(X2_test)\n",
    "Y_rf2[:100]"
   ]
  },
  {
   "cell_type": "code",
   "execution_count": 76,
   "id": "6b347313",
   "metadata": {},
   "outputs": [
    {
     "data": {
      "image/png": "[encoded data removed]",
      "text/plain": [
       "<Figure size 864x576 with 1 Axes>"
      ]
     },
     "metadata": {},
     "output_type": "display_data"
    }
   ],
   "source": [
    "plt.figure(figsize=(12,8))\n",
    "sns.histplot(Y2_test - Y_rf2, kde=True, bins=100)\n",
    "plt.show()"
   ]
  },
  {
   "cell_type": "markdown",
   "id": "4d35cfa2",
   "metadata": {},
   "source": [
    "### Decision Tree Regressor"
   ]
  },
  {
   "cell_type": "markdown",
   "id": "1f207bcc",
   "metadata": {},
   "source": [
    "#### For data_with_location"
   ]
  },
  {
   "cell_type": "code",
   "execution_count": 77,
   "id": "ab7e98c4",
   "metadata": {},
   "outputs": [
    {
     "data": {
      "text/plain": [
       "DecisionTreeRegressor()"
      ]
     },
     "execution_count": 77,
     "metadata": {},
     "output_type": "execute_result"
    }
   ],
   "source": [
    "dt1 = DecisionTreeRegressor()\n",
    "dt1.fit(X1_train, Y1_train)"
   ]
  },
  {
   "cell_type": "code",
   "execution_count": 78,
   "id": "f4e04b86",
   "metadata": {},
   "outputs": [
    {
     "data": {
      "text/plain": [
       "array([3.2       , 3.        , 3.7       , 3.2       , 3.2       ,\n",
       "       4.1       , 3.6       , 3.7       , 4.2       , 3.7       ,\n",
       "       3.5       , 3.7       , 3.7       , 3.7       , 4.4       ,\n",
       "       3.2       , 4.05      , 4.2       , 3.7       , 3.2       ,\n",
       "       3.1       , 3.7       , 3.7       , 3.75      , 3.6       ,\n",
       "       3.85      , 3.7       , 4.3       , 3.5       , 3.4       ,\n",
       "       3.5       , 3.43333333, 4.2       , 4.4       , 4.        ,\n",
       "       3.1       , 4.4       , 3.5       , 3.7       , 4.1       ,\n",
       "       3.8       , 3.7       , 3.5       , 3.9       , 3.        ,\n",
       "       3.6       , 4.        , 3.3       , 4.4       , 4.2       ,\n",
       "       3.8       , 4.2       , 3.7       , 3.        , 3.7       ,\n",
       "       3.9       , 3.3       , 3.9       , 3.7       , 3.7       ,\n",
       "       3.7       , 3.9       , 2.9       , 3.7       , 4.        ,\n",
       "       4.1       , 3.3       , 3.1       , 4.        , 3.3       ,\n",
       "       3.7       , 3.7       , 3.6       , 3.5       , 3.6       ,\n",
       "       3.5       , 3.9       , 3.7       , 3.61428571, 3.7       ,\n",
       "       3.7       , 4.2       , 3.5       , 3.5       , 3.3       ,\n",
       "       3.9       , 3.5       , 4.4       , 3.475     , 4.2       ,\n",
       "       3.7       , 3.        , 3.8       , 3.8       , 3.6       ,\n",
       "       4.1       , 4.        , 3.8       , 4.1       , 4.2       ])"
      ]
     },
     "execution_count": 78,
     "metadata": {},
     "output_type": "execute_result"
    }
   ],
   "source": [
    "Y_dt1 = dt1.predict(X1_test)\n",
    "Y_dt1[:100]"
   ]
  },
  {
   "cell_type": "code",
   "execution_count": 79,
   "id": "a09b1f53",
   "metadata": {},
   "outputs": [
    {
     "data": {
      "image/png": "[encoded data removed]",
      "text/plain": [
       "<Figure size 864x576 with 1 Axes>"
      ]
     },
     "metadata": {},
     "output_type": "display_data"
    }
   ],
   "source": [
    "plt.figure(figsize=(12,8))\n",
    "plt.hist(Y1_test - Y_dt1, bins=100, alpha=0.7)\n",
    "plt.show()"
   ]
  },
  {
   "cell_type": "markdown",
   "id": "1b34ac75",
   "metadata": {},
   "source": [
    "#### For data_with_area"
   ]
  },
  {
   "cell_type": "code",
   "execution_count": 80,
   "id": "26a1b8d9",
   "metadata": {},
   "outputs": [
    {
     "data": {
      "text/plain": [
       "DecisionTreeRegressor()"
      ]
     },
     "execution_count": 80,
     "metadata": {},
     "output_type": "execute_result"
    }
   ],
   "source": [
    "dt2 = DecisionTreeRegressor()\n",
    "dt2.fit(X2_train, Y2_train)"
   ]
  },
  {
   "cell_type": "code",
   "execution_count": 81,
   "id": "e469999b",
   "metadata": {},
   "outputs": [
    {
     "data": {
      "text/plain": [
       "array([3.7, 4.1, 4.3, 3. , 3.5, 3.7, 4.2, 4.2, 3.1, 3.9, 3.7, 3.7, 3.7,\n",
       "       4.2, 3.7, 3.3, 4.4, 2.8, 4.3, 3.7, 4.2, 4. , 3.2, 3.9, 3.7, 4.3,\n",
       "       4.1, 3.5, 3.7, 3.7, 3.6, 3.9, 4.1, 3.9, 3.7, 3. , 4.5, 3.1, 2.8,\n",
       "       3.5, 2.8, 3.8, 4.6, 3.7, 3.7, 4.6, 3.9, 2.7, 3.7, 3.5, 3.1, 4.1,\n",
       "       3.7, 3. , 3.6, 3.9, 3.6, 3.9, 3.7, 3.4, 3.4, 4.2, 4. , 3.7, 4.4,\n",
       "       4. , 4. , 3.7, 3.4, 4.1, 3.1, 4.1, 3.7, 3.7, 3.9, 4.8, 3.4, 3.9,\n",
       "       4.1, 4. , 3.6, 3.7, 4.5, 3.7, 3.8, 3.8, 3.5, 4.3, 4.5, 3.1, 3.7,\n",
       "       3.3, 3.8, 3.9, 3.2, 4. , 3.7, 3.7, 3.3, 3.9])"
      ]
     },
     "execution_count": 81,
     "metadata": {},
     "output_type": "execute_result"
    }
   ],
   "source": [
    "Y_dt2 = dt2.predict(X2_test)\n",
    "Y_dt2[:100]"
   ]
  },
  {
   "cell_type": "code",
   "execution_count": 82,
   "id": "cb00bf95",
   "metadata": {},
   "outputs": [
    {
     "data": {
      "image/png": "[encoded data removed]",
      "text/plain": [
       "<Figure size 864x576 with 1 Axes>"
      ]
     },
     "metadata": {},
     "output_type": "display_data"
    }
   ],
   "source": [
    "plt.figure(figsize=(12,8))\n",
    "plt.hist(Y2_test - Y_dt2, bins=100, alpha=0.7)\n",
    "plt.show()"
   ]
  },
  {
   "cell_type": "markdown",
   "id": "61b3b8e9",
   "metadata": {},
   "source": [
    "## Model Evaluation"
   ]
  },
  {
   "cell_type": "code",
   "execution_count": 83,
   "id": "74216879",
   "metadata": {},
   "outputs": [],
   "source": [
    "from sklearn.metrics import mean_absolute_error, mean_squared_error, r2_score"
   ]
  },
  {
   "cell_type": "markdown",
   "id": "e12e1c52",
   "metadata": {},
   "source": [
    "### Linear Regression Model "
   ]
  },
  {
   "cell_type": "markdown",
   "id": "6a96a338",
   "metadata": {},
   "source": [
    "#### for data_with_location"
   ]
  },
  {
   "cell_type": "code",
   "execution_count": 84,
   "id": "66d02d34",
   "metadata": {},
   "outputs": [
    {
     "name": "stdout",
     "output_type": "stream",
     "text": [
      "Coefficient of Determination for train data :  0.35719946892107624\n",
      "Coefficient of Determination for test data :  0.35815519104483684\n",
      "Mean Absolute Error :  0.24026687273293618\n",
      "Mean Squared Error :  0.1012131484570824\n",
      "Root Mean Squared Error :  0.3181401396508815\n",
      "R2 Score :  0.35815519104483684\n"
     ]
    }
   ],
   "source": [
    "mae =  mean_absolute_error(Y1_test, Y_lr1)\n",
    "mse = mean_squared_error(Y1_test, Y_lr1)\n",
    "r2score = r2_score(Y1_test, Y_lr1)\n",
    "\n",
    "print(\"Coefficient of Determination for train data : \",lr1.score(X1_train, Y1_train))\n",
    "print(\"Coefficient of Determination for test data : \",lr1.score(X1_test, Y1_test))\n",
    "print(\"Mean Absolute Error : \", mae)\n",
    "print(\"Mean Squared Error : \", mse) \n",
    "print(\"Root Mean Squared Error : \", np.sqrt(mse))\n",
    "print(\"R2 Score : \", r2score) "
   ]
  },
  {
   "cell_type": "markdown",
   "id": "e347caad",
   "metadata": {},
   "source": [
    "#### for data_with_area"
   ]
  },
  {
   "cell_type": "code",
   "execution_count": 85,
   "id": "c8e0763b",
   "metadata": {},
   "outputs": [
    {
     "name": "stdout",
     "output_type": "stream",
     "text": [
      "Coefficient of Determination for train data :  0.34422351544164753\n",
      "Coefficient of Determination for test data :  0.34420175633557104\n",
      "Mean Absolute Error :  0.2430766976157529\n",
      "Mean Squared Error :  0.1027830022640604\n",
      "Root Mean Squared Error :  0.32059788250089927\n",
      "R2 Score :  0.34420175633557104\n"
     ]
    }
   ],
   "source": [
    "mae =  mean_absolute_error(Y2_test, Y_lr2)\n",
    "mse = mean_squared_error(Y2_test, Y_lr2)\n",
    "r2score = r2_score(Y2_test, Y_lr2)\n",
    "\n",
    "print(\"Coefficient of Determination for train data : \",lr2.score(X2_train, Y2_train))\n",
    "print(\"Coefficient of Determination for test data : \",lr2.score(X2_test, Y2_test))\n",
    "print(\"Mean Absolute Error : \", mae)\n",
    "print(\"Mean Squared Error : \", mse) \n",
    "print(\"Root Mean Squared Error : \", np.sqrt(mse))\n",
    "print(\"R2 Score : \", r2score) "
   ]
  },
  {
   "cell_type": "markdown",
   "id": "6b92db11",
   "metadata": {},
   "source": [
    "### Random Forest Regression Model "
   ]
  },
  {
   "cell_type": "markdown",
   "id": "37fe18b6",
   "metadata": {},
   "source": [
    "#### for data_with_location"
   ]
  },
  {
   "cell_type": "code",
   "execution_count": 86,
   "id": "5e5d7eb1",
   "metadata": {},
   "outputs": [
    {
     "name": "stdout",
     "output_type": "stream",
     "text": [
      "Coefficient of Determination for train data :  0.990287008661007\n",
      "Coefficient of Determination for test data :  0.9423480906130008\n",
      "Mean Absolute Error :  0.03612009075598772\n",
      "Mean Squared Error :  0.009091187125310577\n",
      "Root Mean Squared Error :  0.0953477169381133\n",
      "R2 Score :  0.9423480906130008\n"
     ]
    }
   ],
   "source": [
    "mae =  mean_absolute_error(Y1_test, Y_rf1)\n",
    "mse = mean_squared_error(Y1_test, Y_rf1)\n",
    "r2score = r2_score(Y1_test, Y_rf1)\n",
    "\n",
    "print(\"Coefficient of Determination for train data : \",rf1.score(X1_train, Y1_train))\n",
    "print(\"Coefficient of Determination for test data : \",rf1.score(X1_test, Y1_test))\n",
    "print(\"Mean Absolute Error : \", mae)\n",
    "print(\"Mean Squared Error : \", mse) \n",
    "print(\"Root Mean Squared Error : \", np.sqrt(mse))\n",
    "print(\"R2 Score : \", r2score) "
   ]
  },
  {
   "cell_type": "markdown",
   "id": "68525170",
   "metadata": {},
   "source": [
    "#### for data_with_area"
   ]
  },
  {
   "cell_type": "code",
   "execution_count": 87,
   "id": "fdc37bf9",
   "metadata": {},
   "outputs": [
    {
     "name": "stdout",
     "output_type": "stream",
     "text": [
      "Coefficient of Determination for train data :  0.9843803833981335\n",
      "Coefficient of Determination for test data :  0.8852684496778318\n",
      "Mean Absolute Error :  0.05927365646304783\n",
      "Mean Squared Error :  0.01798183101349804\n",
      "Root Mean Squared Error :  0.13409634973964818\n",
      "R2 Score :  0.8852684496778318\n"
     ]
    }
   ],
   "source": [
    "mae =  mean_absolute_error(Y2_test, Y_rf2)\n",
    "mse = mean_squared_error(Y2_test, Y_rf2)\n",
    "r2score = r2_score(Y2_test, Y_rf2)\n",
    "\n",
    "print(\"Coefficient of Determination for train data : \",rf2.score(X2_train, Y2_train))\n",
    "print(\"Coefficient of Determination for test data : \",rf2.score(X2_test, Y2_test))\n",
    "print(\"Mean Absolute Error : \", mae)\n",
    "print(\"Mean Squared Error : \", mse) \n",
    "print(\"Root Mean Squared Error : \", np.sqrt(mse))\n",
    "print(\"R2 Score : \", r2score) "
   ]
  },
  {
   "cell_type": "markdown",
   "id": "177a7ff6",
   "metadata": {},
   "source": [
    "### Decision Tree Regression Model"
   ]
  },
  {
   "cell_type": "markdown",
   "id": "2276f207",
   "metadata": {},
   "source": [
    "#### for data_with_location"
   ]
  },
  {
   "cell_type": "code",
   "execution_count": 88,
   "id": "14dd4770",
   "metadata": {},
   "outputs": [
    {
     "name": "stdout",
     "output_type": "stream",
     "text": [
      "Coefficient of Determination for train data :  0.998763195049567\n",
      "Coefficient of Determination for test data :  0.915226073123932\n",
      "Mean Absolute Error :  0.025781233999053313\n",
      "Mean Squared Error :  0.013368085129744653\n",
      "Root Mean Squared Error :  0.11562043560610145\n",
      "R2 Score :  0.915226073123932\n"
     ]
    }
   ],
   "source": [
    "mae =  mean_absolute_error(Y1_test, Y_dt1)\n",
    "mse = mean_squared_error(Y1_test, Y_dt1)\n",
    "r2score = r2_score(Y1_test, Y_dt1)\n",
    "\n",
    "print(\"Coefficient of Determination for train data : \",dt1.score(X1_train, Y1_train))\n",
    "print(\"Coefficient of Determination for test data : \",dt1.score(X1_test, Y1_test))\n",
    "print(\"Mean Absolute Error : \", mae)\n",
    "print(\"Mean Squared Error : \", mse) \n",
    "print(\"Root Mean Squared Error : \", np.sqrt(mse))\n",
    "print(\"R2 Score : \", r2score) "
   ]
  },
  {
   "cell_type": "markdown",
   "id": "d44f9b66",
   "metadata": {},
   "source": [
    "#### for data_with_area"
   ]
  },
  {
   "cell_type": "code",
   "execution_count": 89,
   "id": "0ae75b76",
   "metadata": {},
   "outputs": [
    {
     "name": "stdout",
     "output_type": "stream",
     "text": [
      "Coefficient of Determination for train data :  0.9992833408296304\n",
      "Coefficient of Determination for test data :  0.8257348240000388\n",
      "Mean Absolute Error :  0.045042591816846604\n",
      "Mean Squared Error :  0.027312512883941455\n",
      "Root Mean Squared Error :  0.1652649777900371\n",
      "R2 Score :  0.8257348240000388\n"
     ]
    }
   ],
   "source": [
    "mae =  mean_absolute_error(Y2_test, Y_dt2)\n",
    "mse = mean_squared_error(Y2_test, Y_dt2)\n",
    "r2score = r2_score(Y2_test, Y_dt2)\n",
    "\n",
    "\n",
    "print(\"Coefficient of Determination for train data : \",dt2.score(X2_train, Y2_train))\n",
    "print(\"Coefficient of Determination for test data : \",dt2.score(X2_test, Y2_test))\n",
    "print(\"Mean Absolute Error : \", mae)\n",
    "print(\"Mean Squared Error : \", mse) \n",
    "print(\"Root Mean Squared Error : \", np.sqrt(mse))\n",
    "print(\"R2 Score : \", r2score) "
   ]
  },
  {
   "cell_type": "markdown",
   "id": "f069d756",
   "metadata": {},
   "source": [
    "<b><h3>Conclusion:</h3></b>\n",
    "<ul>\n",
    "<li>Three models had been trained, namely Multiple Linear Regression, Random Forest Regression and Decision Tree Regression respectively.\n",
    "<li>Based on the analysis, the best model for prediction is Random Forest Regression Model.\n",
    "    <li>We will be using <b>Random Forest Regression Model for data with location</b> for our prediction system.\n",
    "<li> The Accuracy of the selected model is 91%.\n",
    "</ul>"
   ]
  },
  {
   "cell_type": "markdown",
   "id": "b473dd07",
   "metadata": {},
   "source": [
    "## Saving the Model"
   ]
  },
  {
   "cell_type": "code",
   "execution_count": 90,
   "id": "b9fd31cc",
   "metadata": {},
   "outputs": [],
   "source": [
    "import pickle"
   ]
  },
  {
   "cell_type": "code",
   "execution_count": 91,
   "id": "87b0c40f",
   "metadata": {},
   "outputs": [],
   "source": [
    "with open('rate_predict.pkl', 'wb') as file:\n",
    "    pickle.dump(rf1, file)"
   ]
  }
 ],
 "metadata": {
  "kernelspec": {
   "display_name": "Python 3",
   "language": "python",
   "name": "python3"
  },
  "language_info": {
   "codemirror_mode": {
    "name": "ipython",
    "version": 3
   },
   "file_extension": ".py",
   "mimetype": "text/x-python",
   "name": "python",
   "nbconvert_exporter": "python",
   "pygments_lexer": "ipython3",
   "version": "3.9.7"
  }
 },
 "nbformat": 4,
 "nbformat_minor": 5
}
